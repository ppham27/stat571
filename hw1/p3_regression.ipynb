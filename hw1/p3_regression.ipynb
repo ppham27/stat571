{
 "cells": [
  {
   "cell_type": "markdown",
   "metadata": {},
   "source": [
    "# Regression Models and Simulation for Problem 3"
   ]
  },
  {
   "cell_type": "code",
   "execution_count": 1,
   "metadata": {},
   "outputs": [],
   "source": [
    "import matplotlib.pyplot as plt\n",
    "import numpy as np\n",
    "import pandas as pd\n",
    "from scipy import linalg\n",
    "from scipy import stats"
   ]
  },
  {
   "cell_type": "code",
   "execution_count": 2,
   "metadata": {},
   "outputs": [
    {
     "data": {
      "text/html": [
       "<div>\n",
       "<style scoped>\n",
       "    .dataframe tbody tr th:only-of-type {\n",
       "        vertical-align: middle;\n",
       "    }\n",
       "\n",
       "    .dataframe tbody tr th {\n",
       "        vertical-align: top;\n",
       "    }\n",
       "\n",
       "    .dataframe thead th {\n",
       "        text-align: right;\n",
       "    }\n",
       "</style>\n",
       "<table border=\"1\" class=\"dataframe\">\n",
       "  <thead>\n",
       "    <tr style=\"text-align: right;\">\n",
       "      <th></th>\n",
       "      <th>subj</th>\n",
       "      <th>base.age</th>\n",
       "      <th>delta.age</th>\n",
       "      <th>total.age</th>\n",
       "      <th>literacy</th>\n",
       "      <th>follow.per</th>\n",
       "    </tr>\n",
       "  </thead>\n",
       "  <tbody>\n",
       "    <tr>\n",
       "      <th>count</th>\n",
       "      <td>13.00000</td>\n",
       "      <td>13.00000</td>\n",
       "      <td>13.000000</td>\n",
       "      <td>13.000000</td>\n",
       "      <td>13.000000</td>\n",
       "      <td>13.0</td>\n",
       "    </tr>\n",
       "    <tr>\n",
       "      <th>mean</th>\n",
       "      <td>7.00000</td>\n",
       "      <td>7.00000</td>\n",
       "      <td>2.218935</td>\n",
       "      <td>9.218935</td>\n",
       "      <td>52.103420</td>\n",
       "      <td>1.0</td>\n",
       "    </tr>\n",
       "    <tr>\n",
       "      <th>std</th>\n",
       "      <td>3.89444</td>\n",
       "      <td>3.89444</td>\n",
       "      <td>0.879002</td>\n",
       "      <td>3.019735</td>\n",
       "      <td>49.541677</td>\n",
       "      <td>0.0</td>\n",
       "    </tr>\n",
       "    <tr>\n",
       "      <th>min</th>\n",
       "      <td>1.00000</td>\n",
       "      <td>1.00000</td>\n",
       "      <td>1.000000</td>\n",
       "      <td>4.698225</td>\n",
       "      <td>0.120457</td>\n",
       "      <td>1.0</td>\n",
       "    </tr>\n",
       "    <tr>\n",
       "      <th>25%</th>\n",
       "      <td>4.00000</td>\n",
       "      <td>4.00000</td>\n",
       "      <td>1.514793</td>\n",
       "      <td>6.863905</td>\n",
       "      <td>10.463912</td>\n",
       "      <td>1.0</td>\n",
       "    </tr>\n",
       "    <tr>\n",
       "      <th>50%</th>\n",
       "      <td>7.00000</td>\n",
       "      <td>7.00000</td>\n",
       "      <td>2.136095</td>\n",
       "      <td>9.136095</td>\n",
       "      <td>38.377584</td>\n",
       "      <td>1.0</td>\n",
       "    </tr>\n",
       "    <tr>\n",
       "      <th>75%</th>\n",
       "      <td>10.00000</td>\n",
       "      <td>10.00000</td>\n",
       "      <td>2.863905</td>\n",
       "      <td>11.514793</td>\n",
       "      <td>84.414795</td>\n",
       "      <td>1.0</td>\n",
       "    </tr>\n",
       "    <tr>\n",
       "      <th>max</th>\n",
       "      <td>13.00000</td>\n",
       "      <td>13.00000</td>\n",
       "      <td>3.698225</td>\n",
       "      <td>14.000000</td>\n",
       "      <td>147.606099</td>\n",
       "      <td>1.0</td>\n",
       "    </tr>\n",
       "  </tbody>\n",
       "</table>\n",
       "</div>"
      ],
      "text/plain": [
       "           subj  base.age  delta.age  total.age    literacy  follow.per\n",
       "count  13.00000  13.00000  13.000000  13.000000   13.000000        13.0\n",
       "mean    7.00000   7.00000   2.218935   9.218935   52.103420         1.0\n",
       "std     3.89444   3.89444   0.879002   3.019735   49.541677         0.0\n",
       "min     1.00000   1.00000   1.000000   4.698225    0.120457         1.0\n",
       "25%     4.00000   4.00000   1.514793   6.863905   10.463912         1.0\n",
       "50%     7.00000   7.00000   2.136095   9.136095   38.377584         1.0\n",
       "75%    10.00000  10.00000   2.863905  11.514793   84.414795         1.0\n",
       "max    13.00000  13.00000   3.698225  14.000000  147.606099         1.0"
      ]
     },
     "execution_count": 2,
     "metadata": {},
     "output_type": "execute_result"
    },
    {
     "data": {
      "image/png": "[encoded data removed]",
      "text/plain": [
       "<Figure size 432x270 with 1 Axes>"
      ]
     },
     "metadata": {
      "needs_background": "light"
     },
     "output_type": "display_data"
    }
   ],
   "source": [
    "computer_data = pd.read_csv('./computer-data-hw1.csv')\n",
    "\n",
    "fig = plt.figure(figsize=(6, 3.75))\n",
    "ax = fig.gca()\n",
    "ax.grid(True)\n",
    "\n",
    "for i, subject in enumerate(computer_data['subj'].unique()):\n",
    "    sub_data = computer_data[computer_data['subj'] == subject]\n",
    "    ax.plot(sub_data['total.age'], sub_data['literacy'].values, '-k')\n",
    "\n",
    "for i, follow_per in enumerate(computer_data['follow.per'].unique()):\n",
    "    sub_data = computer_data[computer_data['follow.per'] == follow_per]\n",
    "    ax.plot(sub_data['total.age'], sub_data['literacy'],\n",
    "            'o', color=plt.cm.Set1(i), label='{}'.format(follow_per))\n",
    "    \n",
    "ax.set_xlabel('Age')\n",
    "ax.set_ylabel('Literacy')\n",
    "ax.set_title('Longitudal Subject Literacy Scores')\n",
    "ax.legend(title='Follow Period')\n",
    "fig.tight_layout()\n",
    "fig.savefig('p3_data.pdf', bbox_inches='tight')\n",
    "\n",
    "computer_data.head(n=10)\n",
    "computer_data[computer_data['follow.per'] == 1].describe()"
   ]
  },
  {
   "cell_type": "code",
   "execution_count": 3,
   "metadata": {},
   "outputs": [],
   "source": [
    "def fit_ols(X, y):\n",
    "    gram_matrix = X.T.dot(X)\n",
    "    gram_matrix_inv = linalg.cho_solve(linalg.cho_factor(gram_matrix), np.eye(len(gram_matrix)))    \n",
    "    beta_hat = gram_matrix_inv.dot(X.T).dot(y)\n",
    "    sigma_2_hat = np.sum(np.square(y - X.dot(beta_hat)))/(len(y) - len(beta_hat))\n",
    "    return beta_hat, gram_matrix_inv*sigma_2_hat, sigma_2_hat"
   ]
  },
  {
   "cell_type": "code",
   "execution_count": 4,
   "metadata": {},
   "outputs": [
    {
     "data": {
      "text/plain": [
       "(array([133.02690855, -11.9680251 ,   1.24721578]),\n",
       " array([[35.38965932, -3.08971504, -4.28560487],\n",
       "        [-3.08971504,  0.36085295,  0.25406082],\n",
       "        [-4.28560487,  0.25406082,  1.12990206]]),\n",
       " 165.83485669258215)"
      ]
     },
     "execution_count": 4,
     "metadata": {},
     "output_type": "execute_result"
    }
   ],
   "source": [
    "def fit_original(data):\n",
    "    X = np.column_stack((np.ones(len(data)), data[['base.age', 'delta.age']].values))\n",
    "    y = data['literacy'].values\n",
    "    return fit_ols(X, y)\n",
    "\n",
    "fit_original(computer_data)"
   ]
  },
  {
   "cell_type": "code",
   "execution_count": 5,
   "metadata": {},
   "outputs": [
    {
     "data": {
      "text/plain": [
       "(array([1.02185154]), array([[0.00105099]]), 0.3850802073163594)"
      ]
     },
     "execution_count": 5,
     "metadata": {},
     "output_type": "execute_result"
    }
   ],
   "source": [
    "def fit_alternative(data):\n",
    "    sub_data = data[data['follow.per'] == 0][['subj', 'literacy']]\n",
    "    sub_data = pd.merge(data, sub_data.rename(columns={'literacy': 'base.literacy'}))\n",
    "    sub_data = sub_data[sub_data['follow.per'] != 0]\n",
    "    X = sub_data[['delta.age']].values\n",
    "    y = sub_data['literacy'].values - sub_data['base.literacy'].values\n",
    "    return fit_ols(X, y)\n",
    "\n",
    "fit_alternative(computer_data)"
   ]
  },
  {
   "cell_type": "markdown",
   "metadata": {},
   "source": [
    "## Simulations"
   ]
  },
  {
   "cell_type": "code",
   "execution_count": 6,
   "metadata": {},
   "outputs": [],
   "source": [
    "def make_covariates(n):\n",
    "    X = []\n",
    "    for i in range(n):\n",
    "        base_age = stats.uniform.rvs(0, 15)\n",
    "        X.append([i, base_age, 0, 0])\n",
    "        \n",
    "        for j in range(2):\n",
    "            delta_age = stats.norm.rvs(3 + j*3, scale=0.5)\n",
    "            X.append([i, base_age, delta_age, j + 1])\n",
    "            \n",
    "    return pd.DataFrame(X, columns=['subj', 'base.age', 'delta.age', 'follow.per'])\n",
    "\n",
    "def make_independent_covariates(n):    \n",
    "    subj = {}\n",
    "    X = []\n",
    "    for i in range(n):\n",
    "        base_age = stats.uniform.rvs(0, 15)\n",
    "        X.append([i, base_age, 0, 0])\n",
    "        subj[i] = {'follow_per': 0, 'base_age': base_age}\n",
    "        \n",
    "    for j in range(n*2):\n",
    "        i = stats.randint.rvs(low=0, high=n)\n",
    "        subj[i]['follow_per'] += 1\n",
    "        X.append([i, subj[i]['base_age'], stats.uniform.rvs(0, 10), subj[i]['follow_per']])\n",
    "    \n",
    "    return pd.DataFrame(X, columns=['subj', 'base.age', 'delta.age', 'follow.per'])\n",
    "\n",
    "def make_response(data, f):\n",
    "    data = data.copy()\n",
    "    data['literacy'] = stats.norm.rvs(f(data['base.age']) + 2*data['delta.age'], scale=1)\n",
    "    return data"
   ]
  },
  {
   "cell_type": "code",
   "execution_count": 7,
   "metadata": {},
   "outputs": [],
   "source": [
    "np.random.seed(2020)\n",
    "simulated_data = make_covariates(64)"
   ]
  },
  {
   "cell_type": "markdown",
   "metadata": {},
   "source": [
    "### Both Assumptions Violated"
   ]
  },
  {
   "cell_type": "code",
   "execution_count": 8,
   "metadata": {},
   "outputs": [
    {
     "data": {
      "text/plain": [
       "(array([31.96619861, -3.20229314,  2.16353098]), array([2.00158068]))"
      ]
     },
     "execution_count": 8,
     "metadata": {},
     "output_type": "execute_result"
    }
   ],
   "source": [
    "beta_hat_original_estimates = []\n",
    "beta_hat_alternative_estimates = []\n",
    "\n",
    "for i in range(100):\n",
    "    response_data = make_response(simulated_data, lambda x: 200*np.exp(-x))\n",
    "    beta_hat, beta_hat_variance, sigma_2_hat = fit_original(response_data)\n",
    "    beta_hat_original_estimates.append(beta_hat)\n",
    "    \n",
    "    beta_hat, beta_hat_variance, sigma_2_hat = fit_alternative(response_data)\n",
    "    beta_hat_alternative_estimates.append(beta_hat)\n",
    "\n",
    "    \n",
    "np.mean(beta_hat_original_estimates, 0), np.mean(beta_hat_alternative_estimates, 0)"
   ]
  },
  {
   "cell_type": "markdown",
   "metadata": {},
   "source": [
    "### Linear $f$ but Dependent Covariates\n",
    "\n",
    "Only the Part (b) condition is now violated."
   ]
  },
  {
   "cell_type": "code",
   "execution_count": 9,
   "metadata": {},
   "outputs": [
    {
     "data": {
      "text/plain": [
       "(array([200.00853446, -11.9993114 ,   1.99779186]), array([1.99509547]))"
      ]
     },
     "execution_count": 9,
     "metadata": {},
     "output_type": "execute_result"
    }
   ],
   "source": [
    "beta_hat_original_estimates = []\n",
    "beta_hat_alternative_estimates = []\n",
    "\n",
    "for i in range(100):\n",
    "    response_data = make_response(simulated_data, lambda x: 200 - 12*x)\n",
    "    beta_hat, beta_hat_variance, sigma_2_hat = fit_original(response_data)\n",
    "    beta_hat_original_estimates.append(beta_hat)\n",
    "    \n",
    "    beta_hat, beta_hat_variance, sigma_2_hat = fit_alternative(response_data)\n",
    "    beta_hat_alternative_estimates.append(beta_hat)\n",
    "\n",
    "    \n",
    "np.mean(beta_hat_original_estimates, 0), np.mean(beta_hat_alternative_estimates, 0)"
   ]
  },
  {
   "cell_type": "markdown",
   "metadata": {},
   "source": [
    "### Non-linear $f$ but Independent Covariates\n",
    "\n",
    "Only the Part (a) condition is violated now."
   ]
  },
  {
   "cell_type": "code",
   "execution_count": 10,
   "metadata": {},
   "outputs": [
    {
     "data": {
      "text/plain": [
       "(array([47.92338712, -4.63105486,  1.99852915]), array([2.00052851]))"
      ]
     },
     "execution_count": 10,
     "metadata": {},
     "output_type": "execute_result"
    }
   ],
   "source": [
    "beta_hat_original_estimates = []\n",
    "beta_hat_alternative_estimates = []\n",
    "\n",
    "np.random.seed(2019)\n",
    "for i in range(1024):\n",
    "    simulated_data = make_independent_covariates(64)\n",
    "    response_data = make_response(simulated_data, lambda x: 200*np.exp(-x))\n",
    "    beta_hat, beta_hat_variance, sigma_2_hat = fit_original(response_data)\n",
    "    beta_hat_original_estimates.append(beta_hat)\n",
    "    \n",
    "    beta_hat, beta_hat_variance, sigma_2_hat = fit_alternative(response_data)\n",
    "    beta_hat_alternative_estimates.append(beta_hat)\n",
    "    \n",
    "np.mean(beta_hat_original_estimates, 0), np.mean(beta_hat_alternative_estimates, 0)"
   ]
  },
  {
   "cell_type": "markdown",
   "metadata": {},
   "source": [
    "### Standard Error Simulations"
   ]
  },
  {
   "cell_type": "code",
   "execution_count": 11,
   "metadata": {},
   "outputs": [
    {
     "data": {
      "text/plain": [
       "(0.98095703125, 0.9775390625)"
      ]
     },
     "execution_count": 11,
     "metadata": {},
     "output_type": "execute_result"
    }
   ],
   "source": [
    "beta_hat_estimates = []\n",
    "beta_hat_l_variances = []\n",
    "is_covered = []\n",
    "is_covered_sandwich = []\n",
    "\n",
    "np.random.seed(2019)\n",
    "for i in range(2048):\n",
    "    simulated_data = make_independent_covariates(64)\n",
    "    response_data = make_response(simulated_data, lambda x: 200*np.exp(-x))\n",
    "    beta_hat, beta_hat_variance, sigma_2_hat = fit_original(response_data)\n",
    "    \n",
    "    X = np.column_stack((np.ones(len(response_data)), response_data[['base.age', 'delta.age']].values))\n",
    "    y = response_data['literacy']\n",
    "    \n",
    "    gram_inverse = beta_hat_variance/sigma_2_hat\n",
    "    sandwich_variance = X.T.dot(np.diag(np.square(y - X.dot(beta_hat)))).dot(X)\n",
    "    sandwich_variance = gram_inverse.dot(sandwich_variance).dot(gram_inverse)\n",
    "    \n",
    "    beta_hat_estimates.append(beta_hat)\n",
    "    beta_hat_l_variances.append(beta_hat_variance[2,2])    \n",
    "    is_covered.append(np.abs(beta_hat[2] - 2) <= stats.norm.ppf(0.975)*np.sqrt(beta_hat_variance[2,2]))\n",
    "    is_covered_sandwich.append(np.abs(beta_hat[2] - 2) <= stats.norm.ppf(0.975)*np.sqrt(sandwich_variance[2,2]))\n",
    "        \n",
    "np.sum(is_covered)/len(is_covered), np.sum(is_covered_sandwich)/len(is_covered_sandwich)"
   ]
  }
 ],
 "metadata": {
  "kernelspec": {
   "display_name": "Python 3",
   "language": "python",
   "name": "python3"
  },
  "language_info": {
   "codemirror_mode": {
    "name": "ipython",
    "version": 3
   },
   "file_extension": ".py",
   "mimetype": "text/x-python",
   "name": "python",
   "nbconvert_exporter": "python",
   "pygments_lexer": "ipython3",
   "version": "3.5.2"
  }
 },
 "nbformat": 4,
 "nbformat_minor": 2
}
