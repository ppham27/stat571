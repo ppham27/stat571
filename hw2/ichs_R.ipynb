{
 "cells": [
  {
   "cell_type": "markdown",
   "metadata": {},
   "source": [
    "# Fitting Various Models in R"
   ]
  },
  {
   "cell_type": "code",
   "execution_count": 1,
   "metadata": {},
   "outputs": [
    {
     "name": "stderr",
     "output_type": "stream",
     "text": [
      "Loading required package: stats4\n",
      "Loading required package: splines\n"
     ]
    },
    {
     "data": {
      "text/html": [
       "<table>\n",
       "<thead><tr><th scope=col>id</th><th scope=col>gender</th><th scope=col>height</th><th scope=col>cosv</th><th scope=col>sinv</th><th scope=col>xero</th><th scope=col>baseage</th><th scope=col>age</th><th scope=col>infect</th></tr></thead>\n",
       "<tbody>\n",
       "\t<tr><td>121013</td><td>0     </td><td>-3    </td><td>-1    </td><td> 0    </td><td>0     </td><td>31    </td><td>31    </td><td>0     </td></tr>\n",
       "\t<tr><td>121013</td><td>0     </td><td>-3    </td><td> 0    </td><td>-1    </td><td>0     </td><td>31    </td><td>34    </td><td>0     </td></tr>\n",
       "\t<tr><td>121013</td><td>0     </td><td>-2    </td><td> 1    </td><td> 0    </td><td>0     </td><td>31    </td><td>37    </td><td>0     </td></tr>\n",
       "\t<tr><td>121013</td><td>0     </td><td>-2    </td><td> 0    </td><td> 1    </td><td>0     </td><td>31    </td><td>40    </td><td>0     </td></tr>\n",
       "\t<tr><td>121013</td><td>0     </td><td>-2    </td><td>-1    </td><td> 0    </td><td>0     </td><td>31    </td><td>43    </td><td>1     </td></tr>\n",
       "\t<tr><td>121013</td><td>0     </td><td>-3    </td><td> 0    </td><td>-1    </td><td>0     </td><td>31    </td><td>46    </td><td>0     </td></tr>\n",
       "</tbody>\n",
       "</table>\n"
      ],
      "text/latex": [
       "\\begin{tabular}{r|lllllllll}\n",
       " id & gender & height & cosv & sinv & xero & baseage & age & infect\\\\\n",
       "\\hline\n",
       "\t 121013 & 0      & -3     & -1     &  0     & 0      & 31     & 31     & 0     \\\\\n",
       "\t 121013 & 0      & -3     &  0     & -1     & 0      & 31     & 34     & 0     \\\\\n",
       "\t 121013 & 0      & -2     &  1     &  0     & 0      & 31     & 37     & 0     \\\\\n",
       "\t 121013 & 0      & -2     &  0     &  1     & 0      & 31     & 40     & 0     \\\\\n",
       "\t 121013 & 0      & -2     & -1     &  0     & 0      & 31     & 43     & 1     \\\\\n",
       "\t 121013 & 0      & -3     &  0     & -1     & 0      & 31     & 46     & 0     \\\\\n",
       "\\end{tabular}\n"
      ],
      "text/markdown": [
       "\n",
       "id | gender | height | cosv | sinv | xero | baseage | age | infect | \n",
       "|---|---|---|---|---|---|\n",
       "| 121013 | 0      | -3     | -1     |  0     | 0      | 31     | 31     | 0      | \n",
       "| 121013 | 0      | -3     |  0     | -1     | 0      | 31     | 34     | 0      | \n",
       "| 121013 | 0      | -2     |  1     |  0     | 0      | 31     | 37     | 0      | \n",
       "| 121013 | 0      | -2     |  0     |  1     | 0      | 31     | 40     | 0      | \n",
       "| 121013 | 0      | -2     | -1     |  0     | 0      | 31     | 43     | 1      | \n",
       "| 121013 | 0      | -3     |  0     | -1     | 0      | 31     | 46     | 0      | \n",
       "\n",
       "\n"
      ],
      "text/plain": [
       "  id     gender height cosv sinv xero baseage age infect\n",
       "1 121013 0      -3     -1    0   0    31      31  0     \n",
       "2 121013 0      -3      0   -1   0    31      34  0     \n",
       "3 121013 0      -2      1    0   0    31      37  0     \n",
       "4 121013 0      -2      0    1   0    31      40  0     \n",
       "5 121013 0      -2     -1    0   0    31      43  1     \n",
       "6 121013 0      -3      0   -1   0    31      46  0     "
      ]
     },
     "metadata": {},
     "output_type": "display_data"
    }
   ],
   "source": [
    "library(data.table)\n",
    "library(MASS)\n",
    "library(VGAM)\n",
    "\n",
    "ichs.data <- data.table(read.table('ichs.txt'))\n",
    "head(ichs.data)"
   ]
  },
  {
   "cell_type": "code",
   "execution_count": 2,
   "metadata": {},
   "outputs": [
    {
     "data": {
      "text/plain": [
       "\n",
       "Call:\n",
       "glm(formula = infect ~ 1, family = quasibinomial, data = ichs.data)\n",
       "\n",
       "Deviance Residuals: \n",
       "    Min       1Q   Median       3Q      Max  \n",
       "-0.4322  -0.4322  -0.4322  -0.4322   2.1987  \n",
       "\n",
       "Coefficients:\n",
       "            Estimate Std. Error t value Pr(>|t|)    \n",
       "(Intercept)  -2.3239     0.1013  -22.93   <2e-16 ***\n",
       "---\n",
       "Signif. codes:  0 '***' 0.001 '**' 0.01 '*' 0.05 '.' 0.1 ' ' 1\n",
       "\n",
       "(Dispersion parameter for quasibinomial family taken to be 1.000834)\n",
       "\n",
       "    Null deviance: 721.45  on 1199  degrees of freedom\n",
       "Residual deviance: 721.45  on 1199  degrees of freedom\n",
       "AIC: NA\n",
       "\n",
       "Number of Fisher Scoring iterations: 5\n"
      ]
     },
     "metadata": {},
     "output_type": "display_data"
    }
   ],
   "source": [
    "bernoulli.model <- glm(infect ~ 1, data=ichs.data, family = quasibinomial)\n",
    "summary(bernoulli.model)"
   ]
  },
  {
   "cell_type": "code",
   "execution_count": 3,
   "metadata": {},
   "outputs": [
    {
     "data": {
      "text/plain": [
       "\n",
       "Call:\n",
       "glm(formula = cbind(infect, n - infect) ~ 1, family = quasibinomial, \n",
       "    data = ichs.data[, list(n = length(infect), infect = sum(infect)), \n",
       "        by = .(id)])\n",
       "\n",
       "Deviance Residuals: \n",
       "    Min       1Q   Median       3Q      Max  \n",
       "-1.0587  -1.0587  -0.7486   0.6014   4.3975  \n",
       "\n",
       "Coefficients:\n",
       "            Estimate Std. Error t value Pr(>|t|)    \n",
       "(Intercept)  -2.3239     0.1175  -19.77   <2e-16 ***\n",
       "---\n",
       "Signif. codes:  0 '***' 0.001 '**' 0.01 '*' 0.05 '.' 0.1 ' ' 1\n",
       "\n",
       "(Dispersion parameter for quasibinomial family taken to be 1.346287)\n",
       "\n",
       "    Null deviance: 312.47  on 274  degrees of freedom\n",
       "Residual deviance: 312.47  on 274  degrees of freedom\n",
       "AIC: NA\n",
       "\n",
       "Number of Fisher Scoring iterations: 5\n"
      ]
     },
     "metadata": {},
     "output_type": "display_data"
    }
   ],
   "source": [
    "binomial.model <- glm(\n",
    "    cbind(infect, n - infect) ~ 1, family = quasibinomial,\n",
    "    data=ichs.data[,list(n=length(infect), infect=sum(infect)),by=.(id)])\n",
    "summary(binomial.model)"
   ]
  },
  {
   "cell_type": "code",
   "execution_count": 4,
   "metadata": {},
   "outputs": [
    {
     "name": "stderr",
     "output_type": "stream",
     "text": [
      "Warning message in checkwz(wz, M, trace = trace, wzepsilon = control$wzepsilon):\n",
      "\"22 diagonal elements of the working weights variable 'wz' have been replaced by 1.819e-12\"Warning message in checkwz(wz, M = M, trace = trace, wzepsilon = control$wzepsilon):\n",
      "\"22 diagonal elements of the working weights variable 'wz' have been replaced by 1.819e-12\"Warning message in checkwz(wz, M = M, trace = trace, wzepsilon = control$wzepsilon):\n",
      "\"22 diagonal elements of the working weights variable 'wz' have been replaced by 1.819e-12\""
     ]
    },
    {
     "data": {
      "text/plain": [
       "\n",
       "Call:\n",
       "vglm(formula = cbind(infect, n - infect) ~ 1, family = betabinomial, \n",
       "    data = ichs.data[, list(n = length(infect), infect = sum(infect)), \n",
       "        by = .(id)])\n",
       "\n",
       "\n",
       "Pearson residuals:\n",
       "               Min         1Q  Median     3Q    Max\n",
       "logit(mu)  -0.7131 -7.131e-01 -0.5279 0.8009  4.098\n",
       "logit(rho) -1.2916  2.847e-11  0.1347 0.2801 11.956\n",
       "\n",
       "Coefficients: \n",
       "              Estimate Std. Error z value Pr(>|z|)    \n",
       "(Intercept):1  -2.3117     0.1159  -19.95  < 2e-16 ***\n",
       "(Intercept):2  -2.4126     0.4188   -5.76  8.4e-09 ***\n",
       "---\n",
       "Signif. codes:  0 '***' 0.001 '**' 0.01 '*' 0.05 '.' 0.1 ' ' 1\n",
       "\n",
       "Number of linear predictors:  2 \n",
       "\n",
       "Names of linear predictors: logit(mu), logit(rho)\n",
       "\n",
       "Log-likelihood: -221.2778 on 548 degrees of freedom\n",
       "\n",
       "Number of iterations: 3 \n",
       "\n",
       "Warning: Hauck-Donner effect detected in the following estimate(s):\n",
       "'(Intercept):2'"
      ]
     },
     "metadata": {},
     "output_type": "display_data"
    }
   ],
   "source": [
    "beta.binomial.model <- vglm(\n",
    "    cbind(infect, n - infect) ~ 1, family = betabinomial,\n",
    "    data=ichs.data[,list(n=length(infect), infect=sum(infect)),by=.(id)])\n",
    "summary(beta.binomial.model)"
   ]
  },
  {
   "cell_type": "code",
   "execution_count": 5,
   "metadata": {},
   "outputs": [
    {
     "data": {
      "text/plain": [
       "\n",
       "Call:\n",
       "glm(formula = cbind(infect, n - infect) ~ 1 + baseage, family = quasibinomial, \n",
       "    data = ichs.data[, list(n = length(infect), infect = sum(infect), \n",
       "        baseage = mean(baseage)), by = .(id)])\n",
       "\n",
       "Deviance Residuals: \n",
       "    Min       1Q   Median       3Q      Max  \n",
       "-1.4390  -0.8773  -0.5940   0.3292   4.1245  \n",
       "\n",
       "Coefficients:\n",
       "             Estimate Std. Error t value Pr(>|t|)    \n",
       "(Intercept) -2.549413   0.135822 -18.770  < 2e-16 ***\n",
       "baseage     -0.027499   0.006375  -4.314 2.25e-05 ***\n",
       "---\n",
       "Signif. codes:  0 '***' 0.001 '**' 0.01 '*' 0.05 '.' 0.1 ' ' 1\n",
       "\n",
       "(Dispersion parameter for quasibinomial family taken to be 1.196207)\n",
       "\n",
       "    Null deviance: 312.47  on 274  degrees of freedom\n",
       "Residual deviance: 287.74  on 273  degrees of freedom\n",
       "AIC: NA\n",
       "\n",
       "Number of Fisher Scoring iterations: 5\n"
      ]
     },
     "metadata": {},
     "output_type": "display_data"
    }
   ],
   "source": [
    "binomial.model <- glm(\n",
    "    cbind(infect, n - infect) ~ 1 + baseage, family = quasibinomial,\n",
    "    data=ichs.data[,list(n=length(infect), infect=sum(infect), baseage=mean(baseage)),by=.(id)])\n",
    "summary(binomial.model)"
   ]
  },
  {
   "cell_type": "code",
   "execution_count": 6,
   "metadata": {},
   "outputs": [
    {
     "name": "stderr",
     "output_type": "stream",
     "text": [
      "Warning message in checkwz(wz, M, trace = trace, wzepsilon = control$wzepsilon):\n",
      "\"22 diagonal elements of the working weights variable 'wz' have been replaced by 1.819e-12\"Warning message in checkwz(wz, M = M, trace = trace, wzepsilon = control$wzepsilon):\n",
      "\"22 diagonal elements of the working weights variable 'wz' have been replaced by 1.819e-12\"Warning message in checkwz(wz, M = M, trace = trace, wzepsilon = control$wzepsilon):\n",
      "\"22 diagonal elements of the working weights variable 'wz' have been replaced by 1.819e-12\"Warning message in checkwz(wz, M = M, trace = trace, wzepsilon = control$wzepsilon):\n",
      "\"22 diagonal elements of the working weights variable 'wz' have been replaced by 1.819e-12\"Warning message in checkwz(wz, M = M, trace = trace, wzepsilon = control$wzepsilon):\n",
      "\"22 diagonal elements of the working weights variable 'wz' have been replaced by 1.819e-12\"Warning message in checkwz(wz, M = M, trace = trace, wzepsilon = control$wzepsilon):\n",
      "\"22 diagonal elements of the working weights variable 'wz' have been replaced by 1.819e-12\"Warning message in matrix.power(wz, M = M, power = 0.5, fast = TRUE):\n",
      "\"Some weight matrices have negative eigenvalues. They will be assigned NAs\"Warning message in matrix.power(wz, M = M, power = 0.5, fast = TRUE):\n",
      "\"Some weight matrices have negative eigenvalues. They will be assigned NAs\""
     ]
    },
    {
     "data": {
      "text/plain": [
       "\n",
       "Call:\n",
       "vglm(formula = cbind(infect, n - infect) ~ 1 + baseage, family = betabinomial, \n",
       "    data = ichs.data[, list(n = length(infect), infect = sum(infect), \n",
       "        baseage = mean(baseage)), by = .(id)])\n",
       "\n",
       "\n",
       "Coefficients: \n",
       "               Estimate Std. Error z value Pr(>|z|)    \n",
       "(Intercept):1 -2.520914   0.135098 -18.660  < 2e-16 ***\n",
       "(Intercept):2 -2.707920   0.507098  -5.340 9.29e-08 ***\n",
       "baseage       -0.026456   0.006302  -4.198 2.69e-05 ***\n",
       "---\n",
       "Signif. codes:  0 '***' 0.001 '**' 0.01 '*' 0.05 '.' 0.1 ' ' 1\n",
       "\n",
       "Number of linear predictors:  2 \n",
       "\n",
       "Names of linear predictors: logit(mu), logit(rho)\n",
       "\n",
       "Log-likelihood: -211.5263 on 547 degrees of freedom\n",
       "\n",
       "Number of iterations: 6 \n",
       "\n",
       "Warning: Hauck-Donner effect detected in the following estimate(s):\n",
       "'(Intercept):1', '(Intercept):2'"
      ]
     },
     "metadata": {},
     "output_type": "display_data"
    }
   ],
   "source": [
    "beta.binomial.model <- vglm(\n",
    "    cbind(infect, n - infect) ~ 1 + baseage, family = betabinomial,\n",
    "    data=ichs.data[,list(n=length(infect), infect=sum(infect), baseage=mean(baseage)),by=.(id)])\n",
    "summary(beta.binomial.model)"
   ]
  }
 ],
 "metadata": {
  "kernelspec": {
   "display_name": "R",
   "language": "R",
   "name": "ir"
  },
  "language_info": {
   "codemirror_mode": "r",
   "file_extension": ".r",
   "mimetype": "text/x-r-source",
   "name": "R",
   "pygments_lexer": "r",
   "version": "3.5.1"
  }
 },
 "nbformat": 4,
 "nbformat_minor": 2
}
