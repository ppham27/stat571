{
 "cells": [
  {
   "cell_type": "markdown",
   "metadata": {},
   "source": [
    "# Efficiency of OLS for linear models with correlated data"
   ]
  },
  {
   "cell_type": "code",
   "execution_count": 9,
   "metadata": {},
   "outputs": [],
   "source": [
    "import numpy as np\n",
    "from scipy import linalg\n",
    "from scipy import stats"
   ]
  },
  {
   "cell_type": "code",
   "execution_count": 21,
   "metadata": {},
   "outputs": [],
   "source": [
    "def make_covariates(n, cluster_covariates):\n",
    "    covariates = np.tile(cluster_covariates, n)\n",
    "    return np.column_stack((np.ones_like(covariates), covariates))"
   ]
  },
  {
   "cell_type": "code",
   "execution_count": 22,
   "metadata": {},
   "outputs": [
    {
     "data": {
      "text/plain": [
       "array([[1.    , 0.5   , 0.25  , 0.125 , 0.0625],\n",
       "       [0.5   , 1.    , 0.5   , 0.25  , 0.125 ],\n",
       "       [0.25  , 0.5   , 1.    , 0.5   , 0.25  ],\n",
       "       [0.125 , 0.25  , 0.5   , 1.    , 0.5   ],\n",
       "       [0.0625, 0.125 , 0.25  , 0.5   , 1.    ]])"
      ]
     },
     "execution_count": 22,
     "metadata": {},
     "output_type": "execute_result"
    }
   ],
   "source": [
    "def make_exponential_correlation_matrix(m, rho):\n",
    "    correlation_matrix = np.eye(m)\n",
    "    for i in range(m - 1):\n",
    "        for j in range(i + 1, m):\n",
    "            correlation_matrix[i, j] = correlation_matrix [j, i] = np.power(rho, j - i)\n",
    "    return correlation_matrix\n",
    "\n",
    "make_exponential_correlation_matrix(5, 0.5)"
   ]
  },
  {
   "cell_type": "code",
   "execution_count": 54,
   "metadata": {},
   "outputs": [],
   "source": [
    "n = 10\n",
    "m = 5\n",
    "cluster_covariates = [-2., -1., 0., 1., 2.]\n",
    "X = make_covariates(n, cluster_covariates)\n",
    "sigma = linalg.block_diag(*(\n",
    "    [make_exponential_correlation_matrix(len(cluster_covariates), 0.1)]*n))"
   ]
  },
  {
   "cell_type": "code",
   "execution_count": 55,
   "metadata": {},
   "outputs": [],
   "source": [
    "tmp1 = np.diag(linalg.inv(X.T.dot(linalg.inv(sigma)).dot(X)))"
   ]
  },
  {
   "cell_type": "code",
   "execution_count": 56,
   "metadata": {},
   "outputs": [],
   "source": [
    "tmp2 = np.diag(linalg.inv(X.T.dot(X)).dot(X.T.dot(sigma).dot(X)).dot(linalg.inv(X.T.dot(X))))"
   ]
  },
  {
   "cell_type": "code",
   "execution_count": 57,
   "metadata": {},
   "outputs": [
    {
     "data": {
      "text/plain": [
       "array([0.998, 0.997])"
      ]
     },
     "execution_count": 57,
     "metadata": {},
     "output_type": "execute_result"
    }
   ],
   "source": [
    "np.round(tmp1/tmp2, 3)"
   ]
  },
  {
   "cell_type": "code",
   "execution_count": 47,
   "metadata": {},
   "outputs": [
    {
     "data": {
      "text/plain": [
       "0.9615383333333334"
      ]
     },
     "execution_count": 47,
     "metadata": {},
     "output_type": "execute_result"
    }
   ],
   "source": [
    "0.01153846/0.012"
   ]
  },
  {
   "cell_type": "code",
   "execution_count": 41,
   "metadata": {},
   "outputs": [
    {
     "data": {
      "text/plain": [
       "0.8666666418413508"
      ]
     },
     "execution_count": 41,
     "metadata": {},
     "output_type": "execute_result"
    }
   ],
   "source": [
    "0.09309493/0.10741723"
   ]
  }
 ],
 "metadata": {
  "kernelspec": {
   "display_name": "Python 3",
   "language": "python",
   "name": "python3"
  },
  "language_info": {
   "codemirror_mode": {
    "name": "ipython",
    "version": 3
   },
   "file_extension": ".py",
   "mimetype": "text/x-python",
   "name": "python",
   "nbconvert_exporter": "python",
   "pygments_lexer": "ipython3",
   "version": "3.5.2"
  }
 },
 "nbformat": 4,
 "nbformat_minor": 2
}
