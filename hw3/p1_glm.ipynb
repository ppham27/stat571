{
 "cells": [
  {
   "cell_type": "code",
   "execution_count": 135,
   "metadata": {},
   "outputs": [],
   "source": [
    "import enum\n",
    "import numpy as np\n",
    "from scipy import stats\n",
    "from scipy import linalg\n",
    "from typing import Callable, NamedTuple, Sequence, Tuple\n",
    "\n",
    "BETA = np.array([0., 0.5], dtype=np.float64)\n",
    "DESIGN_1_CLUSTERS = [[7, 10, 13, 16]]\n",
    "DESIGN_2_CLUSTERS = [[7, 10, 13], [7, 10, 16], [7, 13, 16], [10, 13, 16]]\n",
    "WITHIN_CLUSTER_CORRELATIONS = [0.5, 0.9]\n",
    "\n",
    "CorrelationStructure = enum.Enum(\n",
    "    'CorrelationStructure',\n",
    "    'NONE EXCHANGEABLE EXPONENTIAL')"
   ]
  },
  {
   "cell_type": "code",
   "execution_count": 203,
   "metadata": {},
   "outputs": [
    {
     "data": {
      "text/plain": [
       "(array([[ 1., 10.],\n",
       "        [ 1., 13.],\n",
       "        [ 1., 16.]]), array([5.2887613 , 7.1128281 , 8.19946964]))"
      ]
     },
     "execution_count": 203,
     "metadata": {},
     "output_type": "execute_result"
    }
   ],
   "source": [
    "\n",
    "\n",
    "\n",
    "class Experiment(NamedTuple('Experiment', [\n",
    "    ('beta', np.array),\n",
    "    ('error_variance', float),\n",
    "    ('sample_cluster_covariates_fn', Callable[[], np.array]),\n",
    "    ('within_cluster_correlation', float),\n",
    "    ('within_cluster_correlation_structure', CorrelationStructure),\n",
    "])):\n",
    "    \"\"\"Encapsulates parameters for the data generating mechanism.\"\"\"\n",
    "    \n",
    "    def _make_within_cluster_covariance(self, cluster_size):\n",
    "        correlation = np.eye(cluster_size)\n",
    "        if self.within_cluster_correlation_structure == CorrelationStructure.EXCHANGEABLE:\n",
    "            correlation[correlation == 0] = self.within_cluster_correlation\n",
    "        elif self.within_cluster_correlation_structure == CorrelationStructure.EXPONENTIAL:\n",
    "            for i in range(self.cluster_size):\n",
    "                for j in range(i + 1, self.cluster_size):\n",
    "                    correlation[i, j] = correlation[j, i] = np.power(\n",
    "                        self.within_cluster_correlation, np.abs(j - i))\n",
    "        return self.error_variance*correlation\n",
    "    \n",
    "    def sample_cluster(self) -> Tuple[np.array, np.array]:\n",
    "        covariates = self.sample_cluster_covariates_fn()\n",
    "        covariates = np.column_stack((np.ones(len(covariates)), covariates))\n",
    "        covariance = self._make_within_cluster_covariance(len(covariates))\n",
    "        response = stats.multivariate_normal(\n",
    "            mean=np.matmul(covariates, self.beta), cov=covariance).rvs()\n",
    "        return covariates, response\n",
    "        \n",
    "    @classmethod\n",
    "    def from_template(\n",
    "        cls,\n",
    "        clusters,\n",
    "        within_cluster_correlation,\n",
    "        within_cluster_correlation_structure\n",
    "    ) -> 'Experiment':\n",
    "        assert len(set([len(cluster) for cluster in clusters])) == 1,\\\n",
    "               'Clusters must be the same size.'\n",
    "        \n",
    "        def sample_cluster_covariates_fn():\n",
    "            return clusters[np.random.choice(len(clusters))]\n",
    "        \n",
    "        return cls(beta=BETA,\n",
    "                   error_variance=1.,\n",
    "                   sample_cluster_covariates_fn=sample_cluster_covariates_fn,\n",
    "                   within_cluster_correlation=within_cluster_correlation,\n",
    "                   within_cluster_correlation_structure=within_cluster_correlation_structure)\n",
    "    \n",
    "def run_experiment(experiment, num_trials):\n",
    "    return {\n",
    "        'ols': {\n",
    "            CorrelationStructure.NONE: 0,\n",
    "            CorrelationStructure.EXCHANGEABLE: 0,\n",
    "        },\n",
    "        'quasi_likelihood': {},\n",
    "        'sandwich_estimator': {},\n",
    "    }\n",
    "\n",
    "experiment = Experiment.from_template(\n",
    "    DESIGN_2_CLUSTERS,\n",
    "    WITHIN_CLUSTER_CORRELATIONS[0],\n",
    "    CorrelationStructure.EXCHANGEABLE)\n",
    "\n",
    "run_experiment(experiment, 1024)\n",
    "experiment.sample_cluster()"
   ]
  },
  {
   "cell_type": "code",
   "execution_count": 177,
   "metadata": {},
   "outputs": [
    {
     "ename": "ValueError",
     "evalue": "a must be 1-dimensional",
     "output_type": "error",
     "traceback": [
      "\u001b[0;31m---------------------------------------------------------------------------\u001b[0m",
      "\u001b[0;31mValueError\u001b[0m                                Traceback (most recent call last)",
      "\u001b[0;32m<ipython-input-177-a7ccf15b157b>\u001b[0m in \u001b[0;36m<module>\u001b[0;34m\u001b[0m\n\u001b[0;32m----> 1\u001b[0;31m \u001b[0mnp\u001b[0m\u001b[0;34m.\u001b[0m\u001b[0mrandom\u001b[0m\u001b[0;34m.\u001b[0m\u001b[0mchoice\u001b[0m\u001b[0;34m(\u001b[0m\u001b[0;34m[\u001b[0m\u001b[0;34m[\u001b[0m\u001b[0;36m7\u001b[0m\u001b[0;34m,\u001b[0m \u001b[0;36m9\u001b[0m\u001b[0;34m]\u001b[0m\u001b[0;34m,\u001b[0m \u001b[0;34m[\u001b[0m\u001b[0;36m2\u001b[0m\u001b[0;34m,\u001b[0m \u001b[0;36m3\u001b[0m\u001b[0;34m]\u001b[0m\u001b[0;34m,\u001b[0m \u001b[0;34m[\u001b[0m\u001b[0;36m1\u001b[0m\u001b[0;34m,\u001b[0m \u001b[0;36m2\u001b[0m\u001b[0;34m]\u001b[0m\u001b[0;34m]\u001b[0m\u001b[0;34m)\u001b[0m\u001b[0;34m\u001b[0m\u001b[0m\n\u001b[0m",
      "\u001b[0;32mmtrand.pyx\u001b[0m in \u001b[0;36mmtrand.RandomState.choice\u001b[0;34m()\u001b[0m\n",
      "\u001b[0;31mValueError\u001b[0m: a must be 1-dimensional"
     ]
    }
   ],
   "source": [
    "np.random.choice([[7, 9], [2, 3], [1, 2]])"
   ]
  },
  {
   "cell_type": "code",
   "execution_count": 42,
   "metadata": {},
   "outputs": [
    {
     "data": {
      "text/plain": [
       "array([[1. , 0.5, 0.5, 0.5],\n",
       "       [0.5, 1. , 0.5, 0.5],\n",
       "       [0.5, 0.5, 1. , 0.5],\n",
       "       [0.5, 0.5, 0.5, 1. ]])"
      ]
     },
     "execution_count": 42,
     "metadata": {},
     "output_type": "execute_result"
    }
   ],
   "source": [
    "linalg.cholesky(tmp).T.dot(linalg.cholesky(tmp))"
   ]
  },
  {
   "cell_type": "code",
   "execution_count": 55,
   "metadata": {},
   "outputs": [
    {
     "data": {
      "text/plain": [
       "array([[ 1.6, -0.4, -0.4, -0.4],\n",
       "       [-0.4,  1.6, -0.4, -0.4],\n",
       "       [-0.4, -0.4,  1.6, -0.4],\n",
       "       [-0.4, -0.4, -0.4,  1.6]])"
      ]
     },
     "execution_count": 55,
     "metadata": {},
     "output_type": "execute_result"
    }
   ],
   "source": [
    "linalg.inv(tmp)"
   ]
  },
  {
   "cell_type": "code",
   "execution_count": 52,
   "metadata": {},
   "outputs": [
    {
     "data": {
      "text/plain": [
       "0.28867513459481287"
      ]
     },
     "execution_count": 52,
     "metadata": {},
     "output_type": "execute_result"
    }
   ],
   "source": [
    "np.sqrt(3)/6"
   ]
  }
 ],
 "metadata": {
  "kernelspec": {
   "display_name": "Python 3",
   "language": "python",
   "name": "python3"
  },
  "language_info": {
   "codemirror_mode": {
    "name": "ipython",
    "version": 3
   },
   "file_extension": ".py",
   "mimetype": "text/x-python",
   "name": "python",
   "nbconvert_exporter": "python",
   "pygments_lexer": "ipython3",
   "version": "3.5.2"
  }
 },
 "nbformat": 4,
 "nbformat_minor": 2
}
