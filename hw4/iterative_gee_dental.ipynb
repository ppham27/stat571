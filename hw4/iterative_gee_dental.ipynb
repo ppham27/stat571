{
 "cells": [
  {
   "cell_type": "markdown",
   "metadata": {},
   "source": [
    "# Iterative methods for solving GEE"
   ]
  },
  {
   "cell_type": "code",
   "execution_count": 1,
   "metadata": {},
   "outputs": [],
   "source": [
    "import numpy as np\n",
    "import pandas as pd\n",
    "from scipy import linalg\n",
    "from typing import List, NamedTuple\n",
    "\n",
    "class CovarianceParameters(NamedTuple('CovarianceParameters', [\n",
    "    ('alpha', np.float64),\n",
    "    ('sigma2', np.float64),\n",
    "])):\n",
    "    def make_correlation_matrix(self, size):\n",
    "        correlation_matrix = np.eye(size)\n",
    "        for i in range(size - 1):\n",
    "            for j in range(i + 1, size):\n",
    "                correlation_matrix[i, j] = correlation_matrix[j, i] = np.power(self.alpha, j - i)\n",
    "        return correlation_matrix\n",
    "    \n",
    "    def make_covariance_matrix(self, size):\n",
    "        return self.make_correlation_matrix(size)*self.sigma2\n",
    "    \n",
    "class Cluster(NamedTuple('Cluster', [\n",
    "    ('X', np.array),\n",
    "    ('y', np.array),\n",
    "    ('covariance', np.array),\n",
    "])):\n",
    "    \"\"\"Cluster covariates, response, and covariance structure.\"\"\""
   ]
  },
  {
   "cell_type": "code",
   "execution_count": 2,
   "metadata": {},
   "outputs": [],
   "source": [
    "def estimate_covariance_parameters(clusters, beta):    \n",
    "    def _estimate_covariance_parameters(X, y, beta):\n",
    "        epsilon = y - X.dot(beta)        \n",
    "        covariance_matrix = np.outer(epsilon, epsilon)\n",
    "        sigma2 = np.diag(covariance_matrix)\n",
    "        rho = [covariance_matrix[i, i + 1] for i in range(len(covariance_matrix) - 1)]\n",
    "        return sigma2, rho\n",
    "    \n",
    "    sigma2 = [] \n",
    "    rho = []\n",
    "    for cluster in clusters:\n",
    "        cluster_sigma2, cluster_rho = _estimate_covariance_parameters(\n",
    "            cluster.X, cluster.y, beta)\n",
    "        sigma2.extend(cluster_sigma2)\n",
    "        rho.extend(cluster_rho)  \n",
    "    sigma2 = np.mean(sigma2)\n",
    "    return CovarianceParameters(alpha=np.mean(rho)/sigma2, sigma2=sigma2)\n",
    "\n",
    "def estimate_beta(clusters: List[Cluster]):\n",
    "    \"\"\"Estimate beta under the assumption that clusters.\"\"\"\n",
    "    cluster_weights = [\n",
    "        linalg.cho_solve(linalg.cho_factor(cluster.covariance), np.eye(len(cluster.y))) for cluster in clusters\n",
    "    ]    \n",
    "    projected_X = np.sum([\n",
    "        cluster.X.T.dot(weights).dot(cluster.X)\n",
    "        for cluster, weights in zip(clusters, cluster_weights)\n",
    "    ], 0)\n",
    "    projected_y = np.sum([\n",
    "        cluster.X.T.dot(weights).dot(cluster.y)\n",
    "        for cluster, weights in zip(clusters, cluster_weights)\n",
    "    ], 0)    \n",
    "    beta = linalg.cho_solve(linalg.cho_factor(projected_X), projected_y)\n",
    "    \n",
    "    bread = linalg.cho_solve(linalg.cho_factor(projected_X), np.eye(len(projected_X)))\n",
    "    residuals = [cluster.y - cluster.X.dot(beta) for cluster in clusters]\n",
    "    sigma = np.mean([np.outer(residual, residual) for residual in residuals], 0)\n",
    "    meat = np.sum([\n",
    "        cluster.X.T.dot(weights).dot(sigma).dot(weights).dot(cluster.X)\n",
    "        for cluster, residual, weights in zip(clusters, residuals, cluster_weights)\n",
    "    ], 0)\n",
    "    return beta, bread.dot(meat).dot(bread)\n",
    "\n",
    "def update_clusters(clusters, covariance_parameters):\n",
    "    return [\n",
    "        Cluster(X=cluster.X, y=cluster.y,\n",
    "                covariance=covariance_parameters.make_covariance_matrix(len(cluster.y)))\n",
    "        for cluster in clusters]"
   ]
  },
  {
   "cell_type": "code",
   "execution_count": 3,
   "metadata": {},
   "outputs": [
    {
     "data": {
      "text/html": [
       "<div>\n",
       "<style scoped>\n",
       "    .dataframe tbody tr th:only-of-type {\n",
       "        vertical-align: middle;\n",
       "    }\n",
       "\n",
       "    .dataframe tbody tr th {\n",
       "        vertical-align: top;\n",
       "    }\n",
       "\n",
       "    .dataframe thead th {\n",
       "        text-align: right;\n",
       "    }\n",
       "</style>\n",
       "<table border=\"1\" class=\"dataframe\">\n",
       "  <thead>\n",
       "    <tr style=\"text-align: right;\">\n",
       "      <th></th>\n",
       "      <th>distance</th>\n",
       "      <th>age</th>\n",
       "      <th>Sex</th>\n",
       "    </tr>\n",
       "    <tr>\n",
       "      <th>Subject</th>\n",
       "      <th></th>\n",
       "      <th></th>\n",
       "      <th></th>\n",
       "    </tr>\n",
       "  </thead>\n",
       "  <tbody>\n",
       "    <tr>\n",
       "      <th>M01</th>\n",
       "      <td>26.0</td>\n",
       "      <td>8</td>\n",
       "      <td>Male</td>\n",
       "    </tr>\n",
       "    <tr>\n",
       "      <th>M01</th>\n",
       "      <td>25.0</td>\n",
       "      <td>10</td>\n",
       "      <td>Male</td>\n",
       "    </tr>\n",
       "    <tr>\n",
       "      <th>M01</th>\n",
       "      <td>29.0</td>\n",
       "      <td>12</td>\n",
       "      <td>Male</td>\n",
       "    </tr>\n",
       "    <tr>\n",
       "      <th>M01</th>\n",
       "      <td>31.0</td>\n",
       "      <td>14</td>\n",
       "      <td>Male</td>\n",
       "    </tr>\n",
       "    <tr>\n",
       "      <th>M02</th>\n",
       "      <td>21.5</td>\n",
       "      <td>8</td>\n",
       "      <td>Male</td>\n",
       "    </tr>\n",
       "    <tr>\n",
       "      <th>M02</th>\n",
       "      <td>22.5</td>\n",
       "      <td>10</td>\n",
       "      <td>Male</td>\n",
       "    </tr>\n",
       "    <tr>\n",
       "      <th>M02</th>\n",
       "      <td>23.0</td>\n",
       "      <td>12</td>\n",
       "      <td>Male</td>\n",
       "    </tr>\n",
       "    <tr>\n",
       "      <th>M02</th>\n",
       "      <td>26.5</td>\n",
       "      <td>14</td>\n",
       "      <td>Male</td>\n",
       "    </tr>\n",
       "  </tbody>\n",
       "</table>\n",
       "</div>"
      ],
      "text/plain": [
       "         distance  age   Sex\n",
       "Subject                     \n",
       "M01          26.0    8  Male\n",
       "M01          25.0   10  Male\n",
       "M01          29.0   12  Male\n",
       "M01          31.0   14  Male\n",
       "M02          21.5    8  Male\n",
       "M02          22.5   10  Male\n",
       "M02          23.0   12  Male\n",
       "M02          26.5   14  Male"
      ]
     },
     "execution_count": 3,
     "metadata": {},
     "output_type": "execute_result"
    }
   ],
   "source": [
    "orthodont_data = pd.read_csv('orthodont.csv')\n",
    "orthodont_data = orthodont_data.set_index('Subject')\n",
    "orthodont_data.head(8)"
   ]
  },
  {
   "cell_type": "code",
   "execution_count": 4,
   "metadata": {},
   "outputs": [],
   "source": [
    "def make_covariates(data_frame):    \n",
    "    age = (data_frame['age'] - 8).values\n",
    "    is_female = (data_frame['Sex'] == 'Female').values.astype(np.float64)\n",
    "    return np.column_stack((\n",
    "        np.ones(len(data_frame)),\n",
    "        age,\n",
    "        is_female,\n",
    "        age*is_female,        \n",
    "    ))\n",
    "\n",
    "def make_response(data_frame):\n",
    "    return data_frame['distance'].values"
   ]
  },
  {
   "cell_type": "code",
   "execution_count": 5,
   "metadata": {},
   "outputs": [],
   "source": [
    "def make_table(beta, beta_covariance):\n",
    "    std_errors = np.sqrt(np.diag(beta_covariance))    \n",
    "    return pd.DataFrame(list(zip(beta, std_errors)),\n",
    "                        columns=['Estimate', 'Standard error'],\n",
    "                        index=['$\\\\beta_0$', '$\\\\beta_1$', '$\\\\beta_2$', '$\\\\beta_3$'])"
   ]
  },
  {
   "cell_type": "markdown",
   "metadata": {},
   "source": [
    "Initially, we assume no covariance."
   ]
  },
  {
   "cell_type": "code",
   "execution_count": 6,
   "metadata": {},
   "outputs": [],
   "source": [
    "clusters = [\n",
    "    Cluster(\n",
    "        X=make_covariates(orthodont_data.loc[i]),\n",
    "        y=make_response(orthodont_data.loc[i]),\n",
    "        covariance=np.eye(len(orthodont_data.loc[i])),\n",
    "    )   \n",
    "    for i in orthodont_data.index\n",
    "]\n",
    "\n",
    "beta, beta_covariance = estimate_beta(clusters)\n",
    "with open('beta0_estimate.tex', 'w') as f:\n",
    "    f.write(make_table(beta, beta_covariance).to_latex(escape=False))"
   ]
  },
  {
   "cell_type": "markdown",
   "metadata": {},
   "source": [
    "In each iteration, we estimate covariance parameters with $\\hat{\\beta}$. We compute a new correlation structure for each cluster, and use it to get a better estimate for $\\beta$."
   ]
  },
  {
   "cell_type": "code",
   "execution_count": 7,
   "metadata": {},
   "outputs": [
    {
     "data": {
      "text/plain": [
       "CovarianceParameters(alpha=0.6113624114825353, sigma2=4.905158354377104)"
      ]
     },
     "execution_count": 7,
     "metadata": {},
     "output_type": "execute_result"
    }
   ],
   "source": [
    "def _update_estimates(clusters, beta):\n",
    "    covariance_parameters = estimate_covariance_parameters(clusters, beta)\n",
    "    clusters = update_clusters(clusters, covariance_parameters)\n",
    "    return covariance_parameters, clusters, estimate_beta(clusters)\n",
    "\n",
    "previous_beta, (covariance_parameters, clusters, (beta, beta_covariance)) = (\n",
    "    beta, _update_estimates(clusters, beta))\n",
    "\n",
    "with open('beta1_estimate.tex', 'w') as f:\n",
    "    f.write(make_table(beta, beta_covariance).to_latex(escape=False))\n",
    "covariance_parameters"
   ]
  },
  {
   "cell_type": "code",
   "execution_count": 8,
   "metadata": {},
   "outputs": [
    {
     "name": "stdout",
     "output_type": "stream",
     "text": [
      "[22.75026233  0.76945687 -1.55885764 -0.28569215] CovarianceParameters(alpha=0.613518833989525, sigma2=4.910599805251229)\n",
      "[0.26779157 0.04369856 0.41954876 0.06846249]\n",
      "[22.7502655   0.76945666 -1.55886113 -0.28569188] CovarianceParameters(alpha=0.6135308146270477, sigma2=4.91065185077109)\n",
      "[0.2677919  0.04369862 0.41954928 0.06846258]\n",
      "[22.75026552  0.76945666 -1.55886115 -0.28569188] CovarianceParameters(alpha=0.6135308813311675, sigma2=4.910652141021696)\n",
      "[0.2677919  0.04369862 0.41954928 0.06846258]\n",
      "[22.75026552  0.76945666 -1.55886115 -0.28569188] CovarianceParameters(alpha=0.6135308817025588, sigma2=4.910652142637751)\n",
      "[0.2677919  0.04369862 0.41954928 0.06846258]\n",
      "[22.75026552  0.76945666 -1.55886115 -0.28569188] CovarianceParameters(alpha=0.6135308817046278, sigma2=4.910652142646753)\n",
      "[0.2677919  0.04369862 0.41954928 0.06846258]\n",
      "[22.75026552  0.76945666 -1.55886115 -0.28569188] CovarianceParameters(alpha=0.6135308817046404, sigma2=4.91065214264681)\n",
      "[0.2677919  0.04369862 0.41954928 0.06846258]\n"
     ]
    }
   ],
   "source": [
    "while np.sum(np.abs(previous_beta - beta)) > 1e-12:\n",
    "    previous_beta, (covariance_parameters, clusters, (beta, beta_covariance)) = (\n",
    "        beta, _update_estimates(clusters, beta))\n",
    "    print(beta, covariance_parameters)\n",
    "    print(np.sqrt(np.diag(beta_covariance)))"
   ]
  },
  {
   "cell_type": "markdown",
   "metadata": {},
   "source": [
    "The final, converged estimates are below."
   ]
  },
  {
   "cell_type": "code",
   "execution_count": 9,
   "metadata": {},
   "outputs": [],
   "source": [
    "with open('beta_final_estimate.tex', 'w') as f:\n",
    "    f.write(make_table(beta, beta_covariance).to_latex(escape=False))"
   ]
  }
 ],
 "metadata": {
  "kernelspec": {
   "display_name": "Python 3",
   "language": "python",
   "name": "python3"
  },
  "language_info": {
   "codemirror_mode": {
    "name": "ipython",
    "version": 3
   },
   "file_extension": ".py",
   "mimetype": "text/x-python",
   "name": "python",
   "nbconvert_exporter": "python",
   "pygments_lexer": "ipython3",
   "version": "3.5.2"
  }
 },
 "nbformat": 4,
 "nbformat_minor": 2
}
