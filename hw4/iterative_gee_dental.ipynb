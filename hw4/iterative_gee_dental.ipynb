{
 "cells": [
  {
   "cell_type": "markdown",
   "metadata": {},
   "source": [
    "# Iterative methods for solving GEE"
   ]
  },
  {
   "cell_type": "code",
   "execution_count": 33,
   "metadata": {},
   "outputs": [],
   "source": [
    "import numpy as np\n",
    "import pandas as pd\n",
    "from typing import NamedTuple\n",
    "\n",
    "class CovarianceParameters(NamedTuple('CovarianceParameters', [\n",
    "    ('alpha', np.float64),\n",
    "    ('sigma2', np.float64),\n",
    "])):\n",
    "    def make_correlation_matrix(self, size):\n",
    "        correlation_matrix = np.eye(size)\n",
    "        for i in range(size - 1):\n",
    "            for j in range(i + 1, size):\n",
    "                correlation_matrix[i, j] = correlation_matrix[j, i] = np.power(self.alpha, j - i)\n",
    "        return correlation_matrix\n",
    "    \n",
    "    def make_covariance_matrix(self, size):\n",
    "        return self.make_correlation_matrix(size)*self.sigma2\n",
    "    \n",
    "def estimate_covariance_parameters(X, y, beta):\n",
    "    epsilon = y - X.dot(beta)        \n",
    "    covariance_matrix = np.outer(epsilon, epsilon)\n",
    "    \n",
    "    sigma2 = np.mean(np.diag(covariance_matrix))\n",
    "    correlation_matrix = covariance_matrix/sigma2\n",
    "    rho = np.mean([correlation_matrix[i, i + 1] for i in range(correlation_matrix)])\n",
    "    return CovarianceParameters(alpha=rho, sigma2=sigma2)"
   ]
  },
  {
   "cell_type": "code",
   "execution_count": 13,
   "metadata": {},
   "outputs": [
    {
     "data": {
      "text/html": [
       "<div>\n",
       "<style scoped>\n",
       "    .dataframe tbody tr th:only-of-type {\n",
       "        vertical-align: middle;\n",
       "    }\n",
       "\n",
       "    .dataframe tbody tr th {\n",
       "        vertical-align: top;\n",
       "    }\n",
       "\n",
       "    .dataframe thead th {\n",
       "        text-align: right;\n",
       "    }\n",
       "</style>\n",
       "<table border=\"1\" class=\"dataframe\">\n",
       "  <thead>\n",
       "    <tr style=\"text-align: right;\">\n",
       "      <th></th>\n",
       "      <th>distance</th>\n",
       "      <th>age</th>\n",
       "      <th>Sex</th>\n",
       "    </tr>\n",
       "    <tr>\n",
       "      <th>Subject</th>\n",
       "      <th></th>\n",
       "      <th></th>\n",
       "      <th></th>\n",
       "    </tr>\n",
       "  </thead>\n",
       "  <tbody>\n",
       "    <tr>\n",
       "      <th>M01</th>\n",
       "      <td>26.0</td>\n",
       "      <td>8</td>\n",
       "      <td>Male</td>\n",
       "    </tr>\n",
       "    <tr>\n",
       "      <th>M01</th>\n",
       "      <td>25.0</td>\n",
       "      <td>10</td>\n",
       "      <td>Male</td>\n",
       "    </tr>\n",
       "    <tr>\n",
       "      <th>M01</th>\n",
       "      <td>29.0</td>\n",
       "      <td>12</td>\n",
       "      <td>Male</td>\n",
       "    </tr>\n",
       "    <tr>\n",
       "      <th>M01</th>\n",
       "      <td>31.0</td>\n",
       "      <td>14</td>\n",
       "      <td>Male</td>\n",
       "    </tr>\n",
       "    <tr>\n",
       "      <th>M02</th>\n",
       "      <td>21.5</td>\n",
       "      <td>8</td>\n",
       "      <td>Male</td>\n",
       "    </tr>\n",
       "    <tr>\n",
       "      <th>M02</th>\n",
       "      <td>22.5</td>\n",
       "      <td>10</td>\n",
       "      <td>Male</td>\n",
       "    </tr>\n",
       "    <tr>\n",
       "      <th>M02</th>\n",
       "      <td>23.0</td>\n",
       "      <td>12</td>\n",
       "      <td>Male</td>\n",
       "    </tr>\n",
       "    <tr>\n",
       "      <th>M02</th>\n",
       "      <td>26.5</td>\n",
       "      <td>14</td>\n",
       "      <td>Male</td>\n",
       "    </tr>\n",
       "  </tbody>\n",
       "</table>\n",
       "</div>"
      ],
      "text/plain": [
       "         distance  age   Sex\n",
       "Subject                     \n",
       "M01          26.0    8  Male\n",
       "M01          25.0   10  Male\n",
       "M01          29.0   12  Male\n",
       "M01          31.0   14  Male\n",
       "M02          21.5    8  Male\n",
       "M02          22.5   10  Male\n",
       "M02          23.0   12  Male\n",
       "M02          26.5   14  Male"
      ]
     },
     "execution_count": 13,
     "metadata": {},
     "output_type": "execute_result"
    }
   ],
   "source": [
    "orthodont_data = pd.read_csv('orthodont.csv')\n",
    "orthodont_data = orthodont_data.set_index('Subject')\n",
    "orthodont_data.head(8)"
   ]
  },
  {
   "cell_type": "code",
   "execution_count": 24,
   "metadata": {},
   "outputs": [],
   "source": [
    "def make_covariates(data_frame):    \n",
    "    age = (data_frame['age'] - 8).values\n",
    "    is_female = (data_frame['Sex'] == 'Female').values.astype(np.float64)\n",
    "    return np.column_stack((\n",
    "        np.ones(len(data_frame)),\n",
    "        is_female,\n",
    "        age,\n",
    "        age*is_female,        \n",
    "    ))\n",
    "\n",
    "def make_response(data_frame):\n",
    "    return data_frame['distance'].values"
   ]
  },
  {
   "cell_type": "code",
   "execution_count": null,
   "metadata": {},
   "outputs": [],
   "source": []
  }
 ],
 "metadata": {
  "kernelspec": {
   "display_name": "Python 3",
   "language": "python",
   "name": "python3"
  },
  "language_info": {
   "codemirror_mode": {
    "name": "ipython",
    "version": 3
   },
   "file_extension": ".py",
   "mimetype": "text/x-python",
   "name": "python",
   "nbconvert_exporter": "python",
   "pygments_lexer": "ipython3",
   "version": "3.5.2"
  }
 },
 "nbformat": 4,
 "nbformat_minor": 2
}
