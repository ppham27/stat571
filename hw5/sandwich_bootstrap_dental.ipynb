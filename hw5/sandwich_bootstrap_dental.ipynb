{
 "cells": [
  {
   "cell_type": "markdown",
   "metadata": {},
   "source": [
    "# Sandwich versus Bootstrap Standard Errors"
   ]
  },
  {
   "cell_type": "code",
   "execution_count": 50,
   "metadata": {},
   "outputs": [],
   "source": [
    "import abc\n",
    "import collections\n",
    "import multiprocessing\n",
    "import sys\n",
    "from typing import Any, Callable, NamedTuple, Sequence, Tuple\n",
    "\n",
    "from absl import app\n",
    "from absl import flags\n",
    "import numpy as np\n",
    "import matplotlib.pyplot as plt\n",
    "import pandas as pd\n",
    "import seaborn as sns\n",
    "import statsmodels.api as sm\n",
    "from scipy import stats\n",
    "import tensorflow as tf\n",
    "from tensorflow.python.ops import gen_array_ops\n",
    "from tensorflow.python.ops import gen_linalg_ops\n",
    "from tensorflow.python.ops import parallel_for\n",
    "pfor = sys.modules['tensorflow.python.ops.parallel_for.pfor']\n",
    "\n",
    "tf.enable_v2_behavior()\n",
    "np.set_printoptions(suppress=True)"
   ]
  },
  {
   "cell_type": "code",
   "execution_count": 2,
   "metadata": {},
   "outputs": [],
   "source": [
    "@pfor.RegisterPForWithArgs('MatrixBandPart', gen_array_ops.matrix_band_part)\n",
    "@pfor.RegisterPForWithArgs('MatrixDiag', gen_array_ops.matrix_diag)\n",
    "def _convert_matrix_diag(pfor_input, op_type, op_func):\n",
    "    del op_type\n",
    "    return pfor.wrap(op_func(*[x.t for x in pfor_input.inputs]), True)\n",
    "\n",
    "@pfor.RegisterPForWithArgs('MatrixSetDiag', gen_array_ops.matrix_set_diag)\n",
    "@pfor.RegisterPForWithArgs('MatrixTriangularSolve', gen_linalg_ops.matrix_triangular_solve)\n",
    "def _convert_matrix_solve(pfor_input, op_type, op_func):\n",
    "    del op_type\n",
    "    pfor_input.stack_inputs()\n",
    "    return pfor.wrap(op_func(*[x.t for x in pfor_input.inputs]), True)"
   ]
  },
  {
   "cell_type": "markdown",
   "metadata": {},
   "source": [
    "## Data"
   ]
  },
  {
   "cell_type": "code",
   "execution_count": 3,
   "metadata": {},
   "outputs": [
    {
     "data": {
      "text/html": [
       "<div>\n",
       "<style scoped>\n",
       "    .dataframe tbody tr th:only-of-type {\n",
       "        vertical-align: middle;\n",
       "    }\n",
       "\n",
       "    .dataframe tbody tr th {\n",
       "        vertical-align: top;\n",
       "    }\n",
       "\n",
       "    .dataframe thead th {\n",
       "        text-align: right;\n",
       "    }\n",
       "</style>\n",
       "<table border=\"1\" class=\"dataframe\">\n",
       "  <thead>\n",
       "    <tr style=\"text-align: right;\">\n",
       "      <th></th>\n",
       "      <th>distance</th>\n",
       "      <th>age</th>\n",
       "      <th>Sex</th>\n",
       "    </tr>\n",
       "    <tr>\n",
       "      <th>Subject</th>\n",
       "      <th></th>\n",
       "      <th></th>\n",
       "      <th></th>\n",
       "    </tr>\n",
       "  </thead>\n",
       "  <tbody>\n",
       "    <tr>\n",
       "      <th>M01</th>\n",
       "      <td>26.0</td>\n",
       "      <td>8</td>\n",
       "      <td>Male</td>\n",
       "    </tr>\n",
       "    <tr>\n",
       "      <th>M01</th>\n",
       "      <td>25.0</td>\n",
       "      <td>10</td>\n",
       "      <td>Male</td>\n",
       "    </tr>\n",
       "    <tr>\n",
       "      <th>M01</th>\n",
       "      <td>29.0</td>\n",
       "      <td>12</td>\n",
       "      <td>Male</td>\n",
       "    </tr>\n",
       "    <tr>\n",
       "      <th>M01</th>\n",
       "      <td>31.0</td>\n",
       "      <td>14</td>\n",
       "      <td>Male</td>\n",
       "    </tr>\n",
       "    <tr>\n",
       "      <th>M02</th>\n",
       "      <td>21.5</td>\n",
       "      <td>8</td>\n",
       "      <td>Male</td>\n",
       "    </tr>\n",
       "    <tr>\n",
       "      <th>M02</th>\n",
       "      <td>22.5</td>\n",
       "      <td>10</td>\n",
       "      <td>Male</td>\n",
       "    </tr>\n",
       "    <tr>\n",
       "      <th>M02</th>\n",
       "      <td>23.0</td>\n",
       "      <td>12</td>\n",
       "      <td>Male</td>\n",
       "    </tr>\n",
       "    <tr>\n",
       "      <th>M02</th>\n",
       "      <td>26.5</td>\n",
       "      <td>14</td>\n",
       "      <td>Male</td>\n",
       "    </tr>\n",
       "  </tbody>\n",
       "</table>\n",
       "</div>"
      ],
      "text/plain": [
       "         distance  age   Sex\n",
       "Subject                     \n",
       "M01          26.0    8  Male\n",
       "M01          25.0   10  Male\n",
       "M01          29.0   12  Male\n",
       "M01          31.0   14  Male\n",
       "M02          21.5    8  Male\n",
       "M02          22.5   10  Male\n",
       "M02          23.0   12  Male\n",
       "M02          26.5   14  Male"
      ]
     },
     "execution_count": 3,
     "metadata": {},
     "output_type": "execute_result"
    }
   ],
   "source": [
    "orthodont_data = pd.read_csv('../hw4/orthodont.csv')\n",
    "orthodont_data = orthodont_data.set_index('Subject')\n",
    "orthodont_data.head(8)"
   ]
  },
  {
   "cell_type": "code",
   "execution_count": 4,
   "metadata": {},
   "outputs": [],
   "source": [
    "def make_covariates(data_frame):    \n",
    "    age = (data_frame['age'] - 8).values\n",
    "    is_female = (data_frame['Sex'] == 'Female').values.astype(np.float64)\n",
    "    return np.column_stack((\n",
    "        np.ones(len(data_frame)),\n",
    "        age,\n",
    "        is_female,\n",
    "        age*is_female,        \n",
    "    ))\n",
    "\n",
    "def make_response(data_frame):\n",
    "    return data_frame['distance'].values\n",
    "\n",
    "X = tf.convert_to_tensor(\n",
    "    [make_covariates(orthodont_data.loc[i]) for i in np.unique(orthodont_data.index)],\n",
    "    tf.float32)\n",
    "y = tf.expand_dims(tf.convert_to_tensor(\n",
    "    [make_response(orthodont_data.loc[i]) for i in np.unique(orthodont_data.index)],\n",
    "    tf.float32), -1)"
   ]
  },
  {
   "cell_type": "markdown",
   "metadata": {},
   "source": [
    "## Cluster Correlation Structure"
   ]
  },
  {
   "cell_type": "code",
   "execution_count": 5,
   "metadata": {},
   "outputs": [],
   "source": [
    "def make_covariance_homoscedastic(log_variance):\n",
    "    \"\"\"Makes diagonal homoscedastic covariance structure.\"\"\"\n",
    "    return tf.exp(log_variance)*tf.eye(4)"
   ]
  },
  {
   "cell_type": "code",
   "execution_count": 6,
   "metadata": {},
   "outputs": [],
   "source": [
    "def make_covariance_exchangeable(log_covariance_params):\n",
    "    \"\"\"Makes heteroscedastic, exchangeble covariance structure.\"\"\"\n",
    "    standard_errors = tf.exp(log_covariance_params[:-1])  # First entries are standard errors.\n",
    "    rho = tf.exp(log_covariance_params[-1])  # Last entry is correlation.\n",
    "    correlation = tf.ones((4, 4), dtype=tf.float32)*rho + tf.eye(4)*(1. - rho)\n",
    "    return correlation*standard_errors*tf.expand_dims(standard_errors, -1)"
   ]
  },
  {
   "cell_type": "markdown",
   "metadata": {},
   "source": [
    "## REML Loss"
   ]
  },
  {
   "cell_type": "code",
   "execution_count": 7,
   "metadata": {},
   "outputs": [],
   "source": [
    "def solve_beta(X, y, weights):\n",
    "    projected_X = tf.reduce_sum(tf.matmul(tf.tensordot(tf.transpose(X, [0, 2, 1]), weights, 1), X), 0)\n",
    "    projected_y = tf.reduce_sum(tf.matmul(tf.tensordot(tf.transpose(X, [0, 2, 1]), weights, 1), y), 0)\n",
    "    return tf.linalg.cholesky_solve(tf.linalg.cholesky(projected_X), projected_y)\n",
    "\n",
    "def loss_fn(X, y, covariance):\n",
    "    weights = tf.linalg.cholesky_solve(tf.linalg.cholesky(covariance), tf.eye(4))        \n",
    "    beta = solve_beta(X, y, weights)     \n",
    "    residuals = y - tf.tensordot(X, beta, 1)\n",
    "    weighted_squared_error = tf.matmul(\n",
    "        tf.tensordot(tf.transpose(residuals, [0, 2, 1]), weights, 1), residuals)\n",
    "    loss = tf.reduce_mean(weighted_squared_error) + tf.linalg.logdet(covariance)    \n",
    "    reml_loss = tf.reduce_sum(tf.matmul(tf.tensordot(tf.transpose(X, [0, 2, 1]), weights, 1), X), 0)\n",
    "    return loss + tf.linalg.logdet(reml_loss) / tf.cast(tf.shape(y)[0], tf.float32)"
   ]
  },
  {
   "cell_type": "markdown",
   "metadata": {},
   "source": [
    "## Optimization\n",
    "\n",
    "Minimizes REML loss with Newton-Raphson algorithm"
   ]
  },
  {
   "cell_type": "code",
   "execution_count": 8,
   "metadata": {},
   "outputs": [],
   "source": [
    "class CovarianceSpec(NamedTuple('CovarianceSpec', [\n",
    "    ('initial_params', np.array),\n",
    "    ('make_covariance', Callable[[tf.Tensor], tf.Tensor]),\n",
    "])):\n",
    "    \"\"\"Encapsulates covariance parameters.\"\"\"\n",
    "\n",
    "def fit(X, y, covariance_spec):\n",
    "    covariance_params = tf.Variable(covariance_spec.initial_params)\n",
    "    for i in range(16):\n",
    "        with tf.GradientTape(persistent=True) as outer_tape:\n",
    "            with tf.GradientTape() as inner_tape:\n",
    "                loss = loss_fn(X, y, covariance_spec.make_covariance(covariance_params))\n",
    "            gradients = inner_tape.gradient(loss, covariance_params)\n",
    "        hessian = outer_tape.jacobian(gradients, covariance_params,\n",
    "                                      parallel_iterations=4, experimental_use_pfor=False)            \n",
    "        covariance_params.assign_add(tf.reshape(\n",
    "            tf.linalg.cholesky_solve(tf.linalg.cholesky(hessian), -tf.expand_dims(gradients, -1)),\n",
    "            covariance_params.shape))\n",
    "    return covariance_params"
   ]
  },
  {
   "cell_type": "code",
   "execution_count": 9,
   "metadata": {},
   "outputs": [
    {
     "name": "stderr",
     "output_type": "stream",
     "text": [
      "WARNING: Logging before flag parsing goes to stderr.\n",
      "W0221 06:53:33.943777 140482936473344 deprecation.py:323] From /usr/local/lib/python3.5/dist-packages/tensorflow/python/ops/math_grad.py:80: colocate_with (from tensorflow.python.framework.ops) is deprecated and will be removed in a future version.\n",
      "Instructions for updating:\n",
      "Colocations handled automatically by placer.\n",
      "W0221 06:53:33.964406 140482936473344 deprecation.py:323] From /usr/local/lib/python3.5/dist-packages/tensorflow/python/ops/array_grad.py:425: to_int32 (from tensorflow.python.ops.math_ops) is deprecated and will be removed in a future version.\n",
      "Instructions for updating:\n",
      "Use tf.cast instead.\n"
     ]
    },
    {
     "data": {
      "text/plain": [
       "array([2.256949], dtype=float32)"
      ]
     },
     "execution_count": 9,
     "metadata": {},
     "output_type": "execute_result"
    }
   ],
   "source": [
    "log_variance = fit(\n",
    "    X, y,\n",
    "    CovarianceSpec(initial_params=[0.], make_covariance=make_covariance_homoscedastic))\n",
    "tf.sqrt(tf.exp(log_variance)).numpy()"
   ]
  },
  {
   "cell_type": "markdown",
   "metadata": {},
   "source": [
    "## Standard Error Estimates"
   ]
  },
  {
   "cell_type": "markdown",
   "metadata": {},
   "source": [
    "The ML covariance estimate assumes that the covariance model is correct."
   ]
  },
  {
   "cell_type": "code",
   "execution_count": 18,
   "metadata": {},
   "outputs": [],
   "source": [
    "def ml_covariance(X, weights):\n",
    "    covariance = tf.reduce_sum(tf.matmul(tf.tensordot(tf.transpose(X, [0, 2, 1]), weights, 1), X), 0)\n",
    "    return tf.linalg.cholesky_solve(tf.linalg.cholesky(covariance), tf.eye(tf.shape(covariance)[0]))"
   ]
  },
  {
   "cell_type": "code",
   "execution_count": 40,
   "metadata": {},
   "outputs": [
    {
     "data": {
      "text/html": [
       "<div>\n",
       "<style scoped>\n",
       "    .dataframe tbody tr th:only-of-type {\n",
       "        vertical-align: middle;\n",
       "    }\n",
       "\n",
       "    .dataframe tbody tr th {\n",
       "        vertical-align: top;\n",
       "    }\n",
       "\n",
       "    .dataframe thead th {\n",
       "        text-align: right;\n",
       "    }\n",
       "</style>\n",
       "<table border=\"1\" class=\"dataframe\">\n",
       "  <thead>\n",
       "    <tr style=\"text-align: right;\">\n",
       "      <th></th>\n",
       "      <th>Estimate</th>\n",
       "      <th>Standard Error</th>\n",
       "    </tr>\n",
       "  </thead>\n",
       "  <tbody>\n",
       "    <tr>\n",
       "      <th>$\\hat\\beta_0$</th>\n",
       "      <td>22.615610</td>\n",
       "      <td>0.472075</td>\n",
       "    </tr>\n",
       "    <tr>\n",
       "      <th>$\\hat\\beta_1$</th>\n",
       "      <td>0.784380</td>\n",
       "      <td>0.126167</td>\n",
       "    </tr>\n",
       "    <tr>\n",
       "      <th>$\\hat\\beta_2$</th>\n",
       "      <td>-1.406521</td>\n",
       "      <td>0.739599</td>\n",
       "    </tr>\n",
       "    <tr>\n",
       "      <th>$\\hat\\beta_3$</th>\n",
       "      <td>-0.304834</td>\n",
       "      <td>0.197666</td>\n",
       "    </tr>\n",
       "  </tbody>\n",
       "</table>\n",
       "</div>"
      ],
      "text/plain": [
       "                Estimate  Standard Error\n",
       "$\\hat\\beta_0$  22.615610        0.472075\n",
       "$\\hat\\beta_1$   0.784380        0.126167\n",
       "$\\hat\\beta_2$  -1.406521        0.739599\n",
       "$\\hat\\beta_3$  -0.304834        0.197666"
      ]
     },
     "execution_count": 40,
     "metadata": {},
     "output_type": "execute_result"
    }
   ],
   "source": [
    "reml_weights = tf.linalg.cholesky_solve(\n",
    "    tf.linalg.cholesky(make_covariance_homoscedastic(log_variance)), tf.eye(4))\n",
    "\n",
    "reml_estimates = pd.DataFrame(collections.OrderedDict([\n",
    "    ('Estimate', tf.squeeze(solve_beta(X, y, reml_weights)).numpy()),\n",
    "    ('Standard Error', tf.sqrt(tf.linalg.diag_part(ml_covariance(X, reml_weights))).numpy()),\n",
    "]), index=['$\\\\hat\\\\beta_{i}$'.format(i=i) for i in range(4)])\n",
    "\n",
    "with open('reml_estimates.tex', 'w') as f:\n",
    "    f.write(reml_estimates.to_latex(escape=False))\n",
    "\n",
    "reml_estimates"
   ]
  },
  {
   "cell_type": "markdown",
   "metadata": {},
   "source": [
    "### Sandwich"
   ]
  },
  {
   "cell_type": "code",
   "execution_count": 10,
   "metadata": {},
   "outputs": [],
   "source": [
    "def sandwich_covariance(X, y, weights):\n",
    "    bread = ml_covariance(X, weights)\n",
    "    left_meat = tf.tensordot(tf.transpose(X, [0, 2, 1]), weights, 1)\n",
    "    right_meat =  tf.transpose(left_meat, [0, 2, 1])    \n",
    "    residuals = y - tf.tensordot(X, solve_beta(X, y, weights), 1)\n",
    "    residuals = tf.matmul(residuals, tf.transpose(residuals, [0, 2, 1]))\n",
    "    meat = tf.reduce_sum(tf.matmul(tf.matmul(left_meat, residuals), right_meat), 0)    \n",
    "    return tf.matmul(tf.matmul(bread, meat), bread)"
   ]
  },
  {
   "cell_type": "code",
   "execution_count": 11,
   "metadata": {},
   "outputs": [],
   "source": [
    "sandwich_covariance_estimate = sandwich_covariance(\n",
    "    X, y,\n",
    "    tf.linalg.cholesky_solve(tf.linalg.cholesky(\n",
    "        make_covariance_homoscedastic(log_variance)), tf.eye(X.shape[-1])))"
   ]
  },
  {
   "cell_type": "code",
   "execution_count": 12,
   "metadata": {},
   "outputs": [
    {
     "data": {
      "text/plain": [
       "(array([[ 0.28468183, -0.02929138, -0.28468183,  0.02929138],\n",
       "        [-0.02929133,  0.00967223,  0.02929132, -0.00967223],\n",
       "        [-0.2846818 ,  0.02929136,  0.5987651 , -0.02658853],\n",
       "        [ 0.02929131, -0.00967222, -0.02658838,  0.01365793]],\n",
       "       dtype=float32),\n",
       " array([0.5335558 , 0.09834749, 0.7737991 , 0.11686716], dtype=float32))"
      ]
     },
     "execution_count": 12,
     "metadata": {},
     "output_type": "execute_result"
    }
   ],
   "source": [
    "sandwich_covariance_estimate.numpy(), np.sqrt(np.diag(sandwich_covariance_estimate.numpy()))"
   ]
  },
  {
   "cell_type": "markdown",
   "metadata": {},
   "source": [
    "### Bootstrap"
   ]
  },
  {
   "cell_type": "code",
   "execution_count": 13,
   "metadata": {},
   "outputs": [],
   "source": [
    "class SamplingStrategy(abc.ABC):\n",
    "    @abc.abstractmethod\n",
    "    def __call__(self, clusters: Tuple[tf.Tensor, tf.Tensor]):\n",
    "        pass\n",
    "    \n",
    "class ClusterSampler(SamplingStrategy):\n",
    "    def __call__(self, clusters):\n",
    "        shape = tf.shape(clusters[0]).numpy()\n",
    "        sample = np.random.choice(shape[0], shape[0], replace=True)\n",
    "        return tuple([tf.gather(item, sample) for item in clusters])\n",
    "    \n",
    "class IndependentSampler(SamplingStrategy):\n",
    "    def __call__(self, clusters):\n",
    "        size = tf.reduce_prod(tf.shape(clusters[0])[:-1]).numpy()\n",
    "        sample = np.random.choice(size, size, replace=True)        \n",
    "        return tuple([self._sample(item, sample) for item in clusters])\n",
    "    \n",
    "    def _sample(self, tensor: tf.Tensor, indices: np.array):\n",
    "        original_shape = tf.shape(tensor)\n",
    "        tensor = tf.reshape(tensor, (len(indices), -1))\n",
    "        return tf.reshape(tf.gather(tensor, indices), original_shape)\n",
    "    \n",
    "class HierarchicalSampler(SamplingStrategy):\n",
    "    def __call__(self, clusters):\n",
    "        shape = tf.shape(clusters[0]).numpy()\n",
    "        size = 1        \n",
    "        samples = []\n",
    "        for s in shape[:-1]:\n",
    "            size *= s\n",
    "            samples.append(np.random.choice(s, size, replace=True))\n",
    "        \n",
    "        sample = []\n",
    "        for i in range(len(samples[-1])):\n",
    "            indices = [samples[-1][i]]\n",
    "            for j in range(len(shape) - 3, -1, -1):\n",
    "                indices.append(samples[j][i//s])\n",
    "            sample.append(tuple(reversed(indices)))\n",
    "                        \n",
    "        return tuple([tf.reshape(tf.gather_nd(item, sample), item.shape) for item in clusters])"
   ]
  },
  {
   "cell_type": "code",
   "execution_count": 14,
   "metadata": {},
   "outputs": [],
   "source": [
    "def _bootstrap_sample(args):\n",
    "    X, y, covariance_spec = args\n",
    "    covariance_params = fit(X, y, covariance_spec)\n",
    "    covariance = covariance_spec.make_covariance(covariance_params)\n",
    "    weights = tf.linalg.cholesky_solve(tf.linalg.cholesky(covariance), tf.eye(tf.shape(covariance)[0]))\n",
    "    return solve_beta(X, y, weights)\n",
    "\n",
    "def bootstrap(X, y, covariance_spec, sampler, num_trials):\n",
    "    args = (sampler((X, y)) + (covariance_spec,) for _ in range(num_trials))\n",
    "    pool = multiprocessing.Pool(4)\n",
    "    estimates = list(pool.imap_unordered(_bootstrap_sample, args, 4))\n",
    "    pool.close()\n",
    "    return np.squeeze(np.array(estimates))"
   ]
  },
  {
   "cell_type": "code",
   "execution_count": 77,
   "metadata": {},
   "outputs": [
    {
     "data": {
      "text/plain": [
       "0.11997406"
      ]
     },
     "execution_count": 77,
     "metadata": {},
     "output_type": "execute_result"
    }
   ],
   "source": [
    "#bootstrap_samples_cluster = bootstrap(\n",
    "#    X, y,\n",
    "#    CovarianceSpec(initial_params=[0.],\n",
    "#                   make_covariance=make_covariance_homoscedastic),\n",
    "#    sampler=ClusterSampler(), num_trials=2048)\n",
    "#np.save('bootstrap_samples_cluster', bootstrap_samples_cluster)\n",
    "bootstrap_samples_cluster = np.load('bootstrap_samples_cluster.npy')\n",
    "np.std(bootstrap_samples_cluster[:,3], ddof=1)"
   ]
  },
  {
   "cell_type": "code",
   "execution_count": 86,
   "metadata": {},
   "outputs": [
    {
     "data": {
      "text/plain": [
       "0.94970703125"
      ]
     },
     "execution_count": 86,
     "metadata": {},
     "output_type": "execute_result"
    }
   ],
   "source": [
    "np.mean(\n",
    "    np.abs(bootstrap_samples_cluster[:,3] - reml_estimates.iloc[3]['Estimate']) <= np.std(\n",
    "        bootstrap_samples_cluster[:,3], ddof=1)*stats.norm.ppf(0.975))"
   ]
  },
  {
   "cell_type": "code",
   "execution_count": 16,
   "metadata": {},
   "outputs": [],
   "source": [
    "#bootstrap_samples_independent = bootstrap(\n",
    "#    X, y,\n",
    "#    CovarianceSpec(initial_params=[0.],\n",
    "#                   make_covariance=make_covariance_homoscedastic),\n",
    "#    sampler=IndependentSampler(), num_trials=2048)\n",
    "#np.save('bootstrap_samples_independent', bootstrap_samples_independent)\n",
    "bootstrap_samples_independent = np.load('bootstrap_samples_independent.npy')"
   ]
  },
  {
   "cell_type": "code",
   "execution_count": 17,
   "metadata": {},
   "outputs": [],
   "source": [
    "#bootstrap_samples_hierarchical = bootstrap(\n",
    "#    X, y,\n",
    "#    CovarianceSpec(initial_params=[0.],\n",
    "#                   make_covariance=make_covariance_homoscedastic),\n",
    "#    sampler=HierarchicalSampler(), num_trials=2048)\n",
    "#np.save('bootstrap_samples_hierarchical', bootstrap_samples_hierarchical)\n",
    "bootstrap_samples_hierarchical = np.load('bootstrap_samples_hierarchical.npy')"
   ]
  },
  {
   "cell_type": "code",
   "execution_count": 87,
   "metadata": {},
   "outputs": [
    {
     "data": {
      "image/png": "[encoded data removed]",
      "text/plain": [
       "<Figure size 360x360 with 1 Axes>"
      ]
     },
     "metadata": {
      "needs_background": "light"
     },
     "output_type": "display_data"
    }
   ],
   "source": [
    "fig = plt.figure(figsize=(5,5))\n",
    "ax = fig.gca()\n",
    "sm.qqplot(bootstrap_samples_cluster[:,3],\n",
    "          line='45', ax=ax, fit=True)\n",
    "ax.grid(True)\n",
    "ax.set_title('Q–Q Plot of Bootstrap Samples of $\\\\hat\\\\beta_3$')\n",
    "ax.set_aspect('equal')\n",
    "fig.tight_layout()\n",
    "fig.savefig('qq_bootstrap_cluster.pdf', bbox_inches='tight')"
   ]
  },
  {
   "cell_type": "code",
   "execution_count": 91,
   "metadata": {},
   "outputs": [
    {
     "data": {
      "image/png": "[encoded data removed]",
      "text/plain": [
       "<Figure size 432x288 with 1 Axes>"
      ]
     },
     "metadata": {
      "needs_background": "light"
     },
     "output_type": "display_data"
    }
   ],
   "source": [
    "fig = plt.figure(figsize=(6,4))\n",
    "ax = fig.gca()\n",
    "ax.grid(True)\n",
    "sns.distplot(bootstrap_samples_independent[:,3], kde=False, ax=ax)\n",
    "ax.set_title('Histogram of Bootstrap Samples of $\\\\hat\\\\beta_3$')\n",
    "fig.tight_layout()\n",
    "fig.savefig('hist_bootstrap_cluster.pdf', bbox_inches='tight')"
   ]
  },
  {
   "cell_type": "code",
   "execution_count": 220,
   "metadata": {},
   "outputs": [
    {
     "data": {
      "text/plain": [
       "(2048, 4, 1)"
      ]
     },
     "execution_count": 220,
     "metadata": {},
     "output_type": "execute_result"
    }
   ],
   "source": [
    "bootstrap_samples_independent.shape"
   ]
  },
  {
   "cell_type": "code",
   "execution_count": 238,
   "metadata": {},
   "outputs": [
    {
     "data": {
      "text/plain": [
       "<matplotlib.axes._subplots.AxesSubplot at 0x7f1ed42ce518>"
      ]
     },
     "execution_count": 238,
     "metadata": {},
     "output_type": "execute_result"
    },
    {
     "data": {
      "image/png": "[encoded data removed]",
      "text/plain": [
       "<Figure size 432x288 with 1 Axes>"
      ]
     },
     "metadata": {
      "needs_background": "light"
     },
     "output_type": "display_data"
    }
   ],
   "source": []
  },
  {
   "cell_type": "code",
   "execution_count": 187,
   "metadata": {},
   "outputs": [
    {
     "data": {
      "text/plain": [
       "array([[21.648651  ,  0.98417586, -0.89475965, -0.31578362],\n",
       "       [21.884693  ,  1.0079076 , -0.13935333, -0.657391  ],\n",
       "       [23.005613  ,  0.6692774 , -1.6961492 , -0.16823702],\n",
       "       ...,\n",
       "       [22.48869   ,  0.7325147 , -1.3374456 , -0.27941138],\n",
       "       [22.635717  ,  0.7444124 , -0.9168482 , -0.2588601 ],\n",
       "       [23.857946  ,  0.6410407 , -2.958365  ,  0.1498677 ]],\n",
       "      dtype=float32)"
      ]
     },
     "execution_count": 187,
     "metadata": {},
     "output_type": "execute_result"
    }
   ],
   "source": [
    "np.squeeze(bootstrap_samples_independent)"
   ]
  },
  {
   "cell_type": "code",
   "execution_count": 245,
   "metadata": {},
   "outputs": [
    {
     "data": {
      "text/plain": [
       "0.21844482"
      ]
     },
     "execution_count": 245,
     "metadata": {},
     "output_type": "execute_result"
    }
   ],
   "source": [
    "np.sqrt(np.var(bootstrap_samples_hierarchical[:,3]))"
   ]
  },
  {
   "cell_type": "code",
   "execution_count": 240,
   "metadata": {},
   "outputs": [
    {
     "data": {
      "text/plain": [
       "-0.30128074"
      ]
     },
     "execution_count": 240,
     "metadata": {},
     "output_type": "execute_result"
    }
   ],
   "source": [
    "np.mean(bootstrap_samples_independent[:,3])"
   ]
  },
  {
   "cell_type": "markdown",
   "metadata": {},
   "source": [
    "## REML Exchangeable Test\n",
    "\n",
    "Should agree with numbers from Chapter 2, slides 73 and 75."
   ]
  },
  {
   "cell_type": "code",
   "execution_count": 23,
   "metadata": {},
   "outputs": [
    {
     "data": {
      "text/plain": [
       "array([2.3867779 , 2.058272  , 2.4678187 , 2.19673   , 0.63528943],\n",
       "      dtype=float32)"
      ]
     },
     "execution_count": 23,
     "metadata": {},
     "output_type": "execute_result"
    }
   ],
   "source": [
    "log_exchangeable_covariance_params = fit(\n",
    "    X, y,\n",
    "    CovarianceSpec(initial_params=[0., 0., 0., 0., -1.],\n",
    "                   make_covariance=make_covariance_exchangeable))\n",
    "tf.exp(log_exchangeable_covariance_params).numpy()"
   ]
  },
  {
   "cell_type": "code",
   "execution_count": 24,
   "metadata": {},
   "outputs": [
    {
     "data": {
      "text/plain": [
       "<tf.Tensor: id=418373, shape=(4, 1), dtype=float32, numpy=\n",
       "array([[22.485374  ],\n",
       "       [ 0.79431295],\n",
       "       [-1.2507197 ],\n",
       "       [-0.3155596 ]], dtype=float32)>"
      ]
     },
     "execution_count": 24,
     "metadata": {},
     "output_type": "execute_result"
    }
   ],
   "source": [
    "solve_beta(X, y, tf.linalg.cholesky_solve(\n",
    "    tf.linalg.cholesky(\n",
    "        make_covariance_exchangeable(log_exchangeable_covariance_params)),\n",
    "    tf.eye(X.shape[-1])))        "
   ]
  },
  {
   "cell_type": "code",
   "execution_count": 25,
   "metadata": {},
   "outputs": [
    {
     "data": {
      "text/plain": [
       "array([0.5308524 , 0.07701091, 0.8316859 , 0.12065291], dtype=float32)"
      ]
     },
     "execution_count": 25,
     "metadata": {},
     "output_type": "execute_result"
    }
   ],
   "source": [
    "tf.sqrt(tf.linalg.diag_part(\n",
    "    ml_covariance(X, tf.linalg.cholesky_solve(\n",
    "        tf.linalg.cholesky(\n",
    "            make_covariance_exchangeable(log_exchangeable_covariance_params)),\n",
    "        tf.eye(X.shape[-1]))))).numpy()"
   ]
  }
 ],
 "metadata": {
  "kernelspec": {
   "display_name": "Python 3",
   "language": "python",
   "name": "python3"
  },
  "language_info": {
   "codemirror_mode": {
    "name": "ipython",
    "version": 3
   },
   "file_extension": ".py",
   "mimetype": "text/x-python",
   "name": "python",
   "nbconvert_exporter": "python",
   "pygments_lexer": "ipython3",
   "version": "3.5.2"
  }
 },
 "nbformat": 4,
 "nbformat_minor": 2
}
