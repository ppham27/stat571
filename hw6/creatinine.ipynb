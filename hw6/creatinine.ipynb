{
 "cells": [
  {
   "cell_type": "markdown",
   "metadata": {},
   "source": [
    "# LME and Creatinine"
   ]
  },
  {
   "cell_type": "markdown",
   "metadata": {},
   "source": [
    "## Joining Data"
   ]
  },
  {
   "cell_type": "code",
   "execution_count": 50,
   "metadata": {},
   "outputs": [
    {
     "data": {
      "text/html": [
       "<table>\n",
       "<thead><tr><th scope=col>id</th><th scope=col>group</th><th scope=col>age</th><th scope=col>scr</th></tr></thead>\n",
       "<tbody>\n",
       "\t<tr><td>1     </td><td>1     </td><td>35.765</td><td>0.182 </td></tr>\n",
       "\t<tr><td>1     </td><td>1     </td><td>37.990</td><td>0.088 </td></tr>\n",
       "\t<tr><td>3     </td><td>1     </td><td>51.083</td><td>0.156 </td></tr>\n",
       "\t<tr><td>3     </td><td>1     </td><td>52.386</td><td>0.116 </td></tr>\n",
       "\t<tr><td>3     </td><td>1     </td><td>52.805</td><td>0.087 </td></tr>\n",
       "\t<tr><td>3     </td><td>1     </td><td>52.997</td><td>0.067 </td></tr>\n",
       "</tbody>\n",
       "</table>\n"
      ],
      "text/latex": [
       "\\begin{tabular}{r|llll}\n",
       " id & group & age & scr\\\\\n",
       "\\hline\n",
       "\t 1      & 1      & 35.765 & 0.182 \\\\\n",
       "\t 1      & 1      & 37.990 & 0.088 \\\\\n",
       "\t 3      & 1      & 51.083 & 0.156 \\\\\n",
       "\t 3      & 1      & 52.386 & 0.116 \\\\\n",
       "\t 3      & 1      & 52.805 & 0.087 \\\\\n",
       "\t 3      & 1      & 52.997 & 0.067 \\\\\n",
       "\\end{tabular}\n"
      ],
      "text/markdown": [
       "\n",
       "| id | group | age | scr |\n",
       "|---|---|---|---|\n",
       "| 1      | 1      | 35.765 | 0.182  |\n",
       "| 1      | 1      | 37.990 | 0.088  |\n",
       "| 3      | 1      | 51.083 | 0.156  |\n",
       "| 3      | 1      | 52.386 | 0.116  |\n",
       "| 3      | 1      | 52.805 | 0.087  |\n",
       "| 3      | 1      | 52.997 | 0.067  |\n",
       "\n"
      ],
      "text/plain": [
       "  id group age    scr  \n",
       "1 1  1     35.765 0.182\n",
       "2 1  1     37.990 0.088\n",
       "3 3  1     51.083 0.156\n",
       "4 3  1     52.386 0.116\n",
       "5 3  1     52.805 0.087\n",
       "6 3  1     52.997 0.067"
      ]
     },
     "metadata": {},
     "output_type": "display_data"
    }
   ],
   "source": [
    "library(data.table)\n",
    "library(nlme)\n",
    "\n",
    "creatinine.data <- data.table(read.csv('creat.csv'))\n",
    "setkey(creatinine.data, 'group')\n",
    "head(creatinine.data)"
   ]
  },
  {
   "cell_type": "code",
   "execution_count": 51,
   "metadata": {},
   "outputs": [
    {
     "data": {
      "text/html": [
       "<table>\n",
       "<thead><tr><th scope=col>group</th><th scope=col>kidney.disease</th><th scope=col>hypertension</th></tr></thead>\n",
       "<tbody>\n",
       "\t<tr><td>1</td><td>1</td><td>1</td></tr>\n",
       "\t<tr><td>2</td><td>1</td><td>0</td></tr>\n",
       "\t<tr><td>3</td><td>0</td><td>1</td></tr>\n",
       "\t<tr><td>4</td><td>0</td><td>0</td></tr>\n",
       "</tbody>\n",
       "</table>\n"
      ],
      "text/latex": [
       "\\begin{tabular}{r|lll}\n",
       " group & kidney.disease & hypertension\\\\\n",
       "\\hline\n",
       "\t 1 & 1 & 1\\\\\n",
       "\t 2 & 1 & 0\\\\\n",
       "\t 3 & 0 & 1\\\\\n",
       "\t 4 & 0 & 0\\\\\n",
       "\\end{tabular}\n"
      ],
      "text/markdown": [
       "\n",
       "| group | kidney.disease | hypertension |\n",
       "|---|---|---|\n",
       "| 1 | 1 | 1 |\n",
       "| 2 | 1 | 0 |\n",
       "| 3 | 0 | 1 |\n",
       "| 4 | 0 | 0 |\n",
       "\n"
      ],
      "text/plain": [
       "  group kidney.disease hypertension\n",
       "1 1     1              1           \n",
       "2 2     1              0           \n",
       "3 3     0              1           \n",
       "4 4     0              0           "
      ]
     },
     "metadata": {},
     "output_type": "display_data"
    }
   ],
   "source": [
    "group.data <- data.table(\n",
    "    group=c(1,2,3,4),\n",
    "    kidney.disease=c(1,1,0,0),\n",
    "    hypertension=c(1,0,1,0)\n",
    ")\n",
    "setkey(group.data, 'group')\n",
    "group.data"
   ]
  },
  {
   "cell_type": "code",
   "execution_count": 52,
   "metadata": {},
   "outputs": [
    {
     "data": {
      "text/html": [
       "<table>\n",
       "<thead><tr><th scope=col>id</th><th scope=col>group</th><th scope=col>age</th><th scope=col>scr</th><th scope=col>kidney.disease</th><th scope=col>hypertension</th></tr></thead>\n",
       "<tbody>\n",
       "\t<tr><td>1     </td><td>1     </td><td>35.765</td><td>0.182 </td><td>1     </td><td>1     </td></tr>\n",
       "\t<tr><td>1     </td><td>1     </td><td>37.990</td><td>0.088 </td><td>1     </td><td>1     </td></tr>\n",
       "\t<tr><td>3     </td><td>1     </td><td>51.083</td><td>0.156 </td><td>1     </td><td>1     </td></tr>\n",
       "\t<tr><td>3     </td><td>1     </td><td>52.386</td><td>0.116 </td><td>1     </td><td>1     </td></tr>\n",
       "\t<tr><td>3     </td><td>1     </td><td>52.805</td><td>0.087 </td><td>1     </td><td>1     </td></tr>\n",
       "\t<tr><td>3     </td><td>1     </td><td>52.997</td><td>0.067 </td><td>1     </td><td>1     </td></tr>\n",
       "</tbody>\n",
       "</table>\n"
      ],
      "text/latex": [
       "\\begin{tabular}{r|llllll}\n",
       " id & group & age & scr & kidney.disease & hypertension\\\\\n",
       "\\hline\n",
       "\t 1      & 1      & 35.765 & 0.182  & 1      & 1     \\\\\n",
       "\t 1      & 1      & 37.990 & 0.088  & 1      & 1     \\\\\n",
       "\t 3      & 1      & 51.083 & 0.156  & 1      & 1     \\\\\n",
       "\t 3      & 1      & 52.386 & 0.116  & 1      & 1     \\\\\n",
       "\t 3      & 1      & 52.805 & 0.087  & 1      & 1     \\\\\n",
       "\t 3      & 1      & 52.997 & 0.067  & 1      & 1     \\\\\n",
       "\\end{tabular}\n"
      ],
      "text/markdown": [
       "\n",
       "| id | group | age | scr | kidney.disease | hypertension |\n",
       "|---|---|---|---|---|---|\n",
       "| 1      | 1      | 35.765 | 0.182  | 1      | 1      |\n",
       "| 1      | 1      | 37.990 | 0.088  | 1      | 1      |\n",
       "| 3      | 1      | 51.083 | 0.156  | 1      | 1      |\n",
       "| 3      | 1      | 52.386 | 0.116  | 1      | 1      |\n",
       "| 3      | 1      | 52.805 | 0.087  | 1      | 1      |\n",
       "| 3      | 1      | 52.997 | 0.067  | 1      | 1      |\n",
       "\n"
      ],
      "text/plain": [
       "  id group age    scr   kidney.disease hypertension\n",
       "1 1  1     35.765 0.182 1              1           \n",
       "2 1  1     37.990 0.088 1              1           \n",
       "3 3  1     51.083 0.156 1              1           \n",
       "4 3  1     52.386 0.116 1              1           \n",
       "5 3  1     52.805 0.087 1              1           \n",
       "6 3  1     52.997 0.067 1              1           "
      ]
     },
     "metadata": {},
     "output_type": "display_data"
    }
   ],
   "source": [
    "creatinine.group.data <- creatinine.data[group.data]\n",
    "head(creatinine.group.data)"
   ]
  },
  {
   "cell_type": "markdown",
   "metadata": {},
   "source": [
    "## Fitting LME Model"
   ]
  },
  {
   "cell_type": "code",
   "execution_count": 90,
   "metadata": {},
   "outputs": [
    {
     "data": {
      "text/plain": [
       "Linear mixed-effects model fit by maximum likelihood\n",
       " Data: creatinine.group.data \n",
       "        AIC       BIC   logLik\n",
       "  -127.9923 -79.67728 72.99617\n",
       "\n",
       "Random effects:\n",
       " Formula: ~age | id\n",
       " Structure: Diagonal\n",
       "        (Intercept)         age  Residual\n",
       "StdDev:   0.1317441 0.004823218 0.2258346\n",
       "\n",
       "Correlation Structure: Exponential spatial correlation\n",
       " Formula: ~age | id \n",
       " Parameter estimate(s):\n",
       "    range    nugget \n",
       "4.6701089 0.2299759 \n",
       "Fixed effects: scr ~ age * kidney.disease \n",
       "                        Value  Std.Error  DF   t-value p-value\n",
       "(Intercept)         1.1906761 0.05430051 964 21.927530  0.0000\n",
       "age                -0.0031083 0.00143749 964 -2.162279  0.0308\n",
       "kidney.disease      0.3135749 0.07146362 617  4.387896  0.0000\n",
       "age:kidney.disease -0.0166492 0.00185944 964 -8.953872  0.0000\n",
       " Correlation: \n",
       "                   (Intr) age    kdny.d\n",
       "age                -0.928              \n",
       "kidney.disease     -0.760  0.705       \n",
       "age:kidney.disease  0.718 -0.773 -0.935\n",
       "\n",
       "Standardized Within-Group Residuals:\n",
       "        Min          Q1         Med          Q3         Max \n",
       "-2.30555503 -0.53490222 -0.07977024  0.36022483  5.46804365 \n",
       "\n",
       "Number of Observations: 1585\n",
       "Number of Groups: 619 "
      ]
     },
     "metadata": {},
     "output_type": "display_data"
    }
   ],
   "source": [
    "scr.model <- lme(scr ~ age*kidney.disease,\n",
    "                 random=reStruct(~age|id, pdClass='pdDiag'),\n",
    "                 correlation=corExp(form=~age|id, nugget=TRUE),\n",
    "                 method='ML', data=creatinine.group.data)\n",
    "summary(scr.model)"
   ]
  },
  {
   "cell_type": "code",
   "execution_count": 87,
   "metadata": {},
   "outputs": [
    {
     "data": {
      "text/html": [
       "966"
      ],
      "text/latex": [
       "966"
      ],
      "text/markdown": [
       "966"
      ],
      "text/plain": [
       "[1] 966"
      ]
     },
     "metadata": {},
     "output_type": "display_data"
    }
   ],
   "source": []
  },
  {
   "cell_type": "code",
   "execution_count": 39,
   "metadata": {},
   "outputs": [
    {
     "data": {
      "text/html": [
       "<table>\n",
       "<thead><tr><th scope=col>V1</th><th scope=col>V1</th></tr></thead>\n",
       "<tbody>\n",
       "\t<tr><td>1  </td><td>294</td></tr>\n",
       "\t<tr><td>2  </td><td>103</td></tr>\n",
       "\t<tr><td>3  </td><td> 73</td></tr>\n",
       "\t<tr><td>4  </td><td>149</td></tr>\n",
       "</tbody>\n",
       "</table>\n"
      ],
      "text/latex": [
       "\\begin{tabular}{r|ll}\n",
       " V1 & V1\\\\\n",
       "\\hline\n",
       "\t 1   & 294\\\\\n",
       "\t 2   & 103\\\\\n",
       "\t 3   &  73\\\\\n",
       "\t 4   & 149\\\\\n",
       "\\end{tabular}\n"
      ],
      "text/markdown": [
       "\n",
       "| V1 | V1 |\n",
       "|---|---|\n",
       "| 1   | 294 |\n",
       "| 2   | 103 |\n",
       "| 3   |  73 |\n",
       "| 4   | 149 |\n",
       "\n"
      ],
      "text/plain": [
       "  V1 V1 \n",
       "1 1  294\n",
       "2 2  103\n",
       "3 3   73\n",
       "4 4  149"
      ]
     },
     "metadata": {},
     "output_type": "display_data"
    }
   ],
   "source": [
    "creatinine.data[,max(group),keyby=c('id')][,length(id),keyby=c('V1')]\n",
    "#unique(creatinine.data[,'id'])"
   ]
  },
  {
   "cell_type": "code",
   "execution_count": 20,
   "metadata": {},
   "outputs": [
    {
     "data": {
      "text/html": [
       "<table>\n",
       "<thead><tr><th scope=col>group</th><th scope=col>count</th></tr></thead>\n",
       "<tbody>\n",
       "\t<tr><td>1   </td><td>1001</td></tr>\n",
       "\t<tr><td>2   </td><td> 202</td></tr>\n",
       "\t<tr><td>4   </td><td> 240</td></tr>\n",
       "\t<tr><td>3   </td><td> 142</td></tr>\n",
       "</tbody>\n",
       "</table>\n"
      ],
      "text/latex": [
       "\\begin{tabular}{r|ll}\n",
       " group & count\\\\\n",
       "\\hline\n",
       "\t 1    & 1001\\\\\n",
       "\t 2    &  202\\\\\n",
       "\t 4    &  240\\\\\n",
       "\t 3    &  142\\\\\n",
       "\\end{tabular}\n"
      ],
      "text/markdown": [
       "\n",
       "| group | count |\n",
       "|---|---|\n",
       "| 1    | 1001 |\n",
       "| 2    |  202 |\n",
       "| 4    |  240 |\n",
       "| 3    |  142 |\n",
       "\n"
      ],
      "text/plain": [
       "  group count\n",
       "1 1     1001 \n",
       "2 2      202 \n",
       "3 4      240 \n",
       "4 3      142 "
      ]
     },
     "metadata": {},
     "output_type": "display_data"
    }
   ],
   "source": [
    "#creatinine.data[,list(count=length(id)),by=c('group')]"
   ]
  },
  {
   "cell_type": "code",
   "execution_count": 18,
   "metadata": {},
   "outputs": [
    {
     "data": {
      "text/html": [
       "1585"
      ],
      "text/latex": [
       "1585"
      ],
      "text/markdown": [
       "1585"
      ],
      "text/plain": [
       "[1] 1585"
      ]
     },
     "metadata": {},
     "output_type": "display_data"
    }
   ],
   "source": [
    "nrow(creatinine.data)"
   ]
  }
 ],
 "metadata": {
  "kernelspec": {
   "display_name": "R",
   "language": "R",
   "name": "ir"
  },
  "language_info": {
   "codemirror_mode": "r",
   "file_extension": ".r",
   "mimetype": "text/x-r-source",
   "name": "R",
   "pygments_lexer": "r",
   "version": "3.5.2"
  }
 },
 "nbformat": 4,
 "nbformat_minor": 2
}
