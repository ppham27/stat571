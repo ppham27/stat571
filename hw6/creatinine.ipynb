{
 "cells": [
  {
   "cell_type": "markdown",
   "metadata": {},
   "source": [
    "# LME and Creatinine"
   ]
  },
  {
   "cell_type": "markdown",
   "metadata": {},
   "source": [
    "## Joining Data"
   ]
  },
  {
   "cell_type": "code",
   "execution_count": 1,
   "metadata": {},
   "outputs": [
    {
     "data": {
      "text/html": [
       "<table>\n",
       "<thead><tr><th scope=col>id</th><th scope=col>group</th><th scope=col>age</th><th scope=col>scr</th></tr></thead>\n",
       "<tbody>\n",
       "\t<tr><td>1     </td><td>1     </td><td>35.765</td><td>0.182 </td></tr>\n",
       "\t<tr><td>1     </td><td>1     </td><td>37.990</td><td>0.088 </td></tr>\n",
       "\t<tr><td>3     </td><td>1     </td><td>51.083</td><td>0.156 </td></tr>\n",
       "\t<tr><td>3     </td><td>1     </td><td>52.386</td><td>0.116 </td></tr>\n",
       "\t<tr><td>3     </td><td>1     </td><td>52.805</td><td>0.087 </td></tr>\n",
       "\t<tr><td>3     </td><td>1     </td><td>52.997</td><td>0.067 </td></tr>\n",
       "</tbody>\n",
       "</table>\n"
      ],
      "text/latex": [
       "\\begin{tabular}{r|llll}\n",
       " id & group & age & scr\\\\\n",
       "\\hline\n",
       "\t 1      & 1      & 35.765 & 0.182 \\\\\n",
       "\t 1      & 1      & 37.990 & 0.088 \\\\\n",
       "\t 3      & 1      & 51.083 & 0.156 \\\\\n",
       "\t 3      & 1      & 52.386 & 0.116 \\\\\n",
       "\t 3      & 1      & 52.805 & 0.087 \\\\\n",
       "\t 3      & 1      & 52.997 & 0.067 \\\\\n",
       "\\end{tabular}\n"
      ],
      "text/markdown": [
       "\n",
       "| id | group | age | scr |\n",
       "|---|---|---|---|\n",
       "| 1      | 1      | 35.765 | 0.182  |\n",
       "| 1      | 1      | 37.990 | 0.088  |\n",
       "| 3      | 1      | 51.083 | 0.156  |\n",
       "| 3      | 1      | 52.386 | 0.116  |\n",
       "| 3      | 1      | 52.805 | 0.087  |\n",
       "| 3      | 1      | 52.997 | 0.067  |\n",
       "\n"
      ],
      "text/plain": [
       "  id group age    scr  \n",
       "1 1  1     35.765 0.182\n",
       "2 1  1     37.990 0.088\n",
       "3 3  1     51.083 0.156\n",
       "4 3  1     52.386 0.116\n",
       "5 3  1     52.805 0.087\n",
       "6 3  1     52.997 0.067"
      ]
     },
     "metadata": {},
     "output_type": "display_data"
    }
   ],
   "source": [
    "library(data.table)\n",
    "library(nlme)\n",
    "library(parallel)\n",
    "\n",
    "creatinine.data <- data.table(read.csv('creat.csv'), key='group')\n",
    "head(creatinine.data)"
   ]
  },
  {
   "cell_type": "code",
   "execution_count": 2,
   "metadata": {},
   "outputs": [
    {
     "data": {
      "text/html": [
       "<table>\n",
       "<thead><tr><th scope=col>group</th><th scope=col>kidney.disease</th><th scope=col>hypertension</th></tr></thead>\n",
       "<tbody>\n",
       "\t<tr><td>1</td><td>1</td><td>1</td></tr>\n",
       "\t<tr><td>2</td><td>1</td><td>0</td></tr>\n",
       "\t<tr><td>3</td><td>0</td><td>1</td></tr>\n",
       "\t<tr><td>4</td><td>0</td><td>0</td></tr>\n",
       "</tbody>\n",
       "</table>\n"
      ],
      "text/latex": [
       "\\begin{tabular}{r|lll}\n",
       " group & kidney.disease & hypertension\\\\\n",
       "\\hline\n",
       "\t 1 & 1 & 1\\\\\n",
       "\t 2 & 1 & 0\\\\\n",
       "\t 3 & 0 & 1\\\\\n",
       "\t 4 & 0 & 0\\\\\n",
       "\\end{tabular}\n"
      ],
      "text/markdown": [
       "\n",
       "| group | kidney.disease | hypertension |\n",
       "|---|---|---|\n",
       "| 1 | 1 | 1 |\n",
       "| 2 | 1 | 0 |\n",
       "| 3 | 0 | 1 |\n",
       "| 4 | 0 | 0 |\n",
       "\n"
      ],
      "text/plain": [
       "  group kidney.disease hypertension\n",
       "1 1     1              1           \n",
       "2 2     1              0           \n",
       "3 3     0              1           \n",
       "4 4     0              0           "
      ]
     },
     "metadata": {},
     "output_type": "display_data"
    }
   ],
   "source": [
    "group.data <- data.table(\n",
    "    group=c(1,2,3,4),\n",
    "    kidney.disease=c(1,1,0,0),\n",
    "    hypertension=c(1,0,1,0),\n",
    "    key='group')\n",
    "group.data"
   ]
  },
  {
   "cell_type": "code",
   "execution_count": 3,
   "metadata": {},
   "outputs": [
    {
     "data": {
      "text/html": [
       "<table>\n",
       "<thead><tr><th scope=col>id</th><th scope=col>group</th><th scope=col>age</th><th scope=col>scr</th><th scope=col>kidney.disease</th><th scope=col>hypertension</th></tr></thead>\n",
       "<tbody>\n",
       "\t<tr><td>1     </td><td>1     </td><td>35.765</td><td>0.182 </td><td>1     </td><td>1     </td></tr>\n",
       "\t<tr><td>1     </td><td>1     </td><td>37.990</td><td>0.088 </td><td>1     </td><td>1     </td></tr>\n",
       "\t<tr><td>2     </td><td>2     </td><td>24.997</td><td>1.429 </td><td>1     </td><td>0     </td></tr>\n",
       "\t<tr><td>2     </td><td>2     </td><td>27.441</td><td>1.111 </td><td>1     </td><td>0     </td></tr>\n",
       "\t<tr><td>2     </td><td>2     </td><td>30.524</td><td>1.429 </td><td>1     </td><td>0     </td></tr>\n",
       "\t<tr><td>3     </td><td>1     </td><td>51.083</td><td>0.156 </td><td>1     </td><td>1     </td></tr>\n",
       "</tbody>\n",
       "</table>\n"
      ],
      "text/latex": [
       "\\begin{tabular}{r|llllll}\n",
       " id & group & age & scr & kidney.disease & hypertension\\\\\n",
       "\\hline\n",
       "\t 1      & 1      & 35.765 & 0.182  & 1      & 1     \\\\\n",
       "\t 1      & 1      & 37.990 & 0.088  & 1      & 1     \\\\\n",
       "\t 2      & 2      & 24.997 & 1.429  & 1      & 0     \\\\\n",
       "\t 2      & 2      & 27.441 & 1.111  & 1      & 0     \\\\\n",
       "\t 2      & 2      & 30.524 & 1.429  & 1      & 0     \\\\\n",
       "\t 3      & 1      & 51.083 & 0.156  & 1      & 1     \\\\\n",
       "\\end{tabular}\n"
      ],
      "text/markdown": [
       "\n",
       "| id | group | age | scr | kidney.disease | hypertension |\n",
       "|---|---|---|---|---|---|\n",
       "| 1      | 1      | 35.765 | 0.182  | 1      | 1      |\n",
       "| 1      | 1      | 37.990 | 0.088  | 1      | 1      |\n",
       "| 2      | 2      | 24.997 | 1.429  | 1      | 0      |\n",
       "| 2      | 2      | 27.441 | 1.111  | 1      | 0      |\n",
       "| 2      | 2      | 30.524 | 1.429  | 1      | 0      |\n",
       "| 3      | 1      | 51.083 | 0.156  | 1      | 1      |\n",
       "\n"
      ],
      "text/plain": [
       "  id group age    scr   kidney.disease hypertension\n",
       "1 1  1     35.765 0.182 1              1           \n",
       "2 1  1     37.990 0.088 1              1           \n",
       "3 2  2     24.997 1.429 1              0           \n",
       "4 2  2     27.441 1.111 1              0           \n",
       "5 2  2     30.524 1.429 1              0           \n",
       "6 3  1     51.083 0.156 1              1           "
      ]
     },
     "metadata": {},
     "output_type": "display_data"
    }
   ],
   "source": [
    "creatinine.group.data <- creatinine.data[group.data]\n",
    "setkey(creatinine.group.data, id)\n",
    "head(creatinine.group.data)"
   ]
  },
  {
   "cell_type": "markdown",
   "metadata": {},
   "source": [
    "## Fitting LME Model"
   ]
  },
  {
   "cell_type": "code",
   "execution_count": 280,
   "metadata": {},
   "outputs": [],
   "source": [
    "fit.scr.model <- function(data, interaction.term=FALSE) {\n",
    "    formula = scr ~ age + kidney.disease\n",
    "    if (interaction.term) { formula <- update(formula, . ~ . + age:kidney.disease) }\n",
    "    lme(formula,\n",
    "        random=reStruct(~age|id, pdClass='pdDiag'),\n",
    "        correlation=corExp(form=~age|id, nugget=TRUE),\n",
    "        method='ML', data=data,\n",
    "        control=lmeControl(maxIter=100, msMaxIter=100, niterEM=50))\n",
    "}"
   ]
  },
  {
   "cell_type": "markdown",
   "metadata": {},
   "source": [
    "## Covariance for Subject $i$"
   ]
  },
  {
   "cell_type": "code",
   "execution_count": 220,
   "metadata": {},
   "outputs": [],
   "source": [
    "make.covariance <- function(model, i) {\n",
    "    # Error term, usually denoted epsilon\n",
    "    error.correlation <- corMatrix(model$modelStruct$corStruct)[[as.character(i)]]\n",
    "    if (is.null(error.correlation)) { error.correlation <- 1 }\n",
    "    # Random effects correlation, Z * G * tranpose(Z).\n",
    "    Z <- cbind(1, model$data[J(i), age])\n",
    "    random.correlation <- Z %*% as.matrix(model$modelStruct$reStruct$id) %*% t(Z)\n",
    "    # Convert correlation matrix into covariance matrix.\n",
    "    (random.correlation + error.correlation)*(model$sigma*model$sigma)\n",
    "}"
   ]
  },
  {
   "cell_type": "markdown",
   "metadata": {},
   "source": [
    "## $\\beta_j$ Covariance "
   ]
  },
  {
   "cell_type": "markdown",
   "metadata": {},
   "source": [
    "### Maximum Likelihood Estimate\n",
    "\n",
    "This assumes that the random effects model is correct. I can also be used as the *bread* part of the sandwich estimator."
   ]
  },
  {
   "cell_type": "code",
   "execution_count": 286,
   "metadata": {},
   "outputs": [],
   "source": [
    "make.covariates <- function(model, data) model.matrix(model$terms, data)\n",
    "\n",
    "make.ml.parameter.covariance <- function(model) {\n",
    "    groups <- unique(model$groups)$id\n",
    "    chol2inv(chol(Reduce(`+`, lapply(groups, function(i) {\n",
    "        X <- make.covariates(model, model$data[J(i)])\n",
    "        t(X) %*% chol2inv(chol(make.covariance(model, i))) %*% X\n",
    "    }))))\n",
    "}"
   ]
  },
  {
   "cell_type": "markdown",
   "metadata": {},
   "source": [
    "### Sandwich Estimate"
   ]
  },
  {
   "cell_type": "code",
   "execution_count": 285,
   "metadata": {},
   "outputs": [],
   "source": [
    "make.response <- function(data) data$scr\n",
    "\n",
    "make.sandwich.parameter.covariance <- function(model) {\n",
    "    bread <- make.ml.parameter.covariance(model)    \n",
    "    meat <- Reduce(`+`, lapply(unique(model$groups)$id, function(i) {\n",
    "        X <- make.covariates(model, model$data[J(i)])\n",
    "        y <- make.response(model$data[J(i)])\n",
    "        weights <- chol2inv(chol(make.covariance(model, i)))\n",
    "        residuals <- as.numeric(make.response(model$data[J(i)]) - X %*% scr.model$coefficients$fixed)\n",
    "        empirical.covariance <- outer(residuals, residuals)\n",
    "        t(X) %*% weights %*% empirical.covariance %*% weights %*% X\n",
    "    }))        \n",
    "    bread %*% meat %*% bread\n",
    "}"
   ]
  },
  {
   "cell_type": "markdown",
   "metadata": {},
   "source": [
    "### Bootstrap Estimate\n",
    "\n",
    "To account for clustering of the data, we resample clusters."
   ]
  },
  {
   "cell_type": "code",
   "execution_count": 274,
   "metadata": {},
   "outputs": [],
   "source": [
    "resample.clusters <- function(data) {\n",
    "    resampled.data <- data[\n",
    "        data.table(id=sample(unique(data$id), replace=TRUE),\n",
    "                   new.id=c(1:length(unique(data$id))),\n",
    "                   key='id')] \n",
    "    resampled.data[,id:=NULL]\n",
    "    setnames(resampled.data, 'new.id', 'id')\n",
    "    setkey(resampled.data, id)\n",
    "    resampled.data\n",
    "}\n",
    "\n",
    "bootstrap.samples <- do.call(rbind, mclapply(\n",
    "    replicate(256, creatinine.group.data, simplify=FALSE), function(data) {\n",
    "        resampled.data <- resample.clusters(data)\n",
    "        fit.scr.model(resampled.data)$coefficients$fixed\n",
    "    }, mc.cores=4))"
   ]
  },
  {
   "cell_type": "markdown",
   "metadata": {},
   "source": [
    "## Models"
   ]
  },
  {
   "cell_type": "markdown",
   "metadata": {},
   "source": [
    "### Without Interaction Term"
   ]
  },
  {
   "cell_type": "code",
   "execution_count": 282,
   "metadata": {},
   "outputs": [
    {
     "data": {
      "text/plain": [
       "Linear mixed-effects model fit by maximum likelihood\n",
       " Data: data \n",
       "        AIC       BIC   logLik\n",
       "  -53.94986 -11.00314 34.97493\n",
       "\n",
       "Random effects:\n",
       " Formula: ~age | id\n",
       " Structure: Diagonal\n",
       "        (Intercept)        age  Residual\n",
       "StdDev:  0.04643211 0.00522239 0.2633414\n",
       "\n",
       "Correlation Structure: Exponential spatial correlation\n",
       " Formula: ~age | id \n",
       " Parameter estimate(s):\n",
       "    range    nugget \n",
       "7.8894707 0.1759323 \n",
       "Fixed effects: list(formula) \n",
       "                    Value  Std.Error  DF   t-value p-value\n",
       "(Intercept)     1.5322224 0.03955663 965  38.73490       0\n",
       "age            -0.0129154 0.00096383 965 -13.40006       0\n",
       "kidney.disease -0.2819162 0.02626024 617 -10.73548       0\n",
       " Correlation: \n",
       "               (Intr) age   \n",
       "age            -0.849       \n",
       "kidney.disease -0.352 -0.082\n",
       "\n",
       "Standardized Within-Group Residuals:\n",
       "        Min          Q1         Med          Q3         Max \n",
       "-2.49081741 -0.56731338 -0.07887231  0.43113427  4.95897388 \n",
       "\n",
       "Number of Observations: 1585\n",
       "Number of Groups: 619 "
      ]
     },
     "metadata": {},
     "output_type": "display_data"
    }
   ],
   "source": [
    "scr.model <- fit.scr.model(creatinine.group.data)\n",
    "summary(scr.model, adjustSigma=FALSE)"
   ]
  },
  {
   "cell_type": "code",
   "execution_count": 287,
   "metadata": {},
   "outputs": [],
   "source": [
    "ml.parameter.covariance <- make.ml.parameter.covariance(scr.model)\n",
    "\n",
    "sandwich.parameter.covariance <- make.sandwich.parameter.covariance(scr.model)\n",
    "\n",
    "bootstrap.parameter.samples <- do.call(rbind, mclapply(\n",
    "    replicate(256, creatinine.group.data, simplify=FALSE), function(data) {\n",
    "        resampled.data <- resample.clusters(data)\n",
    "        fit.scr.model(resampled.data)$coefficients$fixed\n",
    "    }, mc.cores=4))\n",
    "bootstrap.parameter.covariance <- cov(bootstrap.parameter.samples)"
   ]
  },
  {
   "cell_type": "code",
   "execution_count": 294,
   "metadata": {},
   "outputs": [
    {
     "data": {
      "text/html": [
       "<table>\n",
       "<thead><tr><th></th><th scope=col>ML Standard Error</th><th scope=col>Sandwich Standard Error</th><th scope=col>Bootstrap Standard Error</th></tr></thead>\n",
       "<tbody>\n",
       "\t<tr><th scope=row>(Intercept)</th><td>0.0395566329</td><td>0.0393479582</td><td>0.0391103317</td></tr>\n",
       "\t<tr><th scope=row>age</th><td>0.0009638288</td><td>0.0009409584</td><td>0.0009455051</td></tr>\n",
       "\t<tr><th scope=row>kidney.disease</th><td>0.0262602392</td><td>0.0250273809</td><td>0.0356029577</td></tr>\n",
       "</tbody>\n",
       "</table>\n"
      ],
      "text/latex": [
       "\\begin{tabular}{r|lll}\n",
       "  & ML Standard Error & Sandwich Standard Error & Bootstrap Standard Error\\\\\n",
       "\\hline\n",
       "\t(Intercept) & 0.0395566329 & 0.0393479582 & 0.0391103317\\\\\n",
       "\tage & 0.0009638288 & 0.0009409584 & 0.0009455051\\\\\n",
       "\tkidney.disease & 0.0262602392 & 0.0250273809 & 0.0356029577\\\\\n",
       "\\end{tabular}\n"
      ],
      "text/markdown": [
       "\n",
       "| <!--/--> | ML Standard Error | Sandwich Standard Error | Bootstrap Standard Error |\n",
       "|---|---|---|---|\n",
       "| (Intercept) | 0.0395566329 | 0.0393479582 | 0.0391103317 |\n",
       "| age | 0.0009638288 | 0.0009409584 | 0.0009455051 |\n",
       "| kidney.disease | 0.0262602392 | 0.0250273809 | 0.0356029577 |\n",
       "\n"
      ],
      "text/plain": [
       "               ML Standard Error Sandwich Standard Error\n",
       "(Intercept)    0.0395566329      0.0393479582           \n",
       "age            0.0009638288      0.0009409584           \n",
       "kidney.disease 0.0262602392      0.0250273809           \n",
       "               Bootstrap Standard Error\n",
       "(Intercept)    0.0391103317            \n",
       "age            0.0009455051            \n",
       "kidney.disease 0.0356029577            "
      ]
     },
     "metadata": {},
     "output_type": "display_data"
    }
   ],
   "source": [
    "\n",
    "\n",
    "standard.errors <- data.frame(\n",
    "    `ML Standard Error`=sqrt(diag(ml.parameter.covariance)),\n",
    "    `Sandwich Standard Error`=sqrt(diag(sandwich.parameter.covariance)),\n",
    "    `Bootstrap Standard Error`=sqrt(diag(bootstrap.parameter.covariance)),\n",
    "    check.names=FALSE)\n",
    "\n",
    "standard.errors"
   ]
  },
  {
   "cell_type": "code",
   "execution_count": 279,
   "metadata": {},
   "outputs": [
    {
     "data": {
      "text/html": [
       "<table>\n",
       "<thead><tr><th scope=col>group</th><th scope=col>age</th><th scope=col>scr</th><th scope=col>kidney.disease</th><th scope=col>hypertension</th><th scope=col>id</th></tr></thead>\n",
       "<tbody>\n",
       "\t<tr><td>1     </td><td>64.498</td><td>0.098 </td><td>1     </td><td>1     </td><td>3     </td></tr>\n",
       "\t<tr><td>1     </td><td>64.531</td><td>0.083 </td><td>1     </td><td>1     </td><td>3     </td></tr>\n",
       "\t<tr><td>1     </td><td>64.542</td><td>0.081 </td><td>1     </td><td>1     </td><td>3     </td></tr>\n",
       "\t<tr><td>1     </td><td>64.556</td><td>0.094 </td><td>1     </td><td>1     </td><td>3     </td></tr>\n",
       "</tbody>\n",
       "</table>\n"
      ],
      "text/latex": [
       "\\begin{tabular}{r|llllll}\n",
       " group & age & scr & kidney.disease & hypertension & id\\\\\n",
       "\\hline\n",
       "\t 1      & 64.498 & 0.098  & 1      & 1      & 3     \\\\\n",
       "\t 1      & 64.531 & 0.083  & 1      & 1      & 3     \\\\\n",
       "\t 1      & 64.542 & 0.081  & 1      & 1      & 3     \\\\\n",
       "\t 1      & 64.556 & 0.094  & 1      & 1      & 3     \\\\\n",
       "\\end{tabular}\n"
      ],
      "text/markdown": [
       "\n",
       "| group | age | scr | kidney.disease | hypertension | id |\n",
       "|---|---|---|---|---|---|\n",
       "| 1      | 64.498 | 0.098  | 1      | 1      | 3      |\n",
       "| 1      | 64.531 | 0.083  | 1      | 1      | 3      |\n",
       "| 1      | 64.542 | 0.081  | 1      | 1      | 3      |\n",
       "| 1      | 64.556 | 0.094  | 1      | 1      | 3      |\n",
       "\n"
      ],
      "text/plain": [
       "  group age    scr   kidney.disease hypertension id\n",
       "1 1     64.498 0.098 1              1            3 \n",
       "2 1     64.531 0.083 1              1            3 \n",
       "3 1     64.542 0.081 1              1            3 \n",
       "4 1     64.556 0.094 1              1            3 "
      ]
     },
     "metadata": {},
     "output_type": "display_data"
    }
   ],
   "source": [
    "resample.clusters(creatinine.group.data)[J(3)]"
   ]
  },
  {
   "cell_type": "code",
   "execution_count": 53,
   "metadata": {},
   "outputs": [
    {
     "data": {
      "text/html": [
       "<table>\n",
       "<thead><tr><th scope=col>id</th><th scope=col>group</th><th scope=col>age</th><th scope=col>scr</th><th scope=col>kidney.disease</th><th scope=col>hypertension</th></tr></thead>\n",
       "<tbody>\n",
       "\t<tr><td>1     </td><td>1     </td><td>35.765</td><td>0.182 </td><td>1     </td><td>1     </td></tr>\n",
       "\t<tr><td>1     </td><td>1     </td><td>37.990</td><td>0.088 </td><td>1     </td><td>1     </td></tr>\n",
       "\t<tr><td>1     </td><td>1     </td><td>35.765</td><td>0.182 </td><td>1     </td><td>1     </td></tr>\n",
       "\t<tr><td>1     </td><td>1     </td><td>37.990</td><td>0.088 </td><td>1     </td><td>1     </td></tr>\n",
       "</tbody>\n",
       "</table>\n"
      ],
      "text/latex": [
       "\\begin{tabular}{r|llllll}\n",
       " id & group & age & scr & kidney.disease & hypertension\\\\\n",
       "\\hline\n",
       "\t 1      & 1      & 35.765 & 0.182  & 1      & 1     \\\\\n",
       "\t 1      & 1      & 37.990 & 0.088  & 1      & 1     \\\\\n",
       "\t 1      & 1      & 35.765 & 0.182  & 1      & 1     \\\\\n",
       "\t 1      & 1      & 37.990 & 0.088  & 1      & 1     \\\\\n",
       "\\end{tabular}\n"
      ],
      "text/markdown": [
       "\n",
       "| id | group | age | scr | kidney.disease | hypertension |\n",
       "|---|---|---|---|---|---|\n",
       "| 1      | 1      | 35.765 | 0.182  | 1      | 1      |\n",
       "| 1      | 1      | 37.990 | 0.088  | 1      | 1      |\n",
       "| 1      | 1      | 35.765 | 0.182  | 1      | 1      |\n",
       "| 1      | 1      | 37.990 | 0.088  | 1      | 1      |\n",
       "\n"
      ],
      "text/plain": [
       "  id group age    scr   kidney.disease hypertension\n",
       "1 1  1     35.765 0.182 1              1           \n",
       "2 1  1     37.990 0.088 1              1           \n",
       "3 1  1     35.765 0.182 1              1           \n",
       "4 1  1     37.990 0.088 1              1           "
      ]
     },
     "metadata": {},
     "output_type": "display_data"
    }
   ],
   "source": [
    "creatinine.group.data[J(c(1,1))]"
   ]
  },
  {
   "cell_type": "code",
   "execution_count": 275,
   "metadata": {},
   "outputs": [
    {
     "data": {
      "text/html": [
       "<table>\n",
       "<thead><tr><th scope=col>(Intercept)</th><th scope=col>age</th><th scope=col>kidney.disease</th></tr></thead>\n",
       "<tbody>\n",
       "\t<tr><td>1.592835   </td><td>-0.01562243</td><td>-0.2216814 </td></tr>\n",
       "\t<tr><td>1.512682   </td><td>-0.01267716</td><td>-0.2492987 </td></tr>\n",
       "\t<tr><td>1.524710   </td><td>-0.01214914</td><td>-0.3250322 </td></tr>\n",
       "\t<tr><td>1.597048   </td><td>-0.01522402</td><td>-0.2400272 </td></tr>\n",
       "\t<tr><td>1.490458   </td><td>-0.01180992</td><td>-0.2912710 </td></tr>\n",
       "\t<tr><td>1.608163   </td><td>-0.01491729</td><td>-0.2800163 </td></tr>\n",
       "\t<tr><td>1.583784   </td><td>-0.01455206</td><td>-0.2543530 </td></tr>\n",
       "\t<tr><td>1.598911   </td><td>-0.01498603</td><td>-0.2606407 </td></tr>\n",
       "\t<tr><td>1.541182   </td><td>-0.01353970</td><td>-0.2493905 </td></tr>\n",
       "\t<tr><td>1.527865   </td><td>-0.01359189</td><td>-0.2425840 </td></tr>\n",
       "\t<tr><td>1.517937   </td><td>-0.01256014</td><td>-0.2809310 </td></tr>\n",
       "\t<tr><td>1.544683   </td><td>-0.01267087</td><td>-0.2922539 </td></tr>\n",
       "\t<tr><td>1.567594   </td><td>-0.01412179</td><td>-0.2488097 </td></tr>\n",
       "\t<tr><td>1.523858   </td><td>-0.01107630</td><td>-0.3638740 </td></tr>\n",
       "\t<tr><td>1.459795   </td><td>-0.01145307</td><td>-0.2630933 </td></tr>\n",
       "\t<tr><td>1.533778   </td><td>-0.01306808</td><td>-0.3033162 </td></tr>\n",
       "\t<tr><td>1.604208   </td><td>-0.01410292</td><td>-0.3293012 </td></tr>\n",
       "\t<tr><td>1.487766   </td><td>-0.01118632</td><td>-0.2882765 </td></tr>\n",
       "\t<tr><td>1.511064   </td><td>-0.01287158</td><td>-0.2495410 </td></tr>\n",
       "\t<tr><td>1.542727   </td><td>-0.01392674</td><td>-0.2434661 </td></tr>\n",
       "\t<tr><td>1.579721   </td><td>-0.01431387</td><td>-0.2939184 </td></tr>\n",
       "\t<tr><td>1.573573   </td><td>-0.01263213</td><td>-0.3763889 </td></tr>\n",
       "\t<tr><td>1.523688   </td><td>-0.01330238</td><td>-0.2504849 </td></tr>\n",
       "\t<tr><td>1.577710   </td><td>-0.01382787</td><td>-0.2796559 </td></tr>\n",
       "\t<tr><td>1.572936   </td><td>-0.01297676</td><td>-0.3228215 </td></tr>\n",
       "\t<tr><td>1.513808   </td><td>-0.01310406</td><td>-0.2707533 </td></tr>\n",
       "\t<tr><td>1.476621   </td><td>-0.01139548</td><td>-0.3125912 </td></tr>\n",
       "\t<tr><td>1.486584   </td><td>-0.01160600</td><td>-0.3129637 </td></tr>\n",
       "\t<tr><td>1.497935   </td><td>-0.01137333</td><td>-0.3021996 </td></tr>\n",
       "\t<tr><td>1.480063   </td><td>-0.01050874</td><td>-0.3304534 </td></tr>\n",
       "\t<tr><td>⋮</td><td>⋮</td><td>⋮</td></tr>\n",
       "\t<tr><td>1.580715   </td><td>-0.01340323</td><td>-0.3308655 </td></tr>\n",
       "\t<tr><td>1.489377   </td><td>-0.01175957</td><td>-0.2779265 </td></tr>\n",
       "\t<tr><td>1.530124   </td><td>-0.01355218</td><td>-0.2435216 </td></tr>\n",
       "\t<tr><td>1.561999   </td><td>-0.01387973</td><td>-0.2542540 </td></tr>\n",
       "\t<tr><td>1.566965   </td><td>-0.01409444</td><td>-0.2904999 </td></tr>\n",
       "\t<tr><td>1.515892   </td><td>-0.01254490</td><td>-0.2951241 </td></tr>\n",
       "\t<tr><td>1.529322   </td><td>-0.01318005</td><td>-0.2895633 </td></tr>\n",
       "\t<tr><td>1.584277   </td><td>-0.01449678</td><td>-0.2711448 </td></tr>\n",
       "\t<tr><td>1.524393   </td><td>-0.01207832</td><td>-0.2913672 </td></tr>\n",
       "\t<tr><td>1.512226   </td><td>-0.01255478</td><td>-0.2774396 </td></tr>\n",
       "\t<tr><td>1.555756   </td><td>-0.01182770</td><td>-0.3477805 </td></tr>\n",
       "\t<tr><td>1.558010   </td><td>-0.01291693</td><td>-0.3295105 </td></tr>\n",
       "\t<tr><td>1.496801   </td><td>-0.01171529</td><td>-0.2793048 </td></tr>\n",
       "\t<tr><td>1.564134   </td><td>-0.01327808</td><td>-0.2849813 </td></tr>\n",
       "\t<tr><td>1.495996   </td><td>-0.01197268</td><td>-0.2891095 </td></tr>\n",
       "\t<tr><td>1.530078   </td><td>-0.01327417</td><td>-0.2654119 </td></tr>\n",
       "\t<tr><td>1.514717   </td><td>-0.01249852</td><td>-0.2547288 </td></tr>\n",
       "\t<tr><td>1.479596   </td><td>-0.01160357</td><td>-0.2400487 </td></tr>\n",
       "\t<tr><td>1.545224   </td><td>-0.01404721</td><td>-0.2479314 </td></tr>\n",
       "\t<tr><td>1.529558   </td><td>-0.01321218</td><td>-0.2665638 </td></tr>\n",
       "\t<tr><td>1.505536   </td><td>-0.01233157</td><td>-0.2839297 </td></tr>\n",
       "\t<tr><td>1.600867   </td><td>-0.01411396</td><td>-0.3197597 </td></tr>\n",
       "\t<tr><td>1.516166   </td><td>-0.01247673</td><td>-0.2725722 </td></tr>\n",
       "\t<tr><td>1.619004   </td><td>-0.01458788</td><td>-0.3463721 </td></tr>\n",
       "\t<tr><td>1.561333   </td><td>-0.01447077</td><td>-0.2763326 </td></tr>\n",
       "\t<tr><td>1.540264   </td><td>-0.01319014</td><td>-0.2876009 </td></tr>\n",
       "\t<tr><td>1.574704   </td><td>-0.01335965</td><td>-0.2931830 </td></tr>\n",
       "\t<tr><td>1.519391   </td><td>-0.01278708</td><td>-0.2952272 </td></tr>\n",
       "\t<tr><td>1.542706   </td><td>-0.01298403</td><td>-0.2599161 </td></tr>\n",
       "\t<tr><td>1.569646   </td><td>-0.01277345</td><td>-0.3043201 </td></tr>\n",
       "</tbody>\n",
       "</table>\n"
      ],
      "text/latex": [
       "\\begin{tabular}{lll}\n",
       " (Intercept) & age & kidney.disease\\\\\n",
       "\\hline\n",
       "\t 1.592835    & -0.01562243 & -0.2216814 \\\\\n",
       "\t 1.512682    & -0.01267716 & -0.2492987 \\\\\n",
       "\t 1.524710    & -0.01214914 & -0.3250322 \\\\\n",
       "\t 1.597048    & -0.01522402 & -0.2400272 \\\\\n",
       "\t 1.490458    & -0.01180992 & -0.2912710 \\\\\n",
       "\t 1.608163    & -0.01491729 & -0.2800163 \\\\\n",
       "\t 1.583784    & -0.01455206 & -0.2543530 \\\\\n",
       "\t 1.598911    & -0.01498603 & -0.2606407 \\\\\n",
       "\t 1.541182    & -0.01353970 & -0.2493905 \\\\\n",
       "\t 1.527865    & -0.01359189 & -0.2425840 \\\\\n",
       "\t 1.517937    & -0.01256014 & -0.2809310 \\\\\n",
       "\t 1.544683    & -0.01267087 & -0.2922539 \\\\\n",
       "\t 1.567594    & -0.01412179 & -0.2488097 \\\\\n",
       "\t 1.523858    & -0.01107630 & -0.3638740 \\\\\n",
       "\t 1.459795    & -0.01145307 & -0.2630933 \\\\\n",
       "\t 1.533778    & -0.01306808 & -0.3033162 \\\\\n",
       "\t 1.604208    & -0.01410292 & -0.3293012 \\\\\n",
       "\t 1.487766    & -0.01118632 & -0.2882765 \\\\\n",
       "\t 1.511064    & -0.01287158 & -0.2495410 \\\\\n",
       "\t 1.542727    & -0.01392674 & -0.2434661 \\\\\n",
       "\t 1.579721    & -0.01431387 & -0.2939184 \\\\\n",
       "\t 1.573573    & -0.01263213 & -0.3763889 \\\\\n",
       "\t 1.523688    & -0.01330238 & -0.2504849 \\\\\n",
       "\t 1.577710    & -0.01382787 & -0.2796559 \\\\\n",
       "\t 1.572936    & -0.01297676 & -0.3228215 \\\\\n",
       "\t 1.513808    & -0.01310406 & -0.2707533 \\\\\n",
       "\t 1.476621    & -0.01139548 & -0.3125912 \\\\\n",
       "\t 1.486584    & -0.01160600 & -0.3129637 \\\\\n",
       "\t 1.497935    & -0.01137333 & -0.3021996 \\\\\n",
       "\t 1.480063    & -0.01050874 & -0.3304534 \\\\\n",
       "\t ⋮ & ⋮ & ⋮\\\\\n",
       "\t 1.580715    & -0.01340323 & -0.3308655 \\\\\n",
       "\t 1.489377    & -0.01175957 & -0.2779265 \\\\\n",
       "\t 1.530124    & -0.01355218 & -0.2435216 \\\\\n",
       "\t 1.561999    & -0.01387973 & -0.2542540 \\\\\n",
       "\t 1.566965    & -0.01409444 & -0.2904999 \\\\\n",
       "\t 1.515892    & -0.01254490 & -0.2951241 \\\\\n",
       "\t 1.529322    & -0.01318005 & -0.2895633 \\\\\n",
       "\t 1.584277    & -0.01449678 & -0.2711448 \\\\\n",
       "\t 1.524393    & -0.01207832 & -0.2913672 \\\\\n",
       "\t 1.512226    & -0.01255478 & -0.2774396 \\\\\n",
       "\t 1.555756    & -0.01182770 & -0.3477805 \\\\\n",
       "\t 1.558010    & -0.01291693 & -0.3295105 \\\\\n",
       "\t 1.496801    & -0.01171529 & -0.2793048 \\\\\n",
       "\t 1.564134    & -0.01327808 & -0.2849813 \\\\\n",
       "\t 1.495996    & -0.01197268 & -0.2891095 \\\\\n",
       "\t 1.530078    & -0.01327417 & -0.2654119 \\\\\n",
       "\t 1.514717    & -0.01249852 & -0.2547288 \\\\\n",
       "\t 1.479596    & -0.01160357 & -0.2400487 \\\\\n",
       "\t 1.545224    & -0.01404721 & -0.2479314 \\\\\n",
       "\t 1.529558    & -0.01321218 & -0.2665638 \\\\\n",
       "\t 1.505536    & -0.01233157 & -0.2839297 \\\\\n",
       "\t 1.600867    & -0.01411396 & -0.3197597 \\\\\n",
       "\t 1.516166    & -0.01247673 & -0.2725722 \\\\\n",
       "\t 1.619004    & -0.01458788 & -0.3463721 \\\\\n",
       "\t 1.561333    & -0.01447077 & -0.2763326 \\\\\n",
       "\t 1.540264    & -0.01319014 & -0.2876009 \\\\\n",
       "\t 1.574704    & -0.01335965 & -0.2931830 \\\\\n",
       "\t 1.519391    & -0.01278708 & -0.2952272 \\\\\n",
       "\t 1.542706    & -0.01298403 & -0.2599161 \\\\\n",
       "\t 1.569646    & -0.01277345 & -0.3043201 \\\\\n",
       "\\end{tabular}\n"
      ],
      "text/markdown": [
       "\n",
       "| (Intercept) | age | kidney.disease |\n",
       "|---|---|---|\n",
       "| 1.592835    | -0.01562243 | -0.2216814  |\n",
       "| 1.512682    | -0.01267716 | -0.2492987  |\n",
       "| 1.524710    | -0.01214914 | -0.3250322  |\n",
       "| 1.597048    | -0.01522402 | -0.2400272  |\n",
       "| 1.490458    | -0.01180992 | -0.2912710  |\n",
       "| 1.608163    | -0.01491729 | -0.2800163  |\n",
       "| 1.583784    | -0.01455206 | -0.2543530  |\n",
       "| 1.598911    | -0.01498603 | -0.2606407  |\n",
       "| 1.541182    | -0.01353970 | -0.2493905  |\n",
       "| 1.527865    | -0.01359189 | -0.2425840  |\n",
       "| 1.517937    | -0.01256014 | -0.2809310  |\n",
       "| 1.544683    | -0.01267087 | -0.2922539  |\n",
       "| 1.567594    | -0.01412179 | -0.2488097  |\n",
       "| 1.523858    | -0.01107630 | -0.3638740  |\n",
       "| 1.459795    | -0.01145307 | -0.2630933  |\n",
       "| 1.533778    | -0.01306808 | -0.3033162  |\n",
       "| 1.604208    | -0.01410292 | -0.3293012  |\n",
       "| 1.487766    | -0.01118632 | -0.2882765  |\n",
       "| 1.511064    | -0.01287158 | -0.2495410  |\n",
       "| 1.542727    | -0.01392674 | -0.2434661  |\n",
       "| 1.579721    | -0.01431387 | -0.2939184  |\n",
       "| 1.573573    | -0.01263213 | -0.3763889  |\n",
       "| 1.523688    | -0.01330238 | -0.2504849  |\n",
       "| 1.577710    | -0.01382787 | -0.2796559  |\n",
       "| 1.572936    | -0.01297676 | -0.3228215  |\n",
       "| 1.513808    | -0.01310406 | -0.2707533  |\n",
       "| 1.476621    | -0.01139548 | -0.3125912  |\n",
       "| 1.486584    | -0.01160600 | -0.3129637  |\n",
       "| 1.497935    | -0.01137333 | -0.3021996  |\n",
       "| 1.480063    | -0.01050874 | -0.3304534  |\n",
       "| ⋮ | ⋮ | ⋮ |\n",
       "| 1.580715    | -0.01340323 | -0.3308655  |\n",
       "| 1.489377    | -0.01175957 | -0.2779265  |\n",
       "| 1.530124    | -0.01355218 | -0.2435216  |\n",
       "| 1.561999    | -0.01387973 | -0.2542540  |\n",
       "| 1.566965    | -0.01409444 | -0.2904999  |\n",
       "| 1.515892    | -0.01254490 | -0.2951241  |\n",
       "| 1.529322    | -0.01318005 | -0.2895633  |\n",
       "| 1.584277    | -0.01449678 | -0.2711448  |\n",
       "| 1.524393    | -0.01207832 | -0.2913672  |\n",
       "| 1.512226    | -0.01255478 | -0.2774396  |\n",
       "| 1.555756    | -0.01182770 | -0.3477805  |\n",
       "| 1.558010    | -0.01291693 | -0.3295105  |\n",
       "| 1.496801    | -0.01171529 | -0.2793048  |\n",
       "| 1.564134    | -0.01327808 | -0.2849813  |\n",
       "| 1.495996    | -0.01197268 | -0.2891095  |\n",
       "| 1.530078    | -0.01327417 | -0.2654119  |\n",
       "| 1.514717    | -0.01249852 | -0.2547288  |\n",
       "| 1.479596    | -0.01160357 | -0.2400487  |\n",
       "| 1.545224    | -0.01404721 | -0.2479314  |\n",
       "| 1.529558    | -0.01321218 | -0.2665638  |\n",
       "| 1.505536    | -0.01233157 | -0.2839297  |\n",
       "| 1.600867    | -0.01411396 | -0.3197597  |\n",
       "| 1.516166    | -0.01247673 | -0.2725722  |\n",
       "| 1.619004    | -0.01458788 | -0.3463721  |\n",
       "| 1.561333    | -0.01447077 | -0.2763326  |\n",
       "| 1.540264    | -0.01319014 | -0.2876009  |\n",
       "| 1.574704    | -0.01335965 | -0.2931830  |\n",
       "| 1.519391    | -0.01278708 | -0.2952272  |\n",
       "| 1.542706    | -0.01298403 | -0.2599161  |\n",
       "| 1.569646    | -0.01277345 | -0.3043201  |\n",
       "\n"
      ],
      "text/plain": [
       "      (Intercept) age         kidney.disease\n",
       " [1,] 1.592835    -0.01562243 -0.2216814    \n",
       " [2,] 1.512682    -0.01267716 -0.2492987    \n",
       " [3,] 1.524710    -0.01214914 -0.3250322    \n",
       " [4,] 1.597048    -0.01522402 -0.2400272    \n",
       " [5,] 1.490458    -0.01180992 -0.2912710    \n",
       " [6,] 1.608163    -0.01491729 -0.2800163    \n",
       " [7,] 1.583784    -0.01455206 -0.2543530    \n",
       " [8,] 1.598911    -0.01498603 -0.2606407    \n",
       " [9,] 1.541182    -0.01353970 -0.2493905    \n",
       "[10,] 1.527865    -0.01359189 -0.2425840    \n",
       "[11,] 1.517937    -0.01256014 -0.2809310    \n",
       "[12,] 1.544683    -0.01267087 -0.2922539    \n",
       "[13,] 1.567594    -0.01412179 -0.2488097    \n",
       "[14,] 1.523858    -0.01107630 -0.3638740    \n",
       "[15,] 1.459795    -0.01145307 -0.2630933    \n",
       "[16,] 1.533778    -0.01306808 -0.3033162    \n",
       "[17,] 1.604208    -0.01410292 -0.3293012    \n",
       "[18,] 1.487766    -0.01118632 -0.2882765    \n",
       "[19,] 1.511064    -0.01287158 -0.2495410    \n",
       "[20,] 1.542727    -0.01392674 -0.2434661    \n",
       "[21,] 1.579721    -0.01431387 -0.2939184    \n",
       "[22,] 1.573573    -0.01263213 -0.3763889    \n",
       "[23,] 1.523688    -0.01330238 -0.2504849    \n",
       "[24,] 1.577710    -0.01382787 -0.2796559    \n",
       "[25,] 1.572936    -0.01297676 -0.3228215    \n",
       "[26,] 1.513808    -0.01310406 -0.2707533    \n",
       "[27,] 1.476621    -0.01139548 -0.3125912    \n",
       "[28,] 1.486584    -0.01160600 -0.3129637    \n",
       "[29,] 1.497935    -0.01137333 -0.3021996    \n",
       "[30,] 1.480063    -0.01050874 -0.3304534    \n",
       "[31,] ⋮           ⋮           ⋮             \n",
       "[32,] 1.580715    -0.01340323 -0.3308655    \n",
       "[33,] 1.489377    -0.01175957 -0.2779265    \n",
       "[34,] 1.530124    -0.01355218 -0.2435216    \n",
       "[35,] 1.561999    -0.01387973 -0.2542540    \n",
       "[36,] 1.566965    -0.01409444 -0.2904999    \n",
       "[37,] 1.515892    -0.01254490 -0.2951241    \n",
       "[38,] 1.529322    -0.01318005 -0.2895633    \n",
       "[39,] 1.584277    -0.01449678 -0.2711448    \n",
       "[40,] 1.524393    -0.01207832 -0.2913672    \n",
       "[41,] 1.512226    -0.01255478 -0.2774396    \n",
       "[42,] 1.555756    -0.01182770 -0.3477805    \n",
       "[43,] 1.558010    -0.01291693 -0.3295105    \n",
       "[44,] 1.496801    -0.01171529 -0.2793048    \n",
       "[45,] 1.564134    -0.01327808 -0.2849813    \n",
       "[46,] 1.495996    -0.01197268 -0.2891095    \n",
       "[47,] 1.530078    -0.01327417 -0.2654119    \n",
       "[48,] 1.514717    -0.01249852 -0.2547288    \n",
       "[49,] 1.479596    -0.01160357 -0.2400487    \n",
       "[50,] 1.545224    -0.01404721 -0.2479314    \n",
       "[51,] 1.529558    -0.01321218 -0.2665638    \n",
       "[52,] 1.505536    -0.01233157 -0.2839297    \n",
       "[53,] 1.600867    -0.01411396 -0.3197597    \n",
       "[54,] 1.516166    -0.01247673 -0.2725722    \n",
       "[55,] 1.619004    -0.01458788 -0.3463721    \n",
       "[56,] 1.561333    -0.01447077 -0.2763326    \n",
       "[57,] 1.540264    -0.01319014 -0.2876009    \n",
       "[58,] 1.574704    -0.01335965 -0.2931830    \n",
       "[59,] 1.519391    -0.01278708 -0.2952272    \n",
       "[60,] 1.542706    -0.01298403 -0.2599161    \n",
       "[61,] 1.569646    -0.01277345 -0.3043201    "
      ]
     },
     "metadata": {},
     "output_type": "display_data"
    }
   ],
   "source": [
    "bootstrap.samples"
   ]
  },
  {
   "cell_type": "code",
   "execution_count": 276,
   "metadata": {},
   "outputs": [
    {
     "data": {
      "text/html": [
       "<dl class=dl-horizontal>\n",
       "\t<dt>(Intercept)</dt>\n",
       "\t\t<dd>0.0410287737089308</dd>\n",
       "\t<dt>age</dt>\n",
       "\t\t<dd>0.00103653399796665</dd>\n",
       "\t<dt>kidney.disease</dt>\n",
       "\t\t<dd>0.0330735147774011</dd>\n",
       "</dl>\n"
      ],
      "text/latex": [
       "\\begin{description*}\n",
       "\\item[(Intercept)] 0.0410287737089308\n",
       "\\item[age] 0.00103653399796665\n",
       "\\item[kidney.disease] 0.0330735147774011\n",
       "\\end{description*}\n"
      ],
      "text/markdown": [
       "(Intercept)\n",
       ":   0.0410287737089308age\n",
       ":   0.00103653399796665kidney.disease\n",
       ":   0.0330735147774011\n",
       "\n"
      ],
      "text/plain": [
       "   (Intercept)            age kidney.disease \n",
       "   0.041028774    0.001036534    0.033073515 "
      ]
     },
     "metadata": {},
     "output_type": "display_data"
    }
   ],
   "source": [
    "sqrt(diag(cov(bootstrap.samples)))"
   ]
  },
  {
   "cell_type": "code",
   "execution_count": 259,
   "metadata": {},
   "outputs": [],
   "source": [
    "copy.data <- copy(creatinine.group.data)\n",
    "tmp <- "
   ]
  },
  {
   "cell_type": "code",
   "execution_count": 261,
   "metadata": {},
   "outputs": [],
   "source": []
  },
  {
   "cell_type": "code",
   "execution_count": 273,
   "metadata": {},
   "outputs": [
    {
     "ename": "ERROR",
     "evalue": "Error in eval(expr, envir, enclos): object 'tmp' not found\n",
     "output_type": "error",
     "traceback": [
      "Error in eval(expr, envir, enclos): object 'tmp' not found\nTraceback:\n"
     ]
    }
   ],
   "source": []
  },
  {
   "cell_type": "code",
   "execution_count": 150,
   "metadata": {},
   "outputs": [
    {
     "data": {
      "text/html": [
       "0.00428645890904281"
      ],
      "text/latex": [
       "0.00428645890904281"
      ],
      "text/markdown": [
       "0.00428645890904281"
      ],
      "text/plain": [
       "[1] 0.004286459"
      ]
     },
     "metadata": {},
     "output_type": "display_data"
    }
   ],
   "source": [
    "mean((tmp[1,] - mean(tmp[1,]))^2)*16/15"
   ]
  }
 ],
 "metadata": {
  "kernelspec": {
   "display_name": "R",
   "language": "R",
   "name": "ir"
  },
  "language_info": {
   "codemirror_mode": "r",
   "file_extension": ".r",
   "mimetype": "text/x-r-source",
   "name": "R",
   "pygments_lexer": "r",
   "version": "3.5.2"
  }
 },
 "nbformat": 4,
 "nbformat_minor": 2
}
