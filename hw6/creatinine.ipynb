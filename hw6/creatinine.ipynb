{
 "cells": [
  {
   "cell_type": "markdown",
   "metadata": {},
   "source": [
    "# LME and Creatinine"
   ]
  },
  {
   "cell_type": "markdown",
   "metadata": {},
   "source": [
    "## Joining Data"
   ]
  },
  {
   "cell_type": "code",
   "execution_count": 1,
   "metadata": {},
   "outputs": [
    {
     "data": {
      "text/html": [
       "<table>\n",
       "<thead><tr><th scope=col>id</th><th scope=col>group</th><th scope=col>age</th><th scope=col>scr</th></tr></thead>\n",
       "<tbody>\n",
       "\t<tr><td>1     </td><td>1     </td><td>35.765</td><td>0.182 </td></tr>\n",
       "\t<tr><td>1     </td><td>1     </td><td>37.990</td><td>0.088 </td></tr>\n",
       "\t<tr><td>3     </td><td>1     </td><td>51.083</td><td>0.156 </td></tr>\n",
       "\t<tr><td>3     </td><td>1     </td><td>52.386</td><td>0.116 </td></tr>\n",
       "\t<tr><td>3     </td><td>1     </td><td>52.805</td><td>0.087 </td></tr>\n",
       "\t<tr><td>3     </td><td>1     </td><td>52.997</td><td>0.067 </td></tr>\n",
       "</tbody>\n",
       "</table>\n"
      ],
      "text/latex": [
       "\\begin{tabular}{r|llll}\n",
       " id & group & age & scr\\\\\n",
       "\\hline\n",
       "\t 1      & 1      & 35.765 & 0.182 \\\\\n",
       "\t 1      & 1      & 37.990 & 0.088 \\\\\n",
       "\t 3      & 1      & 51.083 & 0.156 \\\\\n",
       "\t 3      & 1      & 52.386 & 0.116 \\\\\n",
       "\t 3      & 1      & 52.805 & 0.087 \\\\\n",
       "\t 3      & 1      & 52.997 & 0.067 \\\\\n",
       "\\end{tabular}\n"
      ],
      "text/markdown": [
       "\n",
       "| id | group | age | scr |\n",
       "|---|---|---|---|\n",
       "| 1      | 1      | 35.765 | 0.182  |\n",
       "| 1      | 1      | 37.990 | 0.088  |\n",
       "| 3      | 1      | 51.083 | 0.156  |\n",
       "| 3      | 1      | 52.386 | 0.116  |\n",
       "| 3      | 1      | 52.805 | 0.087  |\n",
       "| 3      | 1      | 52.997 | 0.067  |\n",
       "\n"
      ],
      "text/plain": [
       "  id group age    scr  \n",
       "1 1  1     35.765 0.182\n",
       "2 1  1     37.990 0.088\n",
       "3 3  1     51.083 0.156\n",
       "4 3  1     52.386 0.116\n",
       "5 3  1     52.805 0.087\n",
       "6 3  1     52.997 0.067"
      ]
     },
     "metadata": {},
     "output_type": "display_data"
    }
   ],
   "source": [
    "library(data.table)\n",
    "library(nlme)\n",
    "library(parallel)\n",
    "library(xtable)\n",
    "\n",
    "creatinine.data <- data.table(read.csv('creat.csv'), key='group')\n",
    "head(creatinine.data)"
   ]
  },
  {
   "cell_type": "code",
   "execution_count": 2,
   "metadata": {},
   "outputs": [
    {
     "data": {
      "text/html": [
       "<table>\n",
       "<thead><tr><th scope=col>group</th><th scope=col>kidney.disease</th><th scope=col>hypertension</th></tr></thead>\n",
       "<tbody>\n",
       "\t<tr><td>1</td><td>1</td><td>1</td></tr>\n",
       "\t<tr><td>2</td><td>1</td><td>0</td></tr>\n",
       "\t<tr><td>3</td><td>0</td><td>1</td></tr>\n",
       "\t<tr><td>4</td><td>0</td><td>0</td></tr>\n",
       "</tbody>\n",
       "</table>\n"
      ],
      "text/latex": [
       "\\begin{tabular}{r|lll}\n",
       " group & kidney.disease & hypertension\\\\\n",
       "\\hline\n",
       "\t 1 & 1 & 1\\\\\n",
       "\t 2 & 1 & 0\\\\\n",
       "\t 3 & 0 & 1\\\\\n",
       "\t 4 & 0 & 0\\\\\n",
       "\\end{tabular}\n"
      ],
      "text/markdown": [
       "\n",
       "| group | kidney.disease | hypertension |\n",
       "|---|---|---|\n",
       "| 1 | 1 | 1 |\n",
       "| 2 | 1 | 0 |\n",
       "| 3 | 0 | 1 |\n",
       "| 4 | 0 | 0 |\n",
       "\n"
      ],
      "text/plain": [
       "  group kidney.disease hypertension\n",
       "1 1     1              1           \n",
       "2 2     1              0           \n",
       "3 3     0              1           \n",
       "4 4     0              0           "
      ]
     },
     "metadata": {},
     "output_type": "display_data"
    }
   ],
   "source": [
    "group.data <- data.table(\n",
    "    group=c(1,2,3,4),\n",
    "    kidney.disease=c(1,1,0,0),\n",
    "    hypertension=c(1,0,1,0),\n",
    "    key='group')\n",
    "group.data"
   ]
  },
  {
   "cell_type": "code",
   "execution_count": 3,
   "metadata": {},
   "outputs": [
    {
     "data": {
      "text/html": [
       "<table>\n",
       "<thead><tr><th scope=col>id</th><th scope=col>group</th><th scope=col>age</th><th scope=col>scr</th><th scope=col>kidney.disease</th><th scope=col>hypertension</th></tr></thead>\n",
       "<tbody>\n",
       "\t<tr><td>1     </td><td>1     </td><td>35.765</td><td>0.182 </td><td>1     </td><td>1     </td></tr>\n",
       "\t<tr><td>1     </td><td>1     </td><td>37.990</td><td>0.088 </td><td>1     </td><td>1     </td></tr>\n",
       "\t<tr><td>2     </td><td>2     </td><td>24.997</td><td>1.429 </td><td>1     </td><td>0     </td></tr>\n",
       "\t<tr><td>2     </td><td>2     </td><td>27.441</td><td>1.111 </td><td>1     </td><td>0     </td></tr>\n",
       "\t<tr><td>2     </td><td>2     </td><td>30.524</td><td>1.429 </td><td>1     </td><td>0     </td></tr>\n",
       "\t<tr><td>3     </td><td>1     </td><td>51.083</td><td>0.156 </td><td>1     </td><td>1     </td></tr>\n",
       "</tbody>\n",
       "</table>\n"
      ],
      "text/latex": [
       "\\begin{tabular}{r|llllll}\n",
       " id & group & age & scr & kidney.disease & hypertension\\\\\n",
       "\\hline\n",
       "\t 1      & 1      & 35.765 & 0.182  & 1      & 1     \\\\\n",
       "\t 1      & 1      & 37.990 & 0.088  & 1      & 1     \\\\\n",
       "\t 2      & 2      & 24.997 & 1.429  & 1      & 0     \\\\\n",
       "\t 2      & 2      & 27.441 & 1.111  & 1      & 0     \\\\\n",
       "\t 2      & 2      & 30.524 & 1.429  & 1      & 0     \\\\\n",
       "\t 3      & 1      & 51.083 & 0.156  & 1      & 1     \\\\\n",
       "\\end{tabular}\n"
      ],
      "text/markdown": [
       "\n",
       "| id | group | age | scr | kidney.disease | hypertension |\n",
       "|---|---|---|---|---|---|\n",
       "| 1      | 1      | 35.765 | 0.182  | 1      | 1      |\n",
       "| 1      | 1      | 37.990 | 0.088  | 1      | 1      |\n",
       "| 2      | 2      | 24.997 | 1.429  | 1      | 0      |\n",
       "| 2      | 2      | 27.441 | 1.111  | 1      | 0      |\n",
       "| 2      | 2      | 30.524 | 1.429  | 1      | 0      |\n",
       "| 3      | 1      | 51.083 | 0.156  | 1      | 1      |\n",
       "\n"
      ],
      "text/plain": [
       "  id group age    scr   kidney.disease hypertension\n",
       "1 1  1     35.765 0.182 1              1           \n",
       "2 1  1     37.990 0.088 1              1           \n",
       "3 2  2     24.997 1.429 1              0           \n",
       "4 2  2     27.441 1.111 1              0           \n",
       "5 2  2     30.524 1.429 1              0           \n",
       "6 3  1     51.083 0.156 1              1           "
      ]
     },
     "metadata": {},
     "output_type": "display_data"
    }
   ],
   "source": [
    "creatinine.group.data <- creatinine.data[group.data]\n",
    "setkey(creatinine.group.data, id)\n",
    "head(creatinine.group.data)"
   ]
  },
  {
   "cell_type": "markdown",
   "metadata": {},
   "source": [
    "## Fitting LME Model"
   ]
  },
  {
   "cell_type": "code",
   "execution_count": 4,
   "metadata": {},
   "outputs": [],
   "source": [
    "fit.scr.model <- function(data, interaction.term=FALSE) {\n",
    "    formula = scr ~ age + kidney.disease\n",
    "    if (interaction.term) { formula <- update(formula, . ~ . + age:kidney.disease) }\n",
    "    lme(formula,\n",
    "        random=reStruct(~age|id, pdClass='pdDiag'),\n",
    "        correlation=corExp(form=~age|id, nugget=TRUE),\n",
    "        method='ML', data=data,\n",
    "        control=lmeControl(maxIter=100, msMaxIter=100, niterEM=50))\n",
    "}"
   ]
  },
  {
   "cell_type": "markdown",
   "metadata": {},
   "source": [
    "## Covariance for Subject $i$"
   ]
  },
  {
   "cell_type": "code",
   "execution_count": 5,
   "metadata": {},
   "outputs": [],
   "source": [
    "make.covariance <- function(model, i) {\n",
    "    # Error term, usually denoted epsilon\n",
    "    error.correlation <- corMatrix(model$modelStruct$corStruct)[[as.character(i)]]\n",
    "    if (is.null(error.correlation)) { error.correlation <- 1 }\n",
    "    # Random effects correlation, Z * G * tranpose(Z).\n",
    "    Z <- cbind(1, model$data[J(i), age])\n",
    "    random.correlation <- Z %*% as.matrix(model$modelStruct$reStruct$id) %*% t(Z)\n",
    "    # Convert correlation matrix into covariance matrix.\n",
    "    (random.correlation + error.correlation)*(model$sigma*model$sigma)\n",
    "}"
   ]
  },
  {
   "cell_type": "markdown",
   "metadata": {},
   "source": [
    "## $\\beta_j$ Covariance "
   ]
  },
  {
   "cell_type": "markdown",
   "metadata": {},
   "source": [
    "### Maximum Likelihood Estimate\n",
    "\n",
    "This assumes that the random effects model is correct. I can also be used as the *bread* part of the sandwich estimator."
   ]
  },
  {
   "cell_type": "code",
   "execution_count": 6,
   "metadata": {},
   "outputs": [],
   "source": [
    "make.covariates <- function(model, data) model.matrix(model$terms, data)\n",
    "\n",
    "make.ml.parameter.covariance <- function(model) {\n",
    "    groups <- unique(model$groups)$id\n",
    "    chol2inv(chol(Reduce(`+`, lapply(groups, function(i) {\n",
    "        X <- make.covariates(model, model$data[J(i)])\n",
    "        t(X) %*% chol2inv(chol(make.covariance(model, i))) %*% X\n",
    "    }))))\n",
    "}"
   ]
  },
  {
   "cell_type": "markdown",
   "metadata": {},
   "source": [
    "### Sandwich Estimate"
   ]
  },
  {
   "cell_type": "code",
   "execution_count": 7,
   "metadata": {},
   "outputs": [],
   "source": [
    "make.response <- function(data) data$scr\n",
    "\n",
    "make.sandwich.parameter.covariance <- function(model) {\n",
    "    bread <- make.ml.parameter.covariance(model)    \n",
    "    meat <- Reduce(`+`, lapply(unique(model$groups)$id, function(i) {\n",
    "        X <- make.covariates(model, model$data[J(i)])\n",
    "        y <- make.response(model$data[J(i)])\n",
    "        weights <- chol2inv(chol(make.covariance(model, i)))\n",
    "        residuals <- as.numeric(make.response(model$data[J(i)]) - X %*% model$coefficients$fixed)\n",
    "        empirical.covariance <- outer(residuals, residuals)\n",
    "        t(X) %*% weights %*% empirical.covariance %*% weights %*% X\n",
    "    }))        \n",
    "    bread %*% meat %*% bread\n",
    "}"
   ]
  },
  {
   "cell_type": "markdown",
   "metadata": {},
   "source": [
    "### Bootstrap Estimate\n",
    "\n",
    "To account for clustering of the data, we resample clusters."
   ]
  },
  {
   "cell_type": "code",
   "execution_count": 8,
   "metadata": {},
   "outputs": [],
   "source": [
    "resample.clusters <- function(data) {\n",
    "    resampled.data <- data[\n",
    "        data.table(id=sample(unique(data$id), replace=TRUE),\n",
    "                   new.id=c(1:length(unique(data$id))),\n",
    "                   key='id')] \n",
    "    resampled.data[,id:=NULL]\n",
    "    setnames(resampled.data, 'new.id', 'id')\n",
    "    setkey(resampled.data, id)\n",
    "    resampled.data\n",
    "}\n",
    "\n",
    "bootstrap.samples <- do.call(rbind, mclapply(\n",
    "    replicate(256, creatinine.group.data, simplify=FALSE), function(data) {\n",
    "        resampled.data <- resample.clusters(data)\n",
    "        fit.scr.model(resampled.data)$coefficients$fixed\n",
    "    }, mc.cores=4))"
   ]
  },
  {
   "cell_type": "markdown",
   "metadata": {},
   "source": [
    "## Models"
   ]
  },
  {
   "cell_type": "markdown",
   "metadata": {},
   "source": [
    "### Without Interaction Term"
   ]
  },
  {
   "cell_type": "code",
   "execution_count": 9,
   "metadata": {},
   "outputs": [
    {
     "data": {
      "text/plain": [
       "Linear mixed-effects model fit by maximum likelihood\n",
       " Data: data \n",
       "        AIC       BIC   logLik\n",
       "  -53.94986 -11.00314 34.97493\n",
       "\n",
       "Random effects:\n",
       " Formula: ~age | id\n",
       " Structure: Diagonal\n",
       "        (Intercept)        age  Residual\n",
       "StdDev:  0.04643211 0.00522239 0.2633414\n",
       "\n",
       "Correlation Structure: Exponential spatial correlation\n",
       " Formula: ~age | id \n",
       " Parameter estimate(s):\n",
       "    range    nugget \n",
       "7.8894707 0.1759323 \n",
       "Fixed effects: list(formula) \n",
       "                    Value  Std.Error  DF   t-value p-value\n",
       "(Intercept)     1.5322224 0.03955663 965  38.73490       0\n",
       "age            -0.0129154 0.00096383 965 -13.40006       0\n",
       "kidney.disease -0.2819162 0.02626024 617 -10.73548       0\n",
       " Correlation: \n",
       "               (Intr) age   \n",
       "age            -0.849       \n",
       "kidney.disease -0.352 -0.082\n",
       "\n",
       "Standardized Within-Group Residuals:\n",
       "        Min          Q1         Med          Q3         Max \n",
       "-2.49081741 -0.56731338 -0.07887231  0.43113427  4.95897388 \n",
       "\n",
       "Number of Observations: 1585\n",
       "Number of Groups: 619 "
      ]
     },
     "metadata": {},
     "output_type": "display_data"
    }
   ],
   "source": [
    "scr.model <- fit.scr.model(creatinine.group.data)\n",
    "summary(scr.model, adjustSigma=FALSE)"
   ]
  },
  {
   "cell_type": "code",
   "execution_count": 10,
   "metadata": {},
   "outputs": [],
   "source": [
    "ml.parameter.covariance <- make.ml.parameter.covariance(scr.model)\n",
    "sandwich.parameter.covariance <- make.sandwich.parameter.covariance(scr.model)\n",
    "\n",
    "bootstrap.parameter.samples <- do.call(rbind, mclapply(\n",
    "    replicate(256, creatinine.group.data, simplify=FALSE), function(data) {\n",
    "        resampled.data <- resample.clusters(data)\n",
    "        fit.scr.model(resampled.data)$coefficients$fixed\n",
    "    }, mc.cores=4))\n",
    "bootstrap.parameter.covariance <- cov(bootstrap.parameter.samples)"
   ]
  },
  {
   "cell_type": "code",
   "execution_count": 11,
   "metadata": {},
   "outputs": [
    {
     "data": {
      "text/html": [
       "<table>\n",
       "<thead><tr><th></th><th scope=col>Estimate</th><th scope=col>ML Standard Error</th><th scope=col>Sandwich Standard Error</th><th scope=col>Bootstrap Standard Error</th></tr></thead>\n",
       "<tbody>\n",
       "\t<tr><th scope=row>(Intercept)</th><td> 1.53222240 </td><td>0.0395566329</td><td>0.0393479582</td><td>0.042200873 </td></tr>\n",
       "\t<tr><th scope=row>age</th><td>-0.01291536 </td><td>0.0009638288</td><td>0.0009409584</td><td>0.001027745 </td></tr>\n",
       "\t<tr><th scope=row>kidney.disease</th><td>-0.28191623 </td><td>0.0262602392</td><td>0.0250273809</td><td>0.035864251 </td></tr>\n",
       "</tbody>\n",
       "</table>\n"
      ],
      "text/latex": [
       "\\begin{tabular}{r|llll}\n",
       "  & Estimate & ML Standard Error & Sandwich Standard Error & Bootstrap Standard Error\\\\\n",
       "\\hline\n",
       "\t(Intercept) &  1.53222240  & 0.0395566329 & 0.0393479582 & 0.042200873 \\\\\n",
       "\tage & -0.01291536  & 0.0009638288 & 0.0009409584 & 0.001027745 \\\\\n",
       "\tkidney.disease & -0.28191623  & 0.0262602392 & 0.0250273809 & 0.035864251 \\\\\n",
       "\\end{tabular}\n"
      ],
      "text/markdown": [
       "\n",
       "| <!--/--> | Estimate | ML Standard Error | Sandwich Standard Error | Bootstrap Standard Error |\n",
       "|---|---|---|---|---|\n",
       "| (Intercept) |  1.53222240  | 0.0395566329 | 0.0393479582 | 0.042200873  |\n",
       "| age | -0.01291536  | 0.0009638288 | 0.0009409584 | 0.001027745  |\n",
       "| kidney.disease | -0.28191623  | 0.0262602392 | 0.0250273809 | 0.035864251  |\n",
       "\n"
      ],
      "text/plain": [
       "               Estimate    ML Standard Error Sandwich Standard Error\n",
       "(Intercept)     1.53222240 0.0395566329      0.0393479582           \n",
       "age            -0.01291536 0.0009638288      0.0009409584           \n",
       "kidney.disease -0.28191623 0.0262602392      0.0250273809           \n",
       "               Bootstrap Standard Error\n",
       "(Intercept)    0.042200873             \n",
       "age            0.001027745             \n",
       "kidney.disease 0.035864251             "
      ]
     },
     "metadata": {},
     "output_type": "display_data"
    }
   ],
   "source": [
    "standard.errors <- data.frame(\n",
    "    `Estimate`=scr.model$coefficients$fixed,\n",
    "    `ML Standard Error`=sqrt(diag(ml.parameter.covariance)),\n",
    "    `Sandwich Standard Error`=sqrt(diag(sandwich.parameter.covariance)),\n",
    "    `Bootstrap Standard Error`=sqrt(diag(bootstrap.parameter.covariance)),\n",
    "    check.names=FALSE)\n",
    "\n",
    "print(xtable(standard.errors,\n",
    "             caption='Standard error estimates for fixed effect parameters.',\n",
    "             label='tab:standard_errors_no_interaction',\n",
    "             digits=c(0, 6, 6, 6, 6)),\n",
    "      booktabs=TRUE, file='standard_errors_no_interaction.tex',\n",
    "      sanitize.colnames.function=identity,\n",
    "      sanitize.rownames.function=identity,\n",
    "      size='small')\n",
    "\n",
    "standard.errors"
   ]
  },
  {
   "cell_type": "markdown",
   "metadata": {},
   "source": [
    "### With Interaction Term"
   ]
  },
  {
   "cell_type": "code",
   "execution_count": 12,
   "metadata": {},
   "outputs": [
    {
     "data": {
      "text/plain": [
       "Linear mixed-effects model fit by maximum likelihood\n",
       " Data: data \n",
       "        AIC       BIC   logLik\n",
       "  -127.9923 -79.67728 72.99617\n",
       "\n",
       "Random effects:\n",
       " Formula: ~age | id\n",
       " Structure: Diagonal\n",
       "        (Intercept)         age Residual\n",
       "StdDev:   0.1317468 0.004823202 0.225834\n",
       "\n",
       "Correlation Structure: Exponential spatial correlation\n",
       " Formula: ~age | id \n",
       " Parameter estimate(s):\n",
       "    range    nugget \n",
       "4.6700641 0.2299764 \n",
       "Fixed effects: list(formula) \n",
       "                        Value  Std.Error  DF   t-value p-value\n",
       "(Intercept)         1.1906763 0.05423200 964 21.955237  0.0000\n",
       "age                -0.0031083 0.00143568 964 -2.165016  0.0306\n",
       "kidney.disease      0.3135748 0.07137345 617  4.393438  0.0000\n",
       "age:kidney.disease -0.0166492 0.00185709 964 -8.965190  0.0000\n",
       " Correlation: \n",
       "                   (Intr) age    kdny.d\n",
       "age                -0.928              \n",
       "kidney.disease     -0.760  0.705       \n",
       "age:kidney.disease  0.718 -0.773 -0.935\n",
       "\n",
       "Standardized Within-Group Residuals:\n",
       "        Min          Q1         Med          Q3         Max \n",
       "-2.30553348 -0.53490304 -0.07976542  0.36022352  5.46804808 \n",
       "\n",
       "Number of Observations: 1585\n",
       "Number of Groups: 619 "
      ]
     },
     "metadata": {},
     "output_type": "display_data"
    }
   ],
   "source": [
    "scr.model.interaction <- fit.scr.model(creatinine.group.data, interaction.term=TRUE)\n",
    "summary(scr.model.interaction, adjustSigma=FALSE)"
   ]
  },
  {
   "cell_type": "code",
   "execution_count": 13,
   "metadata": {},
   "outputs": [],
   "source": [
    "ml.parameter.covariance.interaction <- make.ml.parameter.covariance(scr.model.interaction)\n",
    "sandwich.parameter.covariance.interaction <- make.sandwich.parameter.covariance(scr.model.interaction)\n",
    "\n",
    "bootstrap.parameter.samples.interaction <- do.call(rbind, mclapply(\n",
    "    replicate(256, creatinine.group.data, simplify=FALSE), function(data) {\n",
    "        resampled.data <- resample.clusters(data)\n",
    "        fit.scr.model(resampled.data, interaction.term=TRUE)$coefficients$fixed\n",
    "    }, mc.cores=4))\n",
    "bootstrap.parameter.covariance.interaction <- cov(bootstrap.parameter.samples.interaction)"
   ]
  },
  {
   "cell_type": "code",
   "execution_count": 14,
   "metadata": {},
   "outputs": [
    {
     "data": {
      "text/html": [
       "<table>\n",
       "<thead><tr><th></th><th scope=col>Estimate</th><th scope=col>ML Standard Error</th><th scope=col>Sandwich Standard Error</th><th scope=col>Bootstrap Standard Error</th></tr></thead>\n",
       "<tbody>\n",
       "\t<tr><th scope=row>(Intercept)</th><td> 1.190676306</td><td>0.054231995 </td><td>0.050269334 </td><td>0.050637112 </td></tr>\n",
       "\t<tr><th scope=row>age</th><td>-0.003108265</td><td>0.001435677 </td><td>0.001193725 </td><td>0.001215647 </td></tr>\n",
       "\t<tr><th scope=row>kidney.disease</th><td> 0.313574816</td><td>0.071373449 </td><td>0.068324860 </td><td>0.066353965 </td></tr>\n",
       "\t<tr><th scope=row>age:kidney.disease</th><td>-0.016649153</td><td>0.001857089 </td><td>0.001705009 </td><td>0.001651468 </td></tr>\n",
       "</tbody>\n",
       "</table>\n"
      ],
      "text/latex": [
       "\\begin{tabular}{r|llll}\n",
       "  & Estimate & ML Standard Error & Sandwich Standard Error & Bootstrap Standard Error\\\\\n",
       "\\hline\n",
       "\t(Intercept) &  1.190676306 & 0.054231995  & 0.050269334  & 0.050637112 \\\\\n",
       "\tage & -0.003108265 & 0.001435677  & 0.001193725  & 0.001215647 \\\\\n",
       "\tkidney.disease &  0.313574816 & 0.071373449  & 0.068324860  & 0.066353965 \\\\\n",
       "\tage:kidney.disease & -0.016649153 & 0.001857089  & 0.001705009  & 0.001651468 \\\\\n",
       "\\end{tabular}\n"
      ],
      "text/markdown": [
       "\n",
       "| <!--/--> | Estimate | ML Standard Error | Sandwich Standard Error | Bootstrap Standard Error |\n",
       "|---|---|---|---|---|\n",
       "| (Intercept) |  1.190676306 | 0.054231995  | 0.050269334  | 0.050637112  |\n",
       "| age | -0.003108265 | 0.001435677  | 0.001193725  | 0.001215647  |\n",
       "| kidney.disease |  0.313574816 | 0.071373449  | 0.068324860  | 0.066353965  |\n",
       "| age:kidney.disease | -0.016649153 | 0.001857089  | 0.001705009  | 0.001651468  |\n",
       "\n"
      ],
      "text/plain": [
       "                   Estimate     ML Standard Error Sandwich Standard Error\n",
       "(Intercept)         1.190676306 0.054231995       0.050269334            \n",
       "age                -0.003108265 0.001435677       0.001193725            \n",
       "kidney.disease      0.313574816 0.071373449       0.068324860            \n",
       "age:kidney.disease -0.016649153 0.001857089       0.001705009            \n",
       "                   Bootstrap Standard Error\n",
       "(Intercept)        0.050637112             \n",
       "age                0.001215647             \n",
       "kidney.disease     0.066353965             \n",
       "age:kidney.disease 0.001651468             "
      ]
     },
     "metadata": {},
     "output_type": "display_data"
    }
   ],
   "source": [
    "standard.errors.interaction <- data.frame(\n",
    "    `Estimate`=scr.model.interaction$coefficients$fixed,\n",
    "    `ML Standard Error`=sqrt(diag(ml.parameter.covariance.interaction)),\n",
    "    `Sandwich Standard Error`=sqrt(diag(sandwich.parameter.covariance.interaction)),\n",
    "    `Bootstrap Standard Error`=sqrt(diag(bootstrap.parameter.covariance.interaction)),\n",
    "    check.names=FALSE)\n",
    "\n",
    "print(xtable(standard.errors.interaction,\n",
    "             caption='Standard error estimates for fixed effect parameters with interaction term.',\n",
    "             label='tab:standard_errors_interaction',\n",
    "             digits=c(0, 6, 6, 6, 6)),\n",
    "      booktabs=TRUE, file='standard_errors_interaction.tex',\n",
    "      sanitize.colnames.function=identity,\n",
    "      sanitize.rownames.function=identity,\n",
    "      size='small')\n",
    "\n",
    "standard.errors.interaction"
   ]
  }
 ],
 "metadata": {
  "kernelspec": {
   "display_name": "R",
   "language": "R",
   "name": "ir"
  },
  "language_info": {
   "codemirror_mode": "r",
   "file_extension": ".r",
   "mimetype": "text/x-r-source",
   "name": "R",
   "pygments_lexer": "r",
   "version": "3.5.2"
  }
 },
 "nbformat": 4,
 "nbformat_minor": 2
}
