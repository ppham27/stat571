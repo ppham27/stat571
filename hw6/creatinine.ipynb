{
 "cells": [
  {
   "cell_type": "markdown",
   "metadata": {},
   "source": [
    "# LME and Creatinine"
   ]
  },
  {
   "cell_type": "markdown",
   "metadata": {},
   "source": [
    "## Joining Data"
   ]
  },
  {
   "cell_type": "code",
   "execution_count": 1,
   "metadata": {},
   "outputs": [
    {
     "data": {
      "text/html": [
       "<table>\n",
       "<thead><tr><th scope=col>id</th><th scope=col>group</th><th scope=col>age</th><th scope=col>scr</th></tr></thead>\n",
       "<tbody>\n",
       "\t<tr><td>1     </td><td>1     </td><td>35.765</td><td>0.182 </td></tr>\n",
       "\t<tr><td>1     </td><td>1     </td><td>37.990</td><td>0.088 </td></tr>\n",
       "\t<tr><td>3     </td><td>1     </td><td>51.083</td><td>0.156 </td></tr>\n",
       "\t<tr><td>3     </td><td>1     </td><td>52.386</td><td>0.116 </td></tr>\n",
       "\t<tr><td>3     </td><td>1     </td><td>52.805</td><td>0.087 </td></tr>\n",
       "\t<tr><td>3     </td><td>1     </td><td>52.997</td><td>0.067 </td></tr>\n",
       "</tbody>\n",
       "</table>\n"
      ],
      "text/latex": [
       "\\begin{tabular}{r|llll}\n",
       " id & group & age & scr\\\\\n",
       "\\hline\n",
       "\t 1      & 1      & 35.765 & 0.182 \\\\\n",
       "\t 1      & 1      & 37.990 & 0.088 \\\\\n",
       "\t 3      & 1      & 51.083 & 0.156 \\\\\n",
       "\t 3      & 1      & 52.386 & 0.116 \\\\\n",
       "\t 3      & 1      & 52.805 & 0.087 \\\\\n",
       "\t 3      & 1      & 52.997 & 0.067 \\\\\n",
       "\\end{tabular}\n"
      ],
      "text/markdown": [
       "\n",
       "| id | group | age | scr |\n",
       "|---|---|---|---|\n",
       "| 1      | 1      | 35.765 | 0.182  |\n",
       "| 1      | 1      | 37.990 | 0.088  |\n",
       "| 3      | 1      | 51.083 | 0.156  |\n",
       "| 3      | 1      | 52.386 | 0.116  |\n",
       "| 3      | 1      | 52.805 | 0.087  |\n",
       "| 3      | 1      | 52.997 | 0.067  |\n",
       "\n"
      ],
      "text/plain": [
       "  id group age    scr  \n",
       "1 1  1     35.765 0.182\n",
       "2 1  1     37.990 0.088\n",
       "3 3  1     51.083 0.156\n",
       "4 3  1     52.386 0.116\n",
       "5 3  1     52.805 0.087\n",
       "6 3  1     52.997 0.067"
      ]
     },
     "metadata": {},
     "output_type": "display_data"
    }
   ],
   "source": [
    "library(data.table)\n",
    "library(nlme)\n",
    "\n",
    "creatinine.data <- data.table(read.csv('creat.csv'), key='group')\n",
    "head(creatinine.data)"
   ]
  },
  {
   "cell_type": "code",
   "execution_count": 2,
   "metadata": {},
   "outputs": [
    {
     "data": {
      "text/html": [
       "<table>\n",
       "<thead><tr><th scope=col>group</th><th scope=col>kidney.disease</th><th scope=col>hypertension</th></tr></thead>\n",
       "<tbody>\n",
       "\t<tr><td>1</td><td>1</td><td>1</td></tr>\n",
       "\t<tr><td>2</td><td>1</td><td>0</td></tr>\n",
       "\t<tr><td>3</td><td>0</td><td>1</td></tr>\n",
       "\t<tr><td>4</td><td>0</td><td>0</td></tr>\n",
       "</tbody>\n",
       "</table>\n"
      ],
      "text/latex": [
       "\\begin{tabular}{r|lll}\n",
       " group & kidney.disease & hypertension\\\\\n",
       "\\hline\n",
       "\t 1 & 1 & 1\\\\\n",
       "\t 2 & 1 & 0\\\\\n",
       "\t 3 & 0 & 1\\\\\n",
       "\t 4 & 0 & 0\\\\\n",
       "\\end{tabular}\n"
      ],
      "text/markdown": [
       "\n",
       "| group | kidney.disease | hypertension |\n",
       "|---|---|---|\n",
       "| 1 | 1 | 1 |\n",
       "| 2 | 1 | 0 |\n",
       "| 3 | 0 | 1 |\n",
       "| 4 | 0 | 0 |\n",
       "\n"
      ],
      "text/plain": [
       "  group kidney.disease hypertension\n",
       "1 1     1              1           \n",
       "2 2     1              0           \n",
       "3 3     0              1           \n",
       "4 4     0              0           "
      ]
     },
     "metadata": {},
     "output_type": "display_data"
    }
   ],
   "source": [
    "group.data <- data.table(\n",
    "    group=c(1,2,3,4),\n",
    "    kidney.disease=c(1,1,0,0),\n",
    "    hypertension=c(1,0,1,0),\n",
    "    key='group')\n",
    "group.data"
   ]
  },
  {
   "cell_type": "code",
   "execution_count": 3,
   "metadata": {},
   "outputs": [
    {
     "data": {
      "text/html": [
       "<table>\n",
       "<thead><tr><th scope=col>id</th><th scope=col>group</th><th scope=col>age</th><th scope=col>scr</th><th scope=col>kidney.disease</th><th scope=col>hypertension</th></tr></thead>\n",
       "<tbody>\n",
       "\t<tr><td>1     </td><td>1     </td><td>35.765</td><td>0.182 </td><td>1     </td><td>1     </td></tr>\n",
       "\t<tr><td>1     </td><td>1     </td><td>37.990</td><td>0.088 </td><td>1     </td><td>1     </td></tr>\n",
       "\t<tr><td>2     </td><td>2     </td><td>24.997</td><td>1.429 </td><td>1     </td><td>0     </td></tr>\n",
       "\t<tr><td>2     </td><td>2     </td><td>27.441</td><td>1.111 </td><td>1     </td><td>0     </td></tr>\n",
       "\t<tr><td>2     </td><td>2     </td><td>30.524</td><td>1.429 </td><td>1     </td><td>0     </td></tr>\n",
       "\t<tr><td>3     </td><td>1     </td><td>51.083</td><td>0.156 </td><td>1     </td><td>1     </td></tr>\n",
       "</tbody>\n",
       "</table>\n"
      ],
      "text/latex": [
       "\\begin{tabular}{r|llllll}\n",
       " id & group & age & scr & kidney.disease & hypertension\\\\\n",
       "\\hline\n",
       "\t 1      & 1      & 35.765 & 0.182  & 1      & 1     \\\\\n",
       "\t 1      & 1      & 37.990 & 0.088  & 1      & 1     \\\\\n",
       "\t 2      & 2      & 24.997 & 1.429  & 1      & 0     \\\\\n",
       "\t 2      & 2      & 27.441 & 1.111  & 1      & 0     \\\\\n",
       "\t 2      & 2      & 30.524 & 1.429  & 1      & 0     \\\\\n",
       "\t 3      & 1      & 51.083 & 0.156  & 1      & 1     \\\\\n",
       "\\end{tabular}\n"
      ],
      "text/markdown": [
       "\n",
       "| id | group | age | scr | kidney.disease | hypertension |\n",
       "|---|---|---|---|---|---|\n",
       "| 1      | 1      | 35.765 | 0.182  | 1      | 1      |\n",
       "| 1      | 1      | 37.990 | 0.088  | 1      | 1      |\n",
       "| 2      | 2      | 24.997 | 1.429  | 1      | 0      |\n",
       "| 2      | 2      | 27.441 | 1.111  | 1      | 0      |\n",
       "| 2      | 2      | 30.524 | 1.429  | 1      | 0      |\n",
       "| 3      | 1      | 51.083 | 0.156  | 1      | 1      |\n",
       "\n"
      ],
      "text/plain": [
       "  id group age    scr   kidney.disease hypertension\n",
       "1 1  1     35.765 0.182 1              1           \n",
       "2 1  1     37.990 0.088 1              1           \n",
       "3 2  2     24.997 1.429 1              0           \n",
       "4 2  2     27.441 1.111 1              0           \n",
       "5 2  2     30.524 1.429 1              0           \n",
       "6 3  1     51.083 0.156 1              1           "
      ]
     },
     "metadata": {},
     "output_type": "display_data"
    }
   ],
   "source": [
    "creatinine.group.data <- creatinine.data[group.data]\n",
    "setkey(creatinine.group.data, id)\n",
    "head(creatinine.group.data)"
   ]
  },
  {
   "cell_type": "markdown",
   "metadata": {},
   "source": [
    "## Fitting LME Model"
   ]
  },
  {
   "cell_type": "code",
   "execution_count": 4,
   "metadata": {},
   "outputs": [
    {
     "data": {
      "text/plain": [
       "Linear mixed-effects model fit by maximum likelihood\n",
       " Data: creatinine.group.data \n",
       "        AIC       BIC   logLik\n",
       "  -127.9923 -79.67728 72.99617\n",
       "\n",
       "Random effects:\n",
       " Formula: ~age | id\n",
       " Structure: Diagonal\n",
       "        (Intercept)         age  Residual\n",
       "StdDev:   0.1317441 0.004823218 0.2258346\n",
       "\n",
       "Correlation Structure: Exponential spatial correlation\n",
       " Formula: ~age | id \n",
       " Parameter estimate(s):\n",
       "    range    nugget \n",
       "4.6701089 0.2299759 \n",
       "Fixed effects: scr ~ age * kidney.disease \n",
       "                        Value  Std.Error  DF   t-value p-value\n",
       "(Intercept)         1.1906761 0.05423195 964 21.955252  0.0000\n",
       "age                -0.0031083 0.00143568 964 -2.165012  0.0306\n",
       "kidney.disease      0.3135749 0.07137339 617  4.393443  0.0000\n",
       "age:kidney.disease -0.0166492 0.00185709 964 -8.965191  0.0000\n",
       " Correlation: \n",
       "                   (Intr) age    kdny.d\n",
       "age                -0.928              \n",
       "kidney.disease     -0.760  0.705       \n",
       "age:kidney.disease  0.718 -0.773 -0.935\n",
       "\n",
       "Standardized Within-Group Residuals:\n",
       "        Min          Q1         Med          Q3         Max \n",
       "-2.30555503 -0.53490222 -0.07977024  0.36022483  5.46804365 \n",
       "\n",
       "Number of Observations: 1585\n",
       "Number of Groups: 619 "
      ]
     },
     "metadata": {},
     "output_type": "display_data"
    }
   ],
   "source": [
    "scr.model <- lme(scr ~ age*kidney.disease,\n",
    "                 random=reStruct(~age|id, pdClass='pdDiag'),\n",
    "                 correlation=corExp(form=~age|id, nugget=TRUE),\n",
    "                 method='ML', data=creatinine.group.data)\n",
    "summary(scr.model, adjustSigma=FALSE)"
   ]
  },
  {
   "cell_type": "markdown",
   "metadata": {},
   "source": [
    "## Covariance for Subject $i$"
   ]
  },
  {
   "cell_type": "code",
   "execution_count": 5,
   "metadata": {},
   "outputs": [],
   "source": [
    "make.covariance <- function(model, i) {\n",
    "    # Error term, usually denoted epsilon\n",
    "    error.correlation <- corMatrix(model$modelStruct$corStruct)[[as.character(i)]]\n",
    "    if (is.null(error.correlation)) { error.correlation <- 1 }\n",
    "    # Random effects correlation, Z * G * tranpose(Z).\n",
    "    Z <- cbind(1, model$data[J(i), age])\n",
    "    random.correlation <- Z %*% as.matrix(model$modelStruct$reStruct$id) %*% t(Z)\n",
    "    # Convert correlation matrix into covariance matrix.\n",
    "    (random.correlation + error.correlation)*(model$sigma*model$sigma)\n",
    "}"
   ]
  },
  {
   "cell_type": "markdown",
   "metadata": {},
   "source": [
    "## $\\beta_j$ Covariance "
   ]
  },
  {
   "cell_type": "markdown",
   "metadata": {},
   "source": [
    "### Maximum Likelihood Estimate\n",
    "\n",
    "This assumes that the random effects model is correct. I can also be used as the *bread* part of the sandwich estimator."
   ]
  },
  {
   "cell_type": "code",
   "execution_count": 6,
   "metadata": {},
   "outputs": [],
   "source": [
    "make.ml.parameter.covariance <- function(model) {\n",
    "    groups <- unique(scr.model$groups)$id\n",
    "    chol2inv(chol(Reduce(`+`, lapply(groups, function(i) {\n",
    "        X <- as.matrix(cbind(\n",
    "            `(intercept)`=1,\n",
    "            model$data[J(i),\n",
    "            list(age, kidney.disease, `age:kidney.disease`=age*kidney.disease)]))\n",
    "        t(X) %*% chol2inv(chol(make.covariance(model, i))) %*% X\n",
    "    }))))\n",
    "}\n",
    "\n",
    "#sqrt(diag(make.ml.parameter.covariance(scr.model)))"
   ]
  }
 ],
 "metadata": {
  "kernelspec": {
   "display_name": "R",
   "language": "R",
   "name": "ir"
  },
  "language_info": {
   "codemirror_mode": "r",
   "file_extension": ".r",
   "mimetype": "text/x-r-source",
   "name": "R",
   "pygments_lexer": "r",
   "version": "3.5.2"
  }
 },
 "nbformat": 4,
 "nbformat_minor": 2
}
