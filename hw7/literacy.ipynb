{
 "cells": [
  {
   "cell_type": "markdown",
   "metadata": {},
   "source": [
    "# Relationship between fixed effects, random effects, GLS, and penalized regression; confounding; model misspecification"
   ]
  },
  {
   "cell_type": "code",
   "execution_count": 21,
   "metadata": {},
   "outputs": [
    {
     "name": "stderr",
     "output_type": "stream",
     "text": [
      "Loading required package: survival\n",
      "Welcome to penalized. For extended examples, see vignette(\"penalized\").\n"
     ]
    }
   ],
   "source": [
    "library(data.table)\n",
    "library(ggplot2)\n",
    "library(lme4)\n",
    "library(parallel)\n",
    "library(penalized)\n",
    "library(xtable)\n",
    "\n",
    "theme_set(theme_bw())"
   ]
  },
  {
   "cell_type": "markdown",
   "metadata": {},
   "source": [
    "## Prepare Data"
   ]
  },
  {
   "cell_type": "code",
   "execution_count": 2,
   "metadata": {},
   "outputs": [
    {
     "data": {
      "text/html": [
       "<table>\n",
       "<thead><tr><th scope=col>subject</th><th scope=col>base.age</th><th scope=col>follow.per</th><th scope=col>total.age</th><th scope=col>delta.age</th></tr></thead>\n",
       "<tbody>\n",
       "\t<tr><td>1     </td><td>1.0   </td><td>0     </td><td>1.0000</td><td>0.0000</td></tr>\n",
       "\t<tr><td>1     </td><td>1.0   </td><td>1     </td><td>4.6100</td><td>3.6100</td></tr>\n",
       "\t<tr><td>1     </td><td>1.0   </td><td>2     </td><td>8.2200</td><td>7.2200</td></tr>\n",
       "\t<tr><td>2     </td><td>1.1   </td><td>0     </td><td>1.1000</td><td>0.0000</td></tr>\n",
       "\t<tr><td>2     </td><td>1.1   </td><td>1     </td><td>4.6721</td><td>3.5721</td></tr>\n",
       "\t<tr><td>2     </td><td>1.1   </td><td>2     </td><td>8.2442</td><td>7.1442</td></tr>\n",
       "</tbody>\n",
       "</table>\n"
      ],
      "text/latex": [
       "\\begin{tabular}{r|lllll}\n",
       " subject & base.age & follow.per & total.age & delta.age\\\\\n",
       "\\hline\n",
       "\t 1      & 1.0    & 0      & 1.0000 & 0.0000\\\\\n",
       "\t 1      & 1.0    & 1      & 4.6100 & 3.6100\\\\\n",
       "\t 1      & 1.0    & 2      & 8.2200 & 7.2200\\\\\n",
       "\t 2      & 1.1    & 0      & 1.1000 & 0.0000\\\\\n",
       "\t 2      & 1.1    & 1      & 4.6721 & 3.5721\\\\\n",
       "\t 2      & 1.1    & 2      & 8.2442 & 7.1442\\\\\n",
       "\\end{tabular}\n"
      ],
      "text/markdown": [
       "\n",
       "| subject | base.age | follow.per | total.age | delta.age |\n",
       "|---|---|---|---|---|\n",
       "| 1      | 1.0    | 0      | 1.0000 | 0.0000 |\n",
       "| 1      | 1.0    | 1      | 4.6100 | 3.6100 |\n",
       "| 1      | 1.0    | 2      | 8.2200 | 7.2200 |\n",
       "| 2      | 1.1    | 0      | 1.1000 | 0.0000 |\n",
       "| 2      | 1.1    | 1      | 4.6721 | 3.5721 |\n",
       "| 2      | 1.1    | 2      | 8.2442 | 7.1442 |\n",
       "\n"
      ],
      "text/plain": [
       "  subject base.age follow.per total.age delta.age\n",
       "1 1       1.0      0          1.0000    0.0000   \n",
       "2 1       1.0      1          4.6100    3.6100   \n",
       "3 1       1.0      2          8.2200    7.2200   \n",
       "4 2       1.1      0          1.1000    0.0000   \n",
       "5 2       1.1      1          4.6721    3.5721   \n",
       "6 2       1.1      2          8.2442    7.1442   "
      ]
     },
     "metadata": {},
     "output_type": "display_data"
    }
   ],
   "source": [
    "literacy.covariates.data <- data.table(subject=c(1:91))\n",
    "literacy.covariates.data[,base.age:=1 + 0.1*(subject - 1)]\n",
    "literacy.covariates.data[,`0`:=base.age]\n",
    "literacy.covariates.data[,`1`:=`0` + (1 + (10 - base.age)/10)^2]\n",
    "literacy.covariates.data[,`2`:=`1` + (1 + (10 - base.age)/10)^2]\n",
    "literacy.covariates.data[,subject:=factor(subject)]\n",
    "literacy.covariates.data <- melt(literacy.covariates.data, id.vars=c('subject', 'base.age'),\n",
    "                                 value.name='total.age', variable.name='follow.per')\n",
    "literacy.covariates.data[,follow.per:=factor(as.numeric(follow.per) - 1, ordered=TRUE)]\n",
    "setkey(literacy.covariates.data, subject, follow.per)\n",
    "literacy.covariates.data[,delta.age:=total.age - base.age]\n",
    "head(literacy.covariates.data)"
   ]
  },
  {
   "cell_type": "markdown",
   "metadata": {},
   "source": [
    "## Response"
   ]
  },
  {
   "cell_type": "code",
   "execution_count": 3,
   "metadata": {},
   "outputs": [],
   "source": [
    "make.base.literacy <- function(base.age) {\n",
    "    (10 - base.age)^2\n",
    "}\n",
    "\n",
    "make.response <- function(covariates, variance=100) {\n",
    "    make.base.literacy(covariates$base.age) +\n",
    "    covariates$delta.age +\n",
    "    rnorm(n=nrow(covariates), sd=sqrt(variance))\n",
    "}"
   ]
  },
  {
   "cell_type": "markdown",
   "metadata": {},
   "source": [
    "## Visualization"
   ]
  },
  {
   "cell_type": "code",
   "execution_count": 4,
   "metadata": {},
   "outputs": [
    {
     "data": {
      "text/html": [
       "<strong>png:</strong> 2"
      ],
      "text/latex": [
       "\\textbf{png:} 2"
      ],
      "text/markdown": [
       "**png:** 2"
      ],
      "text/plain": [
       "png \n",
       "  2 "
      ]
     },
     "metadata": {},
     "output_type": "display_data"
    },
    {
     "data": {
      "image/png": "[encoded data removed]",
      "text/plain": [
       "plot without title"
      ]
     },
     "metadata": {},
     "output_type": "display_data"
    }
   ],
   "source": [
    "set.seed(2021)\n",
    "literacy.data <- copy(literacy.covariates.data)\n",
    "literacy.data[,literacy:=make.response(literacy.data)]\n",
    "\n",
    "p <- ggplot(literacy.data, aes(x=total.age, y=literacy)) +\n",
    "  geom_point(aes(color=follow.per)) +\n",
    "  scale_color_brewer('Follow Period', palette='Set1') + \n",
    "  geom_smooth(aes(group=subject), method='lm', se=FALSE, color='#00000022') +\n",
    "  ggtitle('Literacy versus Age Grouped by Subject')\n",
    "\n",
    "pdf('literacy_versus_age.pdf', width=6, height=3.75)\n",
    "p\n",
    "dev.off()\n",
    "p"
   ]
  },
  {
   "cell_type": "code",
   "execution_count": 5,
   "metadata": {},
   "outputs": [
    {
     "data": {
      "text/html": [
       "<strong>png:</strong> 2"
      ],
      "text/latex": [
       "\\textbf{png:} 2"
      ],
      "text/markdown": [
       "**png:** 2"
      ],
      "text/plain": [
       "png \n",
       "  2 "
      ]
     },
     "metadata": {},
     "output_type": "display_data"
    },
    {
     "data": {
      "image/png": "[encoded data removed]",
      "text/plain": [
       "plot without title"
      ]
     },
     "metadata": {},
     "output_type": "display_data"
    }
   ],
   "source": [
    "p <- ggplot(literacy.data, aes(x=literacy, fill=follow.per)) +\n",
    "  geom_histogram(bins=8) +\n",
    "  scale_fill_brewer('Follow Period', palette='Set1', guide=FALSE) +\n",
    "  facet_wrap(~follow.per, ncol=1) +\n",
    "  ggtitle('Literacy Distribution by Follow Period')\n",
    "\n",
    "pdf('literacy_by_follow_period.pdf', width=6, height=6)\n",
    "p\n",
    "dev.off()\n",
    "p"
   ]
  },
  {
   "cell_type": "markdown",
   "metadata": {},
   "source": [
    "## Simulation Study: Random versus Fixed Effect Intercept"
   ]
  },
  {
   "cell_type": "code",
   "execution_count": 6,
   "metadata": {},
   "outputs": [],
   "source": [
    "lmer.simulation.samples <- do.call(rbind, mclapply(replicate(4096, literacy.covariates.data, simplify=FALSE), function(covariates) {\n",
    "    literacy <- make.response(covariates)\n",
    "    model <- lmer(literacy ~ delta.age + (1|subject), data=covariates, REML=TRUE)\n",
    "    var.corr <- VarCorr(model)\n",
    "    data.frame(\n",
    "        delta.age=fixef(model)[['delta.age']],\n",
    "        delta.age.std.error=summary(model)$coefficients['delta.age', 'Std. Error'],\n",
    "        sigma=attributes(var.corr)$sc,\n",
    "        sigma.random=attributes(var.corr$subject)$stddev[['(Intercept)']])\n",
    "}, mc.cores=4))"
   ]
  },
  {
   "cell_type": "code",
   "execution_count": 7,
   "metadata": {},
   "outputs": [],
   "source": [
    "lm.simulation.samples <- do.call(rbind, mclapply(replicate(4096, literacy.covariates.data, simplify=FALSE), function(covariates) {\n",
    "    literacy <- make.response(covariates)\n",
    "    model <- lm(literacy ~ subject + delta.age, data=covariates)\n",
    "    model.summary <- summary(model)\n",
    "    data.frame(\n",
    "        delta.age=model$coefficients[['delta.age']],\n",
    "        delta.age.std.error=model.summary$coefficients['delta.age', 'Std. Error'],\n",
    "        sigma=model.summary$sigma)\n",
    "    \n",
    "}, mc.cores=4))"
   ]
  },
  {
   "cell_type": "code",
   "execution_count": 8,
   "metadata": {},
   "outputs": [],
   "source": [
    "summarize.simulation <- function(data) {\n",
    "    l <- list(\n",
    "        `$\\\\mathbb{E}\\\\left[\\\\hat{\\\\beta}_L\\\\right]$`=mean(data$delta.age),\n",
    "        `$\\\\mathbb{E}\\\\left[\\\\hat{\\\\sigma}_{\\\\hat{\\\\beta}_L}\\\\right]$`=mean(data$delta.age.std.error),\n",
    "        `Sample $\\\\hat{\\\\sigma}_{\\\\hat{\\\\beta}_L}$`=sd(data$delta.age),\n",
    "        `$\\\\mathbb{E}\\\\left[\\\\hat{\\\\sigma}\\\\right]$`=mean(data$sigma))\n",
    "    l[['$\\\\mathbb{E}\\\\left[\\\\hat{\\\\sigma}_{\\\\gamma}\\\\right]$']] <- if ('sigma.random' %in% names(data)) {\n",
    "        mean(data$sigma.random)\n",
    "    } else {\n",
    "        NA\n",
    "    }\n",
    "    l\n",
    "}"
   ]
  },
  {
   "cell_type": "code",
   "execution_count": 9,
   "metadata": {},
   "outputs": [
    {
     "data": {
      "text/html": [
       "<table>\n",
       "<thead><tr><th></th><th scope=col>$\\mathbb{E}\\left[\\hat{\\beta}_L\\right]$</th><th scope=col>$\\mathbb{E}\\left[\\hat{\\sigma}_{\\hat{\\beta}_L}\\right]$</th><th scope=col>Sample $\\hat{\\sigma}_{\\hat{\\beta}_L}$</th><th scope=col>$\\mathbb{E}\\left[\\hat{\\sigma}\\right]$</th><th scope=col>$\\mathbb{E}\\left[\\hat{\\sigma}_{\\gamma}\\right]$</th></tr></thead>\n",
       "<tbody>\n",
       "\t<tr><th scope=row>Random Effects Intercept</th><td>1.2762289</td><td>0.3208256</td><td>0.3284886</td><td>10.008001</td><td>24.35076 </td></tr>\n",
       "\t<tr><th scope=row>Fixed Effects Intercept</th><td>0.9984203</td><td>0.3214776</td><td>0.3239654</td><td> 9.983993</td><td>      NA </td></tr>\n",
       "</tbody>\n",
       "</table>\n"
      ],
      "text/latex": [
       "\\begin{tabular}{r|lllll}\n",
       "  & \\$\\textbackslash{}mathbb\\{E\\}\\textbackslash{}left{[}\\textbackslash{}hat\\{\\textbackslash{}beta\\}\\_L\\textbackslash{}right{]}\\$ & \\$\\textbackslash{}mathbb\\{E\\}\\textbackslash{}left{[}\\textbackslash{}hat\\{\\textbackslash{}sigma\\}\\_\\{\\textbackslash{}hat\\{\\textbackslash{}beta\\}\\_L\\}\\textbackslash{}right{]}\\$ & Sample \\$\\textbackslash{}hat\\{\\textbackslash{}sigma\\}\\_\\{\\textbackslash{}hat\\{\\textbackslash{}beta\\}\\_L\\}\\$ & \\$\\textbackslash{}mathbb\\{E\\}\\textbackslash{}left{[}\\textbackslash{}hat\\{\\textbackslash{}sigma\\}\\textbackslash{}right{]}\\$ & \\$\\textbackslash{}mathbb\\{E\\}\\textbackslash{}left{[}\\textbackslash{}hat\\{\\textbackslash{}sigma\\}\\_\\{\\textbackslash{}gamma\\}\\textbackslash{}right{]}\\$\\\\\n",
       "\\hline\n",
       "\tRandom Effects Intercept & 1.2762289 & 0.3208256 & 0.3284886 & 10.008001 & 24.35076 \\\\\n",
       "\tFixed Effects Intercept & 0.9984203 & 0.3214776 & 0.3239654 &  9.983993 &       NA \\\\\n",
       "\\end{tabular}\n"
      ],
      "text/markdown": [
       "\n",
       "| <!--/--> | $\\mathbb{E}\\left[\\hat{\\beta}_L\\right]$ | $\\mathbb{E}\\left[\\hat{\\sigma}_{\\hat{\\beta}_L}\\right]$ | Sample $\\hat{\\sigma}_{\\hat{\\beta}_L}$ | $\\mathbb{E}\\left[\\hat{\\sigma}\\right]$ | $\\mathbb{E}\\left[\\hat{\\sigma}_{\\gamma}\\right]$ |\n",
       "|---|---|---|---|---|---|\n",
       "| Random Effects Intercept | 1.2762289 | 0.3208256 | 0.3284886 | 10.008001 | 24.35076  |\n",
       "| Fixed Effects Intercept | 0.9984203 | 0.3214776 | 0.3239654 |  9.983993 |       NA  |\n",
       "\n"
      ],
      "text/plain": [
       "                         $\\\\mathbb{E}\\\\left[\\\\hat{\\\\beta}_L\\\\right]$\n",
       "Random Effects Intercept 1.2762289                                  \n",
       "Fixed Effects Intercept  0.9984203                                  \n",
       "                         $\\\\mathbb{E}\\\\left[\\\\hat{\\\\sigma}_{\\\\hat{\\\\beta}_L}\\\\right]$\n",
       "Random Effects Intercept 0.3208256                                                   \n",
       "Fixed Effects Intercept  0.3214776                                                   \n",
       "                         Sample $\\\\hat{\\\\sigma}_{\\\\hat{\\\\beta}_L}$\n",
       "Random Effects Intercept 0.3284886                                \n",
       "Fixed Effects Intercept  0.3239654                                \n",
       "                         $\\\\mathbb{E}\\\\left[\\\\hat{\\\\sigma}\\\\right]$\n",
       "Random Effects Intercept 10.008001                                 \n",
       "Fixed Effects Intercept   9.983993                                 \n",
       "                         $\\\\mathbb{E}\\\\left[\\\\hat{\\\\sigma}_{\\\\gamma}\\\\right]$\n",
       "Random Effects Intercept 24.35076                                            \n",
       "Fixed Effects Intercept        NA                                            "
      ]
     },
     "metadata": {},
     "output_type": "display_data"
    }
   ],
   "source": [
    "simulation.comparison <- as.data.frame(rbind(\n",
    "    data.table(lmer.simulation.samples)[,summarize.simulation(.SD)],\n",
    "    data.table(lm.simulation.samples)[,summarize.simulation(.SD)]))\n",
    "row.names(simulation.comparison) <- c('Random Effects Intercept', 'Fixed Effects Intercept')\n",
    "simulation.comparison"
   ]
  },
  {
   "cell_type": "code",
   "execution_count": 10,
   "metadata": {},
   "outputs": [],
   "source": [
    "print(xtable(simulation.comparison,\n",
    "             caption=paste('\\\\small Results of a simulation study comparing modeling the ',\n",
    "                           'subject-specific intercepts as a random effect or fixed effect.',\n",
    "                           'Parameter estimates were averaged over simulations. Standard errors',\n",
    "                           'for $\\\\hat{\\\\beta_L}$ are calculated two ways:',\n",
    "                           '(1) assuming the model is correct',\n",
    "                           '($\\\\mathbb{E}\\\\left[\\\\hat{\\\\sigma}_{\\\\hat{\\\\beta}_L}\\\\right]$),',\n",
    "                           'and (2) using the $\\\\hat{\\\\beta_L}$ samples',\n",
    "                           '(Sample $\\\\hat{\\\\sigma}_{\\\\hat{\\\\beta}_L}$).'),\n",
    "             label='tab:simulation_comparison',\n",
    "             digits=c(0, 6, 6, 6, 6, 6)),\n",
    "      booktabs=TRUE,\n",
    "      sanitize.colnames.function=identity,\n",
    "      sanitize.rownames.function=identity,\n",
    "      size='small',\n",
    "      file='simulation_comparison.tex')"
   ]
  },
  {
   "cell_type": "markdown",
   "metadata": {},
   "source": [
    "## $\\sigma_\\gamma$ Calculation"
   ]
  },
  {
   "cell_type": "code",
   "execution_count": 6,
   "metadata": {},
   "outputs": [
    {
     "data": {
      "text/html": [
       "24.4330554781836"
      ],
      "text/latex": [
       "24.4330554781836"
      ],
      "text/markdown": [
       "24.4330554781836"
      ],
      "text/plain": [
       "[1] 24.43306"
      ]
     },
     "metadata": {},
     "output_type": "display_data"
    }
   ],
   "source": [
    "base.literacy <- make.base.literacy(literacy.covariates.data[follow.per==0]$base.age)\n",
    "variance.random.intercept <- mean((base.literacy - mean(base.literacy))^2)\n",
    "sqrt(variance.random.intercept)"
   ]
  },
  {
   "cell_type": "markdown",
   "metadata": {},
   "source": [
    "## Expected $\\hat{\\beta}$"
   ]
  },
  {
   "cell_type": "markdown",
   "metadata": {},
   "source": [
    "### GLS"
   ]
  },
  {
   "cell_type": "code",
   "execution_count": 136,
   "metadata": {},
   "outputs": [],
   "source": [
    "expect.beta.hat.gls <- function(residual.variance) {\n",
    "    subject.covariance.inv <- chol2inv(chol(\n",
    "        as.matrix(nlme::pdCompSymm(variance.random.intercept + diag(3)*residual.variance))))\n",
    "    projected.data <- lapply(levels(literacy.covariates.data$subject), function(i) {\n",
    "        data <- literacy.covariates.data[J(i)]\n",
    "        X <- cbind(1, data$delta.age)\n",
    "        tX <- t(X)\n",
    "        list(X=tX %*% subject.covariance.inv %*% X,\n",
    "             y=tX %*% subject.covariance.inv %*% make.response(data, 0))\n",
    "    })    \n",
    "    projected.X <- Reduce(\n",
    "        `+`, lapply(projected.data, function(projection) { projection$X }))\n",
    "    projected.y <- Reduce(\n",
    "        `+`, lapply(projected.data, function(projection) { projection$y }))    \n",
    "    beta.hat <- as.vector(chol2inv(chol(projected.X)) %*% projected.y)\n",
    "    names(beta.hat) <- c('(Intercept)', 'delta.age')        \n",
    "    beta.hat\n",
    "}"
   ]
  },
  {
   "cell_type": "code",
   "execution_count": 137,
   "metadata": {},
   "outputs": [
    {
     "data": {
      "text/html": [
       "<dl class=dl-horizontal>\n",
       "\t<dt>(Intercept)</dt>\n",
       "\t\t<dd>27.0872956760729</dd>\n",
       "\t<dt>delta.age</dt>\n",
       "\t\t<dd>1.02887604141244</dd>\n",
       "</dl>\n"
      ],
      "text/latex": [
       "\\begin{description*}\n",
       "\\item[(Intercept)] 27.0872956760729\n",
       "\\item[delta.age] 1.02887604141244\n",
       "\\end{description*}\n"
      ],
      "text/markdown": [
       "(Intercept)\n",
       ":   27.0872956760729delta.age\n",
       ":   1.02887604141244\n",
       "\n"
      ],
      "text/plain": [
       "(Intercept)   delta.age \n",
       "  27.087296    1.028876 "
      ]
     },
     "metadata": {},
     "output_type": "display_data"
    },
    {
     "data": {
      "text/html": [
       "<dl class=dl-horizontal>\n",
       "\t<dt>(Intercept)</dt>\n",
       "\t\t<dd>26.5574340449294</dd>\n",
       "\t<dt>delta.age</dt>\n",
       "\t\t<dd>1.27288323972858</dd>\n",
       "</dl>\n"
      ],
      "text/latex": [
       "\\begin{description*}\n",
       "\\item[(Intercept)] 26.5574340449294\n",
       "\\item[delta.age] 1.27288323972858\n",
       "\\end{description*}\n"
      ],
      "text/markdown": [
       "(Intercept)\n",
       ":   26.5574340449294delta.age\n",
       ":   1.27288323972858\n",
       "\n"
      ],
      "text/plain": [
       "(Intercept)   delta.age \n",
       "  26.557434    1.272883 "
      ]
     },
     "metadata": {},
     "output_type": "display_data"
    },
    {
     "data": {
      "text/html": [
       "<dl class=dl-horizontal>\n",
       "\t<dt>(Intercept)</dt>\n",
       "\t\t<dd>23.3265967541806</dd>\n",
       "\t<dt>delta.age</dt>\n",
       "\t\t<dd>2.76071989215724</dd>\n",
       "</dl>\n"
      ],
      "text/latex": [
       "\\begin{description*}\n",
       "\\item[(Intercept)] 23.3265967541806\n",
       "\\item[delta.age] 2.76071989215724\n",
       "\\end{description*}\n"
      ],
      "text/markdown": [
       "(Intercept)\n",
       ":   23.3265967541806delta.age\n",
       ":   2.76071989215724\n",
       "\n"
      ],
      "text/plain": [
       "(Intercept)   delta.age \n",
       "   23.32660     2.76072 "
      ]
     },
     "metadata": {},
     "output_type": "display_data"
    }
   ],
   "source": [
    "expect.beta.hat.gls(10)\n",
    "expect.beta.hat.gls(100)\n",
    "expect.beta.hat.gls(1000)"
   ]
  },
  {
   "cell_type": "markdown",
   "metadata": {},
   "source": [
    "### Ridge Regression"
   ]
  },
  {
   "cell_type": "code",
   "execution_count": 35,
   "metadata": {},
   "outputs": [],
   "source": [
    "expect.beta.hat.ridge <- function(residual.variance) {\n",
    "    X <- cbind(1, model.matrix(~ 0 + delta.age + subject, literacy.covariates.data))\n",
    "    y <- make.response(literacy.covariates.data, 0)\n",
    "    # Penalize only random effects.\n",
    "    Q <- diag(ncol(X))\n",
    "    Q[1, 1] <- 0\n",
    "    Q[2, 2] <- 0\n",
    "    # Estimate beta\n",
    "    tX <- t(X)    \n",
    "    beta.hat <- as.vector(chol2inv(chol(tX %*% X + residual.variance/variance.random.intercept*Q)) %*% tX %*% y)\n",
    "    names(beta.hat) <- colnames(X)\n",
    "    names(beta.hat)[1] <- '(Intercept)'\n",
    "    beta.hat\n",
    "}"
   ]
  },
  {
   "cell_type": "code",
   "execution_count": 73,
   "metadata": {},
   "outputs": [
    {
     "data": {
      "text/html": [
       "<strong>delta.age:</strong> 1.02887604141245"
      ],
      "text/latex": [
       "\\textbf{delta.age:} 1.02887604141245"
      ],
      "text/markdown": [
       "**delta.age:** 1.02887604141245"
      ],
      "text/plain": [
       "delta.age \n",
       " 1.028876 "
      ]
     },
     "metadata": {},
     "output_type": "display_data"
    },
    {
     "data": {
      "text/html": [
       "<strong>delta.age:</strong> 1.27288323972858"
      ],
      "text/latex": [
       "\\textbf{delta.age:} 1.27288323972858"
      ],
      "text/markdown": [
       "**delta.age:** 1.27288323972858"
      ],
      "text/plain": [
       "delta.age \n",
       " 1.272883 "
      ]
     },
     "metadata": {},
     "output_type": "display_data"
    },
    {
     "data": {
      "text/html": [
       "<strong>delta.age:</strong> 2.76071989215723"
      ],
      "text/latex": [
       "\\textbf{delta.age:} 2.76071989215723"
      ],
      "text/markdown": [
       "**delta.age:** 2.76071989215723"
      ],
      "text/plain": [
       "delta.age \n",
       "  2.76072 "
      ]
     },
     "metadata": {},
     "output_type": "display_data"
    }
   ],
   "source": [
    "expect.beta.hat.ridge(10)['delta.age']\n",
    "expect.beta.hat.ridge(100)['delta.age']\n",
    "expect.beta.hat.ridge(1000)['delta.age']"
   ]
  },
  {
   "cell_type": "markdown",
   "metadata": {},
   "source": [
    "### Penalized Regression"
   ]
  },
  {
   "cell_type": "code",
   "execution_count": 43,
   "metadata": {},
   "outputs": [],
   "source": [
    "expect.beta.hat.penalized <- function(residual.variance) {\n",
    "    coef(penalized(make.response(literacy.covariates.data, 0),\n",
    "                   unpenalized=~delta.age,\n",
    "                   penalized=~subject,                       \n",
    "                   data=literacy.covariates.data,\n",
    "                   lambda2=residual.variance/variance.random.intercept))\n",
    "}"
   ]
  },
  {
   "cell_type": "code",
   "execution_count": 63,
   "metadata": {},
   "outputs": [
    {
     "name": "stdout",
     "output_type": "stream",
     "text": [
      "\n"
     ]
    },
    {
     "data": {
      "text/html": [
       "<strong>delta.age:</strong> 1.00290450342294"
      ],
      "text/latex": [
       "\\textbf{delta.age:} 1.00290450342294"
      ],
      "text/markdown": [
       "**delta.age:** 1.00290450342294"
      ],
      "text/plain": [
       "delta.age \n",
       " 1.002905 "
      ]
     },
     "metadata": {},
     "output_type": "display_data"
    },
    {
     "name": "stdout",
     "output_type": "stream",
     "text": [
      "\n"
     ]
    },
    {
     "data": {
      "text/html": [
       "<strong>delta.age:</strong> 1.02887604141244"
      ],
      "text/latex": [
       "\\textbf{delta.age:} 1.02887604141244"
      ],
      "text/markdown": [
       "**delta.age:** 1.02887604141244"
      ],
      "text/plain": [
       "delta.age \n",
       " 1.028876 "
      ]
     },
     "metadata": {},
     "output_type": "display_data"
    },
    {
     "name": "stdout",
     "output_type": "stream",
     "text": [
      "\n"
     ]
    },
    {
     "data": {
      "text/html": [
       "<strong>delta.age:</strong> 1.27288323972857"
      ],
      "text/latex": [
       "\\textbf{delta.age:} 1.27288323972857"
      ],
      "text/markdown": [
       "**delta.age:** 1.27288323972857"
      ],
      "text/plain": [
       "delta.age \n",
       " 1.272883 "
      ]
     },
     "metadata": {},
     "output_type": "display_data"
    },
    {
     "name": "stdout",
     "output_type": "stream",
     "text": [
      "\n"
     ]
    },
    {
     "data": {
      "text/html": [
       "<strong>delta.age:</strong> 2.76071989215725"
      ],
      "text/latex": [
       "\\textbf{delta.age:} 2.76071989215725"
      ],
      "text/markdown": [
       "**delta.age:** 2.76071989215725"
      ],
      "text/plain": [
       "delta.age \n",
       "  2.76072 "
      ]
     },
     "metadata": {},
     "output_type": "display_data"
    }
   ],
   "source": [
    "expect.beta.hat.penalized(1)['delta.age']\n",
    "expect.beta.hat.penalized(10)['delta.age']\n",
    "expect.beta.hat.penalized(100)['delta.age']\n",
    "expect.beta.hat.penalized(1000)['delta.age']"
   ]
  },
  {
   "cell_type": "code",
   "execution_count": 133,
   "metadata": {},
   "outputs": [
    {
     "name": "stdout",
     "output_type": "stream",
     "text": [
      "\n"
     ]
    },
    {
     "data": {
      "text/html": [
       "0.0627043239285432"
      ],
      "text/latex": [
       "0.0627043239285432"
      ],
      "text/markdown": [
       "0.0627043239285432"
      ],
      "text/plain": [
       "[1] 0.06270432"
      ]
     },
     "metadata": {},
     "output_type": "display_data"
    }
   ],
   "source": [
    "mean(base.literacy - expect.beta.hat.penalized(10)[['(Intercept)']])"
   ]
  },
  {
   "cell_type": "code",
   "execution_count": 68,
   "metadata": {},
   "outputs": [
    {
     "name": "stdout",
     "output_type": "stream",
     "text": [
      "\n"
     ]
    },
    {
     "data": {
      "text/html": [
       "<dl class=dl-horizontal>\n",
       "\t<dt>(Intercept)</dt>\n",
       "\t\t<dd>26.5574340449294</dd>\n",
       "\t<dt>delta.age</dt>\n",
       "\t\t<dd>1.27288323972857</dd>\n",
       "\t<dt>subject1</dt>\n",
       "\t\t<dd>50.6304005796041</dd>\n",
       "\t<dt>subject2</dt>\n",
       "\t\t<dd>48.9448586963188</dd>\n",
       "\t<dt>subject3</dt>\n",
       "\t\t<dd>47.2782074378785</dd>\n",
       "\t<dt>subject4</dt>\n",
       "\t\t<dd>45.6304468042834</dd>\n",
       "\t<dt>subject5</dt>\n",
       "\t\t<dd>44.0015767955334</dd>\n",
       "\t<dt>subject6</dt>\n",
       "\t\t<dd>42.3915974116285</dd>\n",
       "\t<dt>subject7</dt>\n",
       "\t\t<dd>40.8005086525688</dd>\n",
       "\t<dt>subject8</dt>\n",
       "\t\t<dd>39.2283105183542</dd>\n",
       "\t<dt>subject9</dt>\n",
       "\t\t<dd>37.6750030089846</dd>\n",
       "\t<dt>subject10</dt>\n",
       "\t\t<dd>36.1405861244602</dd>\n",
       "\t<dt>subject11</dt>\n",
       "\t\t<dd>34.625059864781</dd>\n",
       "\t<dt>subject12</dt>\n",
       "\t\t<dd>33.1284242299468</dd>\n",
       "\t<dt>subject13</dt>\n",
       "\t\t<dd>31.6506792199578</dd>\n",
       "\t<dt>subject14</dt>\n",
       "\t\t<dd>30.1918248348139</dd>\n",
       "\t<dt>subject15</dt>\n",
       "\t\t<dd>28.7518610745151</dd>\n",
       "\t<dt>subject16</dt>\n",
       "\t\t<dd>27.3307879390615</dd>\n",
       "\t<dt>subject17</dt>\n",
       "\t\t<dd>25.9286054284529</dd>\n",
       "\t<dt>subject18</dt>\n",
       "\t\t<dd>24.5453135426895</dd>\n",
       "\t<dt>subject19</dt>\n",
       "\t\t<dd>23.1809122817712</dd>\n",
       "\t<dt>subject20</dt>\n",
       "\t\t<dd>21.835401645698</dd>\n",
       "\t<dt>subject21</dt>\n",
       "\t\t<dd>20.50878163447</dd>\n",
       "\t<dt>subject22</dt>\n",
       "\t\t<dd>19.201052248087</dd>\n",
       "\t<dt>subject23</dt>\n",
       "\t\t<dd>17.9122134865492</dd>\n",
       "\t<dt>subject24</dt>\n",
       "\t\t<dd>16.6422653498565</dd>\n",
       "\t<dt>subject25</dt>\n",
       "\t\t<dd>15.3912078380089</dd>\n",
       "\t<dt>subject26</dt>\n",
       "\t\t<dd>14.1590409510065</dd>\n",
       "\t<dt>subject27</dt>\n",
       "\t\t<dd>12.9457646888492</dd>\n",
       "\t<dt>subject28</dt>\n",
       "\t\t<dd>11.751379051537</dd>\n",
       "\t<dt>subject29</dt>\n",
       "\t\t<dd>10.5758840390699</dd>\n",
       "\t<dt>subject30</dt>\n",
       "\t\t<dd>9.41927965144794</dd>\n",
       "\t<dt>subject31</dt>\n",
       "\t\t<dd>8.2815658886711</dd>\n",
       "\t<dt>subject32</dt>\n",
       "\t\t<dd>7.16274275073939</dd>\n",
       "\t<dt>subject33</dt>\n",
       "\t\t<dd>6.06281023765279</dd>\n",
       "\t<dt>subject34</dt>\n",
       "\t\t<dd>4.98176834941131</dd>\n",
       "\t<dt>subject35</dt>\n",
       "\t\t<dd>3.91961708601496</dd>\n",
       "\t<dt>subject36</dt>\n",
       "\t\t<dd>2.87635644746372</dd>\n",
       "\t<dt>subject37</dt>\n",
       "\t\t<dd>1.85198643375762</dd>\n",
       "\t<dt>subject38</dt>\n",
       "\t\t<dd>0.846507044896624</dd>\n",
       "\t<dt>subject39</dt>\n",
       "\t\t<dd>-0.140081719119262</dd>\n",
       "\t<dt>subject40</dt>\n",
       "\t\t<dd>-1.10777985829</dd>\n",
       "\t<dt>subject41</dt>\n",
       "\t\t<dd>-2.05658737261562</dd>\n",
       "\t<dt>subject42</dt>\n",
       "\t\t<dd>-2.98650426209614</dd>\n",
       "\t<dt>subject43</dt>\n",
       "\t\t<dd>-3.8975305267315</dd>\n",
       "\t<dt>subject44</dt>\n",
       "\t\t<dd>-4.78966616652176</dd>\n",
       "\t<dt>subject45</dt>\n",
       "\t\t<dd>-5.66291118146691</dd>\n",
       "\t<dt>subject46</dt>\n",
       "\t\t<dd>-6.51726557156693</dd>\n",
       "\t<dt>subject47</dt>\n",
       "\t\t<dd>-7.35272933682182</dd>\n",
       "\t<dt>subject48</dt>\n",
       "\t\t<dd>-8.16930247723159</dd>\n",
       "\t<dt>subject49</dt>\n",
       "\t\t<dd>-8.96698499279625</dd>\n",
       "\t<dt>subject50</dt>\n",
       "\t\t<dd>-9.74577688351577</dd>\n",
       "\t<dt>subject51</dt>\n",
       "\t\t<dd>-10.5056781493902</dd>\n",
       "\t<dt>subject52</dt>\n",
       "\t\t<dd>-11.2466887904195</dd>\n",
       "\t<dt>subject53</dt>\n",
       "\t\t<dd>-11.9688088066036</dd>\n",
       "\t<dt>subject54</dt>\n",
       "\t\t<dd>-12.6720381979427</dd>\n",
       "\t<dt>subject55</dt>\n",
       "\t\t<dd>-13.3563769644366</dd>\n",
       "\t<dt>subject56</dt>\n",
       "\t\t<dd>-14.0218251060854</dd>\n",
       "\t<dt>subject57</dt>\n",
       "\t\t<dd>-14.6683826228891</dd>\n",
       "\t<dt>subject58</dt>\n",
       "\t\t<dd>-15.2960495148476</dd>\n",
       "\t<dt>subject59</dt>\n",
       "\t\t<dd>-15.9048257819611</dd>\n",
       "\t<dt>subject60</dt>\n",
       "\t\t<dd>-16.4947114242294</dd>\n",
       "\t<dt>subject61</dt>\n",
       "\t\t<dd>-17.0657064416526</dd>\n",
       "\t<dt>subject62</dt>\n",
       "\t\t<dd>-17.6178108342307</dd>\n",
       "\t<dt>subject63</dt>\n",
       "\t\t<dd>-18.1510246019636</dd>\n",
       "\t<dt>subject64</dt>\n",
       "\t\t<dd>-18.6653477448514</dd>\n",
       "\t<dt>subject65</dt>\n",
       "\t\t<dd>-19.1607802628942</dd>\n",
       "\t<dt>subject66</dt>\n",
       "\t\t<dd>-19.6373221560917</dd>\n",
       "\t<dt>subject67</dt>\n",
       "\t\t<dd>-20.0949734244442</dd>\n",
       "\t<dt>subject68</dt>\n",
       "\t\t<dd>-20.5337340679516</dd>\n",
       "\t<dt>subject69</dt>\n",
       "\t\t<dd>-20.9536040866138</dd>\n",
       "\t<dt>subject70</dt>\n",
       "\t\t<dd>-21.3545834804309</dd>\n",
       "\t<dt>subject71</dt>\n",
       "\t\t<dd>-21.7366722494029</dd>\n",
       "\t<dt>subject72</dt>\n",
       "\t\t<dd>-22.0998703935297</dd>\n",
       "\t<dt>subject73</dt>\n",
       "\t\t<dd>-22.4441779128114</dd>\n",
       "\t<dt>subject74</dt>\n",
       "\t\t<dd>-22.7695948072481</dd>\n",
       "\t<dt>subject75</dt>\n",
       "\t\t<dd>-23.0761210768396</dd>\n",
       "\t<dt>subject76</dt>\n",
       "\t\t<dd>-23.3637567215859</dd>\n",
       "\t<dt>subject77</dt>\n",
       "\t\t<dd>-23.6325017414872</dd>\n",
       "\t<dt>subject78</dt>\n",
       "\t\t<dd>-23.8823561365433</dd>\n",
       "\t<dt>subject79</dt>\n",
       "\t\t<dd>-24.1133199067543</dd>\n",
       "\t<dt>subject80</dt>\n",
       "\t\t<dd>-24.3253930521202</dd>\n",
       "\t<dt>subject81</dt>\n",
       "\t\t<dd>-24.518575572641</dd>\n",
       "\t<dt>subject82</dt>\n",
       "\t\t<dd>-24.6928674683166</dd>\n",
       "\t<dt>subject83</dt>\n",
       "\t\t<dd>-24.8482687391471</dd>\n",
       "\t<dt>subject84</dt>\n",
       "\t\t<dd>-24.9847793851325</dd>\n",
       "\t<dt>subject85</dt>\n",
       "\t\t<dd>-25.1023994062728</dd>\n",
       "\t<dt>subject86</dt>\n",
       "\t\t<dd>-25.201128802568</dd>\n",
       "\t<dt>subject87</dt>\n",
       "\t\t<dd>-25.280967574018</dd>\n",
       "\t<dt>subject88</dt>\n",
       "\t\t<dd>-25.3419157206229</dd>\n",
       "\t<dt>subject89</dt>\n",
       "\t\t<dd>-25.3839732423827</dd>\n",
       "\t<dt>subject90</dt>\n",
       "\t\t<dd>-25.4071401392974</dd>\n",
       "\t<dt>subject91</dt>\n",
       "\t\t<dd>-25.4114164113669</dd>\n",
       "</dl>\n"
      ],
      "text/latex": [
       "\\begin{description*}\n",
       "\\item[(Intercept)] 26.5574340449294\n",
       "\\item[delta.age] 1.27288323972857\n",
       "\\item[subject1] 50.6304005796041\n",
       "\\item[subject2] 48.9448586963188\n",
       "\\item[subject3] 47.2782074378785\n",
       "\\item[subject4] 45.6304468042834\n",
       "\\item[subject5] 44.0015767955334\n",
       "\\item[subject6] 42.3915974116285\n",
       "\\item[subject7] 40.8005086525688\n",
       "\\item[subject8] 39.2283105183542\n",
       "\\item[subject9] 37.6750030089846\n",
       "\\item[subject10] 36.1405861244602\n",
       "\\item[subject11] 34.625059864781\n",
       "\\item[subject12] 33.1284242299468\n",
       "\\item[subject13] 31.6506792199578\n",
       "\\item[subject14] 30.1918248348139\n",
       "\\item[subject15] 28.7518610745151\n",
       "\\item[subject16] 27.3307879390615\n",
       "\\item[subject17] 25.9286054284529\n",
       "\\item[subject18] 24.5453135426895\n",
       "\\item[subject19] 23.1809122817712\n",
       "\\item[subject20] 21.835401645698\n",
       "\\item[subject21] 20.50878163447\n",
       "\\item[subject22] 19.201052248087\n",
       "\\item[subject23] 17.9122134865492\n",
       "\\item[subject24] 16.6422653498565\n",
       "\\item[subject25] 15.3912078380089\n",
       "\\item[subject26] 14.1590409510065\n",
       "\\item[subject27] 12.9457646888492\n",
       "\\item[subject28] 11.751379051537\n",
       "\\item[subject29] 10.5758840390699\n",
       "\\item[subject30] 9.41927965144794\n",
       "\\item[subject31] 8.2815658886711\n",
       "\\item[subject32] 7.16274275073939\n",
       "\\item[subject33] 6.06281023765279\n",
       "\\item[subject34] 4.98176834941131\n",
       "\\item[subject35] 3.91961708601496\n",
       "\\item[subject36] 2.87635644746372\n",
       "\\item[subject37] 1.85198643375762\n",
       "\\item[subject38] 0.846507044896624\n",
       "\\item[subject39] -0.140081719119262\n",
       "\\item[subject40] -1.10777985829\n",
       "\\item[subject41] -2.05658737261562\n",
       "\\item[subject42] -2.98650426209614\n",
       "\\item[subject43] -3.8975305267315\n",
       "\\item[subject44] -4.78966616652176\n",
       "\\item[subject45] -5.66291118146691\n",
       "\\item[subject46] -6.51726557156693\n",
       "\\item[subject47] -7.35272933682182\n",
       "\\item[subject48] -8.16930247723159\n",
       "\\item[subject49] -8.96698499279625\n",
       "\\item[subject50] -9.74577688351577\n",
       "\\item[subject51] -10.5056781493902\n",
       "\\item[subject52] -11.2466887904195\n",
       "\\item[subject53] -11.9688088066036\n",
       "\\item[subject54] -12.6720381979427\n",
       "\\item[subject55] -13.3563769644366\n",
       "\\item[subject56] -14.0218251060854\n",
       "\\item[subject57] -14.6683826228891\n",
       "\\item[subject58] -15.2960495148476\n",
       "\\item[subject59] -15.9048257819611\n",
       "\\item[subject60] -16.4947114242294\n",
       "\\item[subject61] -17.0657064416526\n",
       "\\item[subject62] -17.6178108342307\n",
       "\\item[subject63] -18.1510246019636\n",
       "\\item[subject64] -18.6653477448514\n",
       "\\item[subject65] -19.1607802628942\n",
       "\\item[subject66] -19.6373221560917\n",
       "\\item[subject67] -20.0949734244442\n",
       "\\item[subject68] -20.5337340679516\n",
       "\\item[subject69] -20.9536040866138\n",
       "\\item[subject70] -21.3545834804309\n",
       "\\item[subject71] -21.7366722494029\n",
       "\\item[subject72] -22.0998703935297\n",
       "\\item[subject73] -22.4441779128114\n",
       "\\item[subject74] -22.7695948072481\n",
       "\\item[subject75] -23.0761210768396\n",
       "\\item[subject76] -23.3637567215859\n",
       "\\item[subject77] -23.6325017414872\n",
       "\\item[subject78] -23.8823561365433\n",
       "\\item[subject79] -24.1133199067543\n",
       "\\item[subject80] -24.3253930521202\n",
       "\\item[subject81] -24.518575572641\n",
       "\\item[subject82] -24.6928674683166\n",
       "\\item[subject83] -24.8482687391471\n",
       "\\item[subject84] -24.9847793851325\n",
       "\\item[subject85] -25.1023994062728\n",
       "\\item[subject86] -25.201128802568\n",
       "\\item[subject87] -25.280967574018\n",
       "\\item[subject88] -25.3419157206229\n",
       "\\item[subject89] -25.3839732423827\n",
       "\\item[subject90] -25.4071401392974\n",
       "\\item[subject91] -25.4114164113669\n",
       "\\end{description*}\n"
      ],
      "text/markdown": [
       "(Intercept)\n",
       ":   26.5574340449294delta.age\n",
       ":   1.27288323972857subject1\n",
       ":   50.6304005796041subject2\n",
       ":   48.9448586963188subject3\n",
       ":   47.2782074378785subject4\n",
       ":   45.6304468042834subject5\n",
       ":   44.0015767955334subject6\n",
       ":   42.3915974116285subject7\n",
       ":   40.8005086525688subject8\n",
       ":   39.2283105183542subject9\n",
       ":   37.6750030089846subject10\n",
       ":   36.1405861244602subject11\n",
       ":   34.625059864781subject12\n",
       ":   33.1284242299468subject13\n",
       ":   31.6506792199578subject14\n",
       ":   30.1918248348139subject15\n",
       ":   28.7518610745151subject16\n",
       ":   27.3307879390615subject17\n",
       ":   25.9286054284529subject18\n",
       ":   24.5453135426895subject19\n",
       ":   23.1809122817712subject20\n",
       ":   21.835401645698subject21\n",
       ":   20.50878163447subject22\n",
       ":   19.201052248087subject23\n",
       ":   17.9122134865492subject24\n",
       ":   16.6422653498565subject25\n",
       ":   15.3912078380089subject26\n",
       ":   14.1590409510065subject27\n",
       ":   12.9457646888492subject28\n",
       ":   11.751379051537subject29\n",
       ":   10.5758840390699subject30\n",
       ":   9.41927965144794subject31\n",
       ":   8.2815658886711subject32\n",
       ":   7.16274275073939subject33\n",
       ":   6.06281023765279subject34\n",
       ":   4.98176834941131subject35\n",
       ":   3.91961708601496subject36\n",
       ":   2.87635644746372subject37\n",
       ":   1.85198643375762subject38\n",
       ":   0.846507044896624subject39\n",
       ":   -0.140081719119262subject40\n",
       ":   -1.10777985829subject41\n",
       ":   -2.05658737261562subject42\n",
       ":   -2.98650426209614subject43\n",
       ":   -3.8975305267315subject44\n",
       ":   -4.78966616652176subject45\n",
       ":   -5.66291118146691subject46\n",
       ":   -6.51726557156693subject47\n",
       ":   -7.35272933682182subject48\n",
       ":   -8.16930247723159subject49\n",
       ":   -8.96698499279625subject50\n",
       ":   -9.74577688351577subject51\n",
       ":   -10.5056781493902subject52\n",
       ":   -11.2466887904195subject53\n",
       ":   -11.9688088066036subject54\n",
       ":   -12.6720381979427subject55\n",
       ":   -13.3563769644366subject56\n",
       ":   -14.0218251060854subject57\n",
       ":   -14.6683826228891subject58\n",
       ":   -15.2960495148476subject59\n",
       ":   -15.9048257819611subject60\n",
       ":   -16.4947114242294subject61\n",
       ":   -17.0657064416526subject62\n",
       ":   -17.6178108342307subject63\n",
       ":   -18.1510246019636subject64\n",
       ":   -18.6653477448514subject65\n",
       ":   -19.1607802628942subject66\n",
       ":   -19.6373221560917subject67\n",
       ":   -20.0949734244442subject68\n",
       ":   -20.5337340679516subject69\n",
       ":   -20.9536040866138subject70\n",
       ":   -21.3545834804309subject71\n",
       ":   -21.7366722494029subject72\n",
       ":   -22.0998703935297subject73\n",
       ":   -22.4441779128114subject74\n",
       ":   -22.7695948072481subject75\n",
       ":   -23.0761210768396subject76\n",
       ":   -23.3637567215859subject77\n",
       ":   -23.6325017414872subject78\n",
       ":   -23.8823561365433subject79\n",
       ":   -24.1133199067543subject80\n",
       ":   -24.3253930521202subject81\n",
       ":   -24.518575572641subject82\n",
       ":   -24.6928674683166subject83\n",
       ":   -24.8482687391471subject84\n",
       ":   -24.9847793851325subject85\n",
       ":   -25.1023994062728subject86\n",
       ":   -25.201128802568subject87\n",
       ":   -25.280967574018subject88\n",
       ":   -25.3419157206229subject89\n",
       ":   -25.3839732423827subject90\n",
       ":   -25.4071401392974subject91\n",
       ":   -25.4114164113669\n",
       "\n"
      ],
      "text/plain": [
       "(Intercept)   delta.age    subject1    subject2    subject3    subject4 \n",
       " 26.5574340   1.2728832  50.6304006  48.9448587  47.2782074  45.6304468 \n",
       "   subject5    subject6    subject7    subject8    subject9   subject10 \n",
       " 44.0015768  42.3915974  40.8005087  39.2283105  37.6750030  36.1405861 \n",
       "  subject11   subject12   subject13   subject14   subject15   subject16 \n",
       " 34.6250599  33.1284242  31.6506792  30.1918248  28.7518611  27.3307879 \n",
       "  subject17   subject18   subject19   subject20   subject21   subject22 \n",
       " 25.9286054  24.5453135  23.1809123  21.8354016  20.5087816  19.2010522 \n",
       "  subject23   subject24   subject25   subject26   subject27   subject28 \n",
       " 17.9122135  16.6422653  15.3912078  14.1590410  12.9457647  11.7513791 \n",
       "  subject29   subject30   subject31   subject32   subject33   subject34 \n",
       " 10.5758840   9.4192797   8.2815659   7.1627428   6.0628102   4.9817683 \n",
       "  subject35   subject36   subject37   subject38   subject39   subject40 \n",
       "  3.9196171   2.8763564   1.8519864   0.8465070  -0.1400817  -1.1077799 \n",
       "  subject41   subject42   subject43   subject44   subject45   subject46 \n",
       " -2.0565874  -2.9865043  -3.8975305  -4.7896662  -5.6629112  -6.5172656 \n",
       "  subject47   subject48   subject49   subject50   subject51   subject52 \n",
       " -7.3527293  -8.1693025  -8.9669850  -9.7457769 -10.5056781 -11.2466888 \n",
       "  subject53   subject54   subject55   subject56   subject57   subject58 \n",
       "-11.9688088 -12.6720382 -13.3563770 -14.0218251 -14.6683826 -15.2960495 \n",
       "  subject59   subject60   subject61   subject62   subject63   subject64 \n",
       "-15.9048258 -16.4947114 -17.0657064 -17.6178108 -18.1510246 -18.6653477 \n",
       "  subject65   subject66   subject67   subject68   subject69   subject70 \n",
       "-19.1607803 -19.6373222 -20.0949734 -20.5337341 -20.9536041 -21.3545835 \n",
       "  subject71   subject72   subject73   subject74   subject75   subject76 \n",
       "-21.7366722 -22.0998704 -22.4441779 -22.7695948 -23.0761211 -23.3637567 \n",
       "  subject77   subject78   subject79   subject80   subject81   subject82 \n",
       "-23.6325017 -23.8823561 -24.1133199 -24.3253931 -24.5185756 -24.6928675 \n",
       "  subject83   subject84   subject85   subject86   subject87   subject88 \n",
       "-24.8482687 -24.9847794 -25.1023994 -25.2011288 -25.2809676 -25.3419157 \n",
       "  subject89   subject90   subject91 \n",
       "-25.3839732 -25.4071401 -25.4114164 "
      ]
     },
     "metadata": {},
     "output_type": "display_data"
    }
   ],
   "source": [
    "expect.beta.hat.penalized(100)"
   ]
  },
  {
   "cell_type": "code",
   "execution_count": 138,
   "metadata": {},
   "outputs": [
    {
     "name": "stdout",
     "output_type": "stream",
     "text": [
      "\n"
     ]
    },
    {
     "data": {
      "text/html": [
       "<dl class=dl-horizontal>\n",
       "\t<dt>(Intercept)</dt>\n",
       "\t\t<dd>23.3265967541805</dd>\n",
       "\t<dt>delta.age</dt>\n",
       "\t\t<dd>2.76071989215725</dd>\n",
       "\t<dt>subject1</dt>\n",
       "\t\t<dd>32.9300214888431</dd>\n",
       "\t<dt>subject2</dt>\n",
       "\t\t<dd>31.824207630188</dd>\n",
       "\t<dt>subject3</dt>\n",
       "\t\t<dd>30.7310017132188</dd>\n",
       "\t<dt>subject4</dt>\n",
       "\t\t<dd>29.6504037379355</dd>\n",
       "\t<dt>subject5</dt>\n",
       "\t\t<dd>28.582413704338</dd>\n",
       "\t<dt>subject6</dt>\n",
       "\t\t<dd>27.5270316124264</dd>\n",
       "\t<dt>subject7</dt>\n",
       "\t\t<dd>26.4842574622007</dd>\n",
       "\t<dt>subject8</dt>\n",
       "\t\t<dd>25.4540912536609</dd>\n",
       "\t<dt>subject9</dt>\n",
       "\t\t<dd>24.4365329868069</dd>\n",
       "\t<dt>subject10</dt>\n",
       "\t\t<dd>23.4315826616388</dd>\n",
       "\t<dt>subject11</dt>\n",
       "\t\t<dd>22.4392402781565</dd>\n",
       "\t<dt>subject12</dt>\n",
       "\t\t<dd>21.4595058363601</dd>\n",
       "\t<dt>subject13</dt>\n",
       "\t\t<dd>20.4923793362497</dd>\n",
       "\t<dt>subject14</dt>\n",
       "\t\t<dd>19.537860777825</dd>\n",
       "\t<dt>subject15</dt>\n",
       "\t\t<dd>18.5959501610862</dd>\n",
       "\t<dt>subject16</dt>\n",
       "\t\t<dd>17.6666474860333</dd>\n",
       "\t<dt>subject17</dt>\n",
       "\t\t<dd>16.7499527526663</dd>\n",
       "\t<dt>subject18</dt>\n",
       "\t\t<dd>15.8458659609851</dd>\n",
       "\t<dt>subject19</dt>\n",
       "\t\t<dd>14.9543871109898</dd>\n",
       "\t<dt>subject20</dt>\n",
       "\t\t<dd>14.0755162026804</dd>\n",
       "\t<dt>subject21</dt>\n",
       "\t\t<dd>13.2092532360569</dd>\n",
       "\t<dt>subject22</dt>\n",
       "\t\t<dd>12.3555982111192</dd>\n",
       "\t<dt>subject23</dt>\n",
       "\t\t<dd>11.5145511278674</dd>\n",
       "\t<dt>subject24</dt>\n",
       "\t\t<dd>10.6861119863014</dd>\n",
       "\t<dt>subject25</dt>\n",
       "\t\t<dd>9.87028078642131</dd>\n",
       "\t<dt>subject26</dt>\n",
       "\t\t<dd>9.06705752822712</dd>\n",
       "\t<dt>subject27</dt>\n",
       "\t\t<dd>8.27644221171877</dd>\n",
       "\t<dt>subject28</dt>\n",
       "\t\t<dd>7.49843483689629</dd>\n",
       "\t<dt>subject29</dt>\n",
       "\t\t<dd>6.73303540375967</dd>\n",
       "\t<dt>subject30</dt>\n",
       "\t\t<dd>5.98024391230894</dd>\n",
       "\t<dt>subject31</dt>\n",
       "\t\t<dd>5.24006036254408</dd>\n",
       "\t<dt>subject32</dt>\n",
       "\t\t<dd>4.51248475446508</dd>\n",
       "\t<dt>subject33</dt>\n",
       "\t\t<dd>3.79751708807194</dd>\n",
       "\t<dt>subject34</dt>\n",
       "\t\t<dd>3.09515736336467</dd>\n",
       "\t<dt>subject35</dt>\n",
       "\t\t<dd>2.40540558034328</dd>\n",
       "\t<dt>subject36</dt>\n",
       "\t\t<dd>1.72826173900776</dd>\n",
       "\t<dt>subject37</dt>\n",
       "\t\t<dd>1.06372583935811</dd>\n",
       "\t<dt>subject38</dt>\n",
       "\t\t<dd>0.411797881394306</dd>\n",
       "\t<dt>subject39</dt>\n",
       "\t\t<dd>-0.227522134883613</dd>\n",
       "\t<dt>subject40</dt>\n",
       "\t\t<dd>-0.854234209475662</dd>\n",
       "\t<dt>subject41</dt>\n",
       "\t\t<dd>-1.46833834238185</dd>\n",
       "\t<dt>subject42</dt>\n",
       "\t\t<dd>-2.06983453360215</dd>\n",
       "\t<dt>subject43</dt>\n",
       "\t\t<dd>-2.6587227831366</dd>\n",
       "\t<dt>subject44</dt>\n",
       "\t\t<dd>-3.23500309098518</dd>\n",
       "\t<dt>subject45</dt>\n",
       "\t\t<dd>-3.79867545714788</dd>\n",
       "\t<dt>subject46</dt>\n",
       "\t\t<dd>-4.34973988162473</dd>\n",
       "\t<dt>subject47</dt>\n",
       "\t\t<dd>-4.88819636441569</dd>\n",
       "\t<dt>subject48</dt>\n",
       "\t\t<dd>-5.41404490552079</dd>\n",
       "\t<dt>subject49</dt>\n",
       "\t\t<dd>-5.92728550494003</dd>\n",
       "\t<dt>subject50</dt>\n",
       "\t\t<dd>-6.42791816267338</dd>\n",
       "\t<dt>subject51</dt>\n",
       "\t\t<dd>-6.91594287872088</dd>\n",
       "\t<dt>subject52</dt>\n",
       "\t\t<dd>-7.39135965308251</dd>\n",
       "\t<dt>subject53</dt>\n",
       "\t\t<dd>-7.85416848575826</dd>\n",
       "\t<dt>subject54</dt>\n",
       "\t\t<dd>-8.30436937674815</dd>\n",
       "\t<dt>subject55</dt>\n",
       "\t\t<dd>-8.74196232605217</dd>\n",
       "\t<dt>subject56</dt>\n",
       "\t\t<dd>-9.16694733367032</dd>\n",
       "\t<dt>subject57</dt>\n",
       "\t\t<dd>-9.5793243996026</dd>\n",
       "\t<dt>subject58</dt>\n",
       "\t\t<dd>-9.97909352384902</dd>\n",
       "\t<dt>subject59</dt>\n",
       "\t\t<dd>-10.3662547064096</dd>\n",
       "\t<dt>subject60</dt>\n",
       "\t\t<dd>-10.7408079472842</dd>\n",
       "\t<dt>subject61</dt>\n",
       "\t\t<dd>-11.102753246473</dd>\n",
       "\t<dt>subject62</dt>\n",
       "\t\t<dd>-11.452090603976</dd>\n",
       "\t<dt>subject63</dt>\n",
       "\t\t<dd>-11.7888200197931</dd>\n",
       "\t<dt>subject64</dt>\n",
       "\t\t<dd>-12.1129414939243</dd>\n",
       "\t<dt>subject65</dt>\n",
       "\t\t<dd>-12.4244550263696</dd>\n",
       "\t<dt>subject66</dt>\n",
       "\t\t<dd>-12.723360617129</dd>\n",
       "\t<dt>subject67</dt>\n",
       "\t\t<dd>-13.0096582662026</dd>\n",
       "\t<dt>subject68</dt>\n",
       "\t\t<dd>-13.2833479735904</dd>\n",
       "\t<dt>subject69</dt>\n",
       "\t\t<dd>-13.5444297392922</dd>\n",
       "\t<dt>subject70</dt>\n",
       "\t\t<dd>-13.7929035633082</dd>\n",
       "\t<dt>subject71</dt>\n",
       "\t\t<dd>-14.0287694456383</dd>\n",
       "\t<dt>subject72</dt>\n",
       "\t\t<dd>-14.2520273862826</dd>\n",
       "\t<dt>subject73</dt>\n",
       "\t\t<dd>-14.462677385241</dd>\n",
       "\t<dt>subject74</dt>\n",
       "\t\t<dd>-14.6607194425135</dd>\n",
       "\t<dt>subject75</dt>\n",
       "\t\t<dd>-14.8461535581001</dd>\n",
       "\t<dt>subject76</dt>\n",
       "\t\t<dd>-15.0189797320009</dd>\n",
       "\t<dt>subject77</dt>\n",
       "\t\t<dd>-15.1791979642158</dd>\n",
       "\t<dt>subject78</dt>\n",
       "\t\t<dd>-15.3268082547448</dd>\n",
       "\t<dt>subject79</dt>\n",
       "\t\t<dd>-15.461810603588</dd>\n",
       "\t<dt>subject80</dt>\n",
       "\t\t<dd>-15.5842050107453</dd>\n",
       "\t<dt>subject81</dt>\n",
       "\t\t<dd>-15.6939914762168</dd>\n",
       "\t<dt>subject82</dt>\n",
       "\t\t<dd>-15.7911700000023</dd>\n",
       "\t<dt>subject83</dt>\n",
       "\t\t<dd>-15.875740582102</dd>\n",
       "\t<dt>subject84</dt>\n",
       "\t\t<dd>-15.9477032225158</dd>\n",
       "\t<dt>subject85</dt>\n",
       "\t\t<dd>-16.0070579212438</dd>\n",
       "\t<dt>subject86</dt>\n",
       "\t\t<dd>-16.0538046782859</dd>\n",
       "\t<dt>subject87</dt>\n",
       "\t\t<dd>-16.0879434936421</dd>\n",
       "\t<dt>subject88</dt>\n",
       "\t\t<dd>-16.1094743673124</dd>\n",
       "\t<dt>subject89</dt>\n",
       "\t\t<dd>-16.1183972992969</dd>\n",
       "\t<dt>subject90</dt>\n",
       "\t\t<dd>-16.1147122895955</dd>\n",
       "\t<dt>subject91</dt>\n",
       "\t\t<dd>-16.0984193382083</dd>\n",
       "</dl>\n"
      ],
      "text/latex": [
       "\\begin{description*}\n",
       "\\item[(Intercept)] 23.3265967541805\n",
       "\\item[delta.age] 2.76071989215725\n",
       "\\item[subject1] 32.9300214888431\n",
       "\\item[subject2] 31.824207630188\n",
       "\\item[subject3] 30.7310017132188\n",
       "\\item[subject4] 29.6504037379355\n",
       "\\item[subject5] 28.582413704338\n",
       "\\item[subject6] 27.5270316124264\n",
       "\\item[subject7] 26.4842574622007\n",
       "\\item[subject8] 25.4540912536609\n",
       "\\item[subject9] 24.4365329868069\n",
       "\\item[subject10] 23.4315826616388\n",
       "\\item[subject11] 22.4392402781565\n",
       "\\item[subject12] 21.4595058363601\n",
       "\\item[subject13] 20.4923793362497\n",
       "\\item[subject14] 19.537860777825\n",
       "\\item[subject15] 18.5959501610862\n",
       "\\item[subject16] 17.6666474860333\n",
       "\\item[subject17] 16.7499527526663\n",
       "\\item[subject18] 15.8458659609851\n",
       "\\item[subject19] 14.9543871109898\n",
       "\\item[subject20] 14.0755162026804\n",
       "\\item[subject21] 13.2092532360569\n",
       "\\item[subject22] 12.3555982111192\n",
       "\\item[subject23] 11.5145511278674\n",
       "\\item[subject24] 10.6861119863014\n",
       "\\item[subject25] 9.87028078642131\n",
       "\\item[subject26] 9.06705752822712\n",
       "\\item[subject27] 8.27644221171877\n",
       "\\item[subject28] 7.49843483689629\n",
       "\\item[subject29] 6.73303540375967\n",
       "\\item[subject30] 5.98024391230894\n",
       "\\item[subject31] 5.24006036254408\n",
       "\\item[subject32] 4.51248475446508\n",
       "\\item[subject33] 3.79751708807194\n",
       "\\item[subject34] 3.09515736336467\n",
       "\\item[subject35] 2.40540558034328\n",
       "\\item[subject36] 1.72826173900776\n",
       "\\item[subject37] 1.06372583935811\n",
       "\\item[subject38] 0.411797881394306\n",
       "\\item[subject39] -0.227522134883613\n",
       "\\item[subject40] -0.854234209475662\n",
       "\\item[subject41] -1.46833834238185\n",
       "\\item[subject42] -2.06983453360215\n",
       "\\item[subject43] -2.6587227831366\n",
       "\\item[subject44] -3.23500309098518\n",
       "\\item[subject45] -3.79867545714788\n",
       "\\item[subject46] -4.34973988162473\n",
       "\\item[subject47] -4.88819636441569\n",
       "\\item[subject48] -5.41404490552079\n",
       "\\item[subject49] -5.92728550494003\n",
       "\\item[subject50] -6.42791816267338\n",
       "\\item[subject51] -6.91594287872088\n",
       "\\item[subject52] -7.39135965308251\n",
       "\\item[subject53] -7.85416848575826\n",
       "\\item[subject54] -8.30436937674815\n",
       "\\item[subject55] -8.74196232605217\n",
       "\\item[subject56] -9.16694733367032\n",
       "\\item[subject57] -9.5793243996026\n",
       "\\item[subject58] -9.97909352384902\n",
       "\\item[subject59] -10.3662547064096\n",
       "\\item[subject60] -10.7408079472842\n",
       "\\item[subject61] -11.102753246473\n",
       "\\item[subject62] -11.452090603976\n",
       "\\item[subject63] -11.7888200197931\n",
       "\\item[subject64] -12.1129414939243\n",
       "\\item[subject65] -12.4244550263696\n",
       "\\item[subject66] -12.723360617129\n",
       "\\item[subject67] -13.0096582662026\n",
       "\\item[subject68] -13.2833479735904\n",
       "\\item[subject69] -13.5444297392922\n",
       "\\item[subject70] -13.7929035633082\n",
       "\\item[subject71] -14.0287694456383\n",
       "\\item[subject72] -14.2520273862826\n",
       "\\item[subject73] -14.462677385241\n",
       "\\item[subject74] -14.6607194425135\n",
       "\\item[subject75] -14.8461535581001\n",
       "\\item[subject76] -15.0189797320009\n",
       "\\item[subject77] -15.1791979642158\n",
       "\\item[subject78] -15.3268082547448\n",
       "\\item[subject79] -15.461810603588\n",
       "\\item[subject80] -15.5842050107453\n",
       "\\item[subject81] -15.6939914762168\n",
       "\\item[subject82] -15.7911700000023\n",
       "\\item[subject83] -15.875740582102\n",
       "\\item[subject84] -15.9477032225158\n",
       "\\item[subject85] -16.0070579212438\n",
       "\\item[subject86] -16.0538046782859\n",
       "\\item[subject87] -16.0879434936421\n",
       "\\item[subject88] -16.1094743673124\n",
       "\\item[subject89] -16.1183972992969\n",
       "\\item[subject90] -16.1147122895955\n",
       "\\item[subject91] -16.0984193382083\n",
       "\\end{description*}\n"
      ],
      "text/markdown": [
       "(Intercept)\n",
       ":   23.3265967541805delta.age\n",
       ":   2.76071989215725subject1\n",
       ":   32.9300214888431subject2\n",
       ":   31.824207630188subject3\n",
       ":   30.7310017132188subject4\n",
       ":   29.6504037379355subject5\n",
       ":   28.582413704338subject6\n",
       ":   27.5270316124264subject7\n",
       ":   26.4842574622007subject8\n",
       ":   25.4540912536609subject9\n",
       ":   24.4365329868069subject10\n",
       ":   23.4315826616388subject11\n",
       ":   22.4392402781565subject12\n",
       ":   21.4595058363601subject13\n",
       ":   20.4923793362497subject14\n",
       ":   19.537860777825subject15\n",
       ":   18.5959501610862subject16\n",
       ":   17.6666474860333subject17\n",
       ":   16.7499527526663subject18\n",
       ":   15.8458659609851subject19\n",
       ":   14.9543871109898subject20\n",
       ":   14.0755162026804subject21\n",
       ":   13.2092532360569subject22\n",
       ":   12.3555982111192subject23\n",
       ":   11.5145511278674subject24\n",
       ":   10.6861119863014subject25\n",
       ":   9.87028078642131subject26\n",
       ":   9.06705752822712subject27\n",
       ":   8.27644221171877subject28\n",
       ":   7.49843483689629subject29\n",
       ":   6.73303540375967subject30\n",
       ":   5.98024391230894subject31\n",
       ":   5.24006036254408subject32\n",
       ":   4.51248475446508subject33\n",
       ":   3.79751708807194subject34\n",
       ":   3.09515736336467subject35\n",
       ":   2.40540558034328subject36\n",
       ":   1.72826173900776subject37\n",
       ":   1.06372583935811subject38\n",
       ":   0.411797881394306subject39\n",
       ":   -0.227522134883613subject40\n",
       ":   -0.854234209475662subject41\n",
       ":   -1.46833834238185subject42\n",
       ":   -2.06983453360215subject43\n",
       ":   -2.6587227831366subject44\n",
       ":   -3.23500309098518subject45\n",
       ":   -3.79867545714788subject46\n",
       ":   -4.34973988162473subject47\n",
       ":   -4.88819636441569subject48\n",
       ":   -5.41404490552079subject49\n",
       ":   -5.92728550494003subject50\n",
       ":   -6.42791816267338subject51\n",
       ":   -6.91594287872088subject52\n",
       ":   -7.39135965308251subject53\n",
       ":   -7.85416848575826subject54\n",
       ":   -8.30436937674815subject55\n",
       ":   -8.74196232605217subject56\n",
       ":   -9.16694733367032subject57\n",
       ":   -9.5793243996026subject58\n",
       ":   -9.97909352384902subject59\n",
       ":   -10.3662547064096subject60\n",
       ":   -10.7408079472842subject61\n",
       ":   -11.102753246473subject62\n",
       ":   -11.452090603976subject63\n",
       ":   -11.7888200197931subject64\n",
       ":   -12.1129414939243subject65\n",
       ":   -12.4244550263696subject66\n",
       ":   -12.723360617129subject67\n",
       ":   -13.0096582662026subject68\n",
       ":   -13.2833479735904subject69\n",
       ":   -13.5444297392922subject70\n",
       ":   -13.7929035633082subject71\n",
       ":   -14.0287694456383subject72\n",
       ":   -14.2520273862826subject73\n",
       ":   -14.462677385241subject74\n",
       ":   -14.6607194425135subject75\n",
       ":   -14.8461535581001subject76\n",
       ":   -15.0189797320009subject77\n",
       ":   -15.1791979642158subject78\n",
       ":   -15.3268082547448subject79\n",
       ":   -15.461810603588subject80\n",
       ":   -15.5842050107453subject81\n",
       ":   -15.6939914762168subject82\n",
       ":   -15.7911700000023subject83\n",
       ":   -15.875740582102subject84\n",
       ":   -15.9477032225158subject85\n",
       ":   -16.0070579212438subject86\n",
       ":   -16.0538046782859subject87\n",
       ":   -16.0879434936421subject88\n",
       ":   -16.1094743673124subject89\n",
       ":   -16.1183972992969subject90\n",
       ":   -16.1147122895955subject91\n",
       ":   -16.0984193382083\n",
       "\n"
      ],
      "text/plain": [
       "(Intercept)   delta.age    subject1    subject2    subject3    subject4 \n",
       " 23.3265968   2.7607199  32.9300215  31.8242076  30.7310017  29.6504037 \n",
       "   subject5    subject6    subject7    subject8    subject9   subject10 \n",
       " 28.5824137  27.5270316  26.4842575  25.4540913  24.4365330  23.4315827 \n",
       "  subject11   subject12   subject13   subject14   subject15   subject16 \n",
       " 22.4392403  21.4595058  20.4923793  19.5378608  18.5959502  17.6666475 \n",
       "  subject17   subject18   subject19   subject20   subject21   subject22 \n",
       " 16.7499528  15.8458660  14.9543871  14.0755162  13.2092532  12.3555982 \n",
       "  subject23   subject24   subject25   subject26   subject27   subject28 \n",
       " 11.5145511  10.6861120   9.8702808   9.0670575   8.2764422   7.4984348 \n",
       "  subject29   subject30   subject31   subject32   subject33   subject34 \n",
       "  6.7330354   5.9802439   5.2400604   4.5124848   3.7975171   3.0951574 \n",
       "  subject35   subject36   subject37   subject38   subject39   subject40 \n",
       "  2.4054056   1.7282617   1.0637258   0.4117979  -0.2275221  -0.8542342 \n",
       "  subject41   subject42   subject43   subject44   subject45   subject46 \n",
       " -1.4683383  -2.0698345  -2.6587228  -3.2350031  -3.7986755  -4.3497399 \n",
       "  subject47   subject48   subject49   subject50   subject51   subject52 \n",
       " -4.8881964  -5.4140449  -5.9272855  -6.4279182  -6.9159429  -7.3913597 \n",
       "  subject53   subject54   subject55   subject56   subject57   subject58 \n",
       " -7.8541685  -8.3043694  -8.7419623  -9.1669473  -9.5793244  -9.9790935 \n",
       "  subject59   subject60   subject61   subject62   subject63   subject64 \n",
       "-10.3662547 -10.7408079 -11.1027532 -11.4520906 -11.7888200 -12.1129415 \n",
       "  subject65   subject66   subject67   subject68   subject69   subject70 \n",
       "-12.4244550 -12.7233606 -13.0096583 -13.2833480 -13.5444297 -13.7929036 \n",
       "  subject71   subject72   subject73   subject74   subject75   subject76 \n",
       "-14.0287694 -14.2520274 -14.4626774 -14.6607194 -14.8461536 -15.0189797 \n",
       "  subject77   subject78   subject79   subject80   subject81   subject82 \n",
       "-15.1791980 -15.3268083 -15.4618106 -15.5842050 -15.6939915 -15.7911700 \n",
       "  subject83   subject84   subject85   subject86   subject87   subject88 \n",
       "-15.8757406 -15.9477032 -16.0070579 -16.0538047 -16.0879435 -16.1094744 \n",
       "  subject89   subject90   subject91 \n",
       "-16.1183973 -16.1147123 -16.0984193 "
      ]
     },
     "metadata": {},
     "output_type": "display_data"
    }
   ],
   "source": [
    "expect.beta.hat.penalized(1000)"
   ]
  }
 ],
 "metadata": {
  "kernelspec": {
   "display_name": "R",
   "language": "R",
   "name": "ir"
  },
  "language_info": {
   "codemirror_mode": "r",
   "file_extension": ".r",
   "mimetype": "text/x-r-source",
   "name": "R",
   "pygments_lexer": "r",
   "version": "3.5.2"
  }
 },
 "nbformat": 4,
 "nbformat_minor": 2
}
