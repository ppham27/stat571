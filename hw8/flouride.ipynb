{
 "cells": [
  {
   "cell_type": "markdown",
   "metadata": {},
   "source": [
    "# GEE and GLMM; interpretation of marginal parameters in logistic regression models; missing data\n",
    "\n",
    "We'll fit models with general estimating equations (`gee`) and general linear mixed models (`lme4`)."
   ]
  },
  {
   "cell_type": "code",
   "execution_count": 1,
   "metadata": {},
   "outputs": [
    {
     "name": "stderr",
     "output_type": "stream",
     "text": [
      "Loading required package: Matrix\n"
     ]
    }
   ],
   "source": [
    "library(data.table)\n",
    "library(gee)\n",
    "library(lme4)\n",
    "library(tools)\n",
    "library(xtable)"
   ]
  },
  {
   "cell_type": "markdown",
   "metadata": {},
   "source": [
    "## Fluoride Data"
   ]
  },
  {
   "cell_type": "code",
   "execution_count": 2,
   "metadata": {},
   "outputs": [
    {
     "data": {
      "text/html": [
       "<table>\n",
       "<thead><tr><th scope=col>id</th><th scope=col>age</th><th scope=col>income</th><th scope=col>fluoride</th><th scope=col>fl</th></tr></thead>\n",
       "<tbody>\n",
       "\t<tr><td>2         </td><td>3.0       </td><td>1         </td><td>0.00000000</td><td>FALSE     </td></tr>\n",
       "\t<tr><td>2         </td><td>6.0       </td><td>1         </td><td>0.05063998</td><td> TRUE     </td></tr>\n",
       "\t<tr><td>2         </td><td>9.0       </td><td>1         </td><td>0.04779446</td><td>FALSE     </td></tr>\n",
       "\t<tr><td>3         </td><td>1.5       </td><td>0         </td><td>0.11742604</td><td> TRUE     </td></tr>\n",
       "\t<tr><td>3         </td><td>3.0       </td><td>0         </td><td>0.08832044</td><td> TRUE     </td></tr>\n",
       "\t<tr><td>3         </td><td>6.0       </td><td>0         </td><td>0.06216184</td><td> TRUE     </td></tr>\n",
       "</tbody>\n",
       "</table>\n"
      ],
      "text/latex": [
       "\\begin{tabular}{r|lllll}\n",
       " id & age & income & fluoride & fl\\\\\n",
       "\\hline\n",
       "\t 2          & 3.0        & 1          & 0.00000000 & FALSE     \\\\\n",
       "\t 2          & 6.0        & 1          & 0.05063998 &  TRUE     \\\\\n",
       "\t 2          & 9.0        & 1          & 0.04779446 & FALSE     \\\\\n",
       "\t 3          & 1.5        & 0          & 0.11742604 &  TRUE     \\\\\n",
       "\t 3          & 3.0        & 0          & 0.08832044 &  TRUE     \\\\\n",
       "\t 3          & 6.0        & 0          & 0.06216184 &  TRUE     \\\\\n",
       "\\end{tabular}\n"
      ],
      "text/markdown": [
       "\n",
       "| id | age | income | fluoride | fl |\n",
       "|---|---|---|---|---|\n",
       "| 2          | 3.0        | 1          | 0.00000000 | FALSE      |\n",
       "| 2          | 6.0        | 1          | 0.05063998 |  TRUE      |\n",
       "| 2          | 9.0        | 1          | 0.04779446 | FALSE      |\n",
       "| 3          | 1.5        | 0          | 0.11742604 |  TRUE      |\n",
       "| 3          | 3.0        | 0          | 0.08832044 |  TRUE      |\n",
       "| 3          | 6.0        | 0          | 0.06216184 |  TRUE      |\n",
       "\n"
      ],
      "text/plain": [
       "  id age income fluoride   fl   \n",
       "1 2  3.0 1      0.00000000 FALSE\n",
       "2 2  6.0 1      0.05063998  TRUE\n",
       "3 2  9.0 1      0.04779446 FALSE\n",
       "4 3  1.5 0      0.11742604  TRUE\n",
       "5 3  3.0 0      0.08832044  TRUE\n",
       "6 3  6.0 0      0.06216184  TRUE"
      ]
     },
     "metadata": {},
     "output_type": "display_data"
    },
    {
     "data": {
      "text/plain": [
       "       id            age            income          fluoride       \n",
       " Min.   :   2   Min.   :1.500   Min.   :0.0000   Min.   :0.000000  \n",
       " 1st Qu.: 444   1st Qu.:1.500   1st Qu.:0.0000   1st Qu.:0.008185  \n",
       " Median : 934   Median :3.000   Median :1.0000   Median :0.048175  \n",
       " Mean   : 929   Mean   :4.675   Mean   :0.6382   Mean   :0.067876  \n",
       " 3rd Qu.:1409   3rd Qu.:6.000   3rd Qu.:1.0000   3rd Qu.:0.104724  \n",
       " Max.   :1886   Max.   :9.000   Max.   :1.0000   Max.   :1.794320  \n",
       "     fl         \n",
       " Mode :logical  \n",
       " FALSE:1966     \n",
       " TRUE :1898     \n",
       "                \n",
       "                \n",
       "                "
      ]
     },
     "metadata": {},
     "output_type": "display_data"
    }
   ],
   "source": [
    "head(fluoride.data <- data.table(read.csv('fluoride.csv'), key='id'))\n",
    "summary(fluoride.data)"
   ]
  },
  {
   "cell_type": "markdown",
   "metadata": {},
   "source": [
    "## Fluoride Data with Missing Entries"
   ]
  },
  {
   "cell_type": "code",
   "execution_count": 3,
   "metadata": {},
   "outputs": [
    {
     "data": {
      "text/html": [
       "<table>\n",
       "<thead><tr><th scope=col>id</th><th scope=col>age</th><th scope=col>income</th><th scope=col>fluoride</th><th scope=col>fl</th></tr></thead>\n",
       "<tbody>\n",
       "\t<tr><td>2         </td><td>3.0       </td><td>1         </td><td>0.00000000</td><td>FALSE     </td></tr>\n",
       "\t<tr><td>2         </td><td>6.0       </td><td>1         </td><td>0.05063998</td><td> TRUE     </td></tr>\n",
       "\t<tr><td>2         </td><td>9.0       </td><td>1         </td><td>0.04779446</td><td>FALSE     </td></tr>\n",
       "\t<tr><td>3         </td><td>3.0       </td><td>0         </td><td>0.08832044</td><td> TRUE     </td></tr>\n",
       "\t<tr><td>3         </td><td>6.0       </td><td>0         </td><td>0.06216184</td><td> TRUE     </td></tr>\n",
       "\t<tr><td>4         </td><td>1.5       </td><td>1         </td><td>0.03531871</td><td>FALSE     </td></tr>\n",
       "</tbody>\n",
       "</table>\n"
      ],
      "text/latex": [
       "\\begin{tabular}{r|lllll}\n",
       " id & age & income & fluoride & fl\\\\\n",
       "\\hline\n",
       "\t 2          & 3.0        & 1          & 0.00000000 & FALSE     \\\\\n",
       "\t 2          & 6.0        & 1          & 0.05063998 &  TRUE     \\\\\n",
       "\t 2          & 9.0        & 1          & 0.04779446 & FALSE     \\\\\n",
       "\t 3          & 3.0        & 0          & 0.08832044 &  TRUE     \\\\\n",
       "\t 3          & 6.0        & 0          & 0.06216184 &  TRUE     \\\\\n",
       "\t 4          & 1.5        & 1          & 0.03531871 & FALSE     \\\\\n",
       "\\end{tabular}\n"
      ],
      "text/markdown": [
       "\n",
       "| id | age | income | fluoride | fl |\n",
       "|---|---|---|---|---|\n",
       "| 2          | 3.0        | 1          | 0.00000000 | FALSE      |\n",
       "| 2          | 6.0        | 1          | 0.05063998 |  TRUE      |\n",
       "| 2          | 9.0        | 1          | 0.04779446 | FALSE      |\n",
       "| 3          | 3.0        | 0          | 0.08832044 |  TRUE      |\n",
       "| 3          | 6.0        | 0          | 0.06216184 |  TRUE      |\n",
       "| 4          | 1.5        | 1          | 0.03531871 | FALSE      |\n",
       "\n"
      ],
      "text/plain": [
       "  id age income fluoride   fl   \n",
       "1 2  3.0 1      0.00000000 FALSE\n",
       "2 2  6.0 1      0.05063998  TRUE\n",
       "3 2  9.0 1      0.04779446 FALSE\n",
       "4 3  3.0 0      0.08832044  TRUE\n",
       "5 3  6.0 0      0.06216184  TRUE\n",
       "6 4  1.5 1      0.03531871 FALSE"
      ]
     },
     "metadata": {},
     "output_type": "display_data"
    },
    {
     "data": {
      "text/plain": [
       "       id              age            income          fluoride       \n",
       " Min.   :   2.0   Min.   :1.500   Min.   :0.0000   Min.   :0.000000  \n",
       " 1st Qu.: 485.0   1st Qu.:3.000   1st Qu.:1.0000   1st Qu.:0.006707  \n",
       " Median : 975.0   Median :3.000   Median :1.0000   Median :0.042219  \n",
       " Mean   : 954.9   Mean   :4.709   Mean   :0.7811   Mean   :0.064560  \n",
       " 3rd Qu.:1431.0   3rd Qu.:6.000   3rd Qu.:1.0000   3rd Qu.:0.100249  \n",
       " Max.   :1886.0   Max.   :9.000   Max.   :1.0000   Max.   :1.794320  \n",
       "     fl         \n",
       " Mode :logical  \n",
       " FALSE:1679     \n",
       " TRUE :1478     \n",
       "                \n",
       "                \n",
       "                "
      ]
     },
     "metadata": {},
     "output_type": "display_data"
    }
   ],
   "source": [
    "head(fluoride.miss.data <- data.table(read.csv('fluoride.miss.csv'), key='id'))\n",
    "summary(fluoride.miss.data)"
   ]
  },
  {
   "cell_type": "markdown",
   "metadata": {},
   "source": [
    "## Models"
   ]
  },
  {
   "cell_type": "markdown",
   "metadata": {},
   "source": [
    "### General Estimating Equations (GEE)"
   ]
  },
  {
   "cell_type": "code",
   "execution_count": 4,
   "metadata": {},
   "outputs": [
    {
     "name": "stderr",
     "output_type": "stream",
     "text": [
      "Beginning Cgee S-function, @(#) geeformula.q 4.13 98/01/27\n",
      "running glm to get initial regression estimate\n"
     ]
    },
    {
     "name": "stdout",
     "output_type": "stream",
     "text": [
      " (Intercept)          age \n",
      "-0.024537225 -0.002280917 \n"
     ]
    },
    {
     "name": "stderr",
     "output_type": "stream",
     "text": [
      "Beginning Cgee S-function, @(#) geeformula.q 4.13 98/01/27\n",
      "running glm to get initial regression estimate\n"
     ]
    },
    {
     "name": "stdout",
     "output_type": "stream",
     "text": [
      " (Intercept)          age \n",
      "-0.024537225 -0.002280917 \n"
     ]
    },
    {
     "name": "stderr",
     "output_type": "stream",
     "text": [
      "Beginning Cgee S-function, @(#) geeformula.q 4.13 98/01/27\n",
      "running glm to get initial regression estimate\n"
     ]
    },
    {
     "name": "stdout",
     "output_type": "stream",
     "text": [
      "(Intercept)         age      income  age:income \n",
      " 0.57645733 -0.04872948 -0.96444671  0.07683365 \n"
     ]
    },
    {
     "name": "stderr",
     "output_type": "stream",
     "text": [
      "Beginning Cgee S-function, @(#) geeformula.q 4.13 98/01/27\n",
      "running glm to get initial regression estimate\n"
     ]
    },
    {
     "name": "stdout",
     "output_type": "stream",
     "text": [
      "(Intercept)         age      income  age:income \n",
      " 0.57645733 -0.04872948 -0.96444671  0.07683365 \n"
     ]
    }
   ],
   "source": [
    "gee.age.independent <- gee(fl ~ age, id=id,\n",
    "                           family=binomial,\n",
    "                           data=fluoride.data)\n",
    "gee.age.exchangeable <- update(gee.age.independent, corstr='exchangeable')\n",
    "gee.interaction.independent <- update(gee.age.independent, formula=.~. + income + age:income)\n",
    "gee.interaction.exchangeable <- update(gee.interaction.independent, corstr='exchangeable')"
   ]
  },
  {
   "cell_type": "markdown",
   "metadata": {},
   "source": [
    "### General Linear Mixed Models (GLMM)"
   ]
  },
  {
   "cell_type": "code",
   "execution_count": 5,
   "metadata": {},
   "outputs": [],
   "source": [
    "glmm.age <- glmer(fl ~ age + (1|id), family=binomial, data=fluoride.data)\n",
    "glmm.interaction <- update(glmm.age, formula=.~. + income + age:income)"
   ]
  },
  {
   "cell_type": "markdown",
   "metadata": {},
   "source": [
    "### Missing Data and GEE"
   ]
  },
  {
   "cell_type": "code",
   "execution_count": 6,
   "metadata": {},
   "outputs": [
    {
     "name": "stderr",
     "output_type": "stream",
     "text": [
      "Beginning Cgee S-function, @(#) geeformula.q 4.13 98/01/27\n",
      "running glm to get initial regression estimate\n"
     ]
    },
    {
     "name": "stdout",
     "output_type": "stream",
     "text": [
      " (Intercept)          age \n",
      "-0.165918518  0.008153993 \n"
     ]
    },
    {
     "name": "stderr",
     "output_type": "stream",
     "text": [
      "Beginning Cgee S-function, @(#) geeformula.q 4.13 98/01/27\n",
      "running glm to get initial regression estimate\n"
     ]
    },
    {
     "name": "stdout",
     "output_type": "stream",
     "text": [
      " (Intercept)          age \n",
      "-0.165918518  0.008153993 \n"
     ]
    },
    {
     "name": "stderr",
     "output_type": "stream",
     "text": [
      "Beginning Cgee S-function, @(#) geeformula.q 4.13 98/01/27\n",
      "running glm to get initial regression estimate\n"
     ]
    },
    {
     "name": "stdout",
     "output_type": "stream",
     "text": [
      "(Intercept)         age      income  age:income \n",
      " 0.59166829 -0.05778955 -0.97965768  0.08589372 \n"
     ]
    },
    {
     "name": "stderr",
     "output_type": "stream",
     "text": [
      "Beginning Cgee S-function, @(#) geeformula.q 4.13 98/01/27\n",
      "running glm to get initial regression estimate\n"
     ]
    },
    {
     "name": "stdout",
     "output_type": "stream",
     "text": [
      "(Intercept)         age      income  age:income \n",
      " 0.59166829 -0.05778955 -0.97965768  0.08589372 \n"
     ]
    }
   ],
   "source": [
    "gee.age.independent.miss <- update(gee.age.independent, data=fluoride.miss.data)\n",
    "gee.age.exchangeable.miss <- update(gee.age.exchangeable, data=fluoride.miss.data)\n",
    "gee.interaction.independent.miss <- update(gee.interaction.independent, data=fluoride.miss.data)\n",
    "gee.interaction.exchangeable.miss <- update(gee.interaction.exchangeable, data=fluoride.miss.data)"
   ]
  },
  {
   "cell_type": "markdown",
   "metadata": {},
   "source": [
    "### Missing Data and GLMM"
   ]
  },
  {
   "cell_type": "code",
   "execution_count": 7,
   "metadata": {},
   "outputs": [],
   "source": [
    "glmm.age.miss <- update(glmm.age, data=fluoride.miss.data)\n",
    "glmm.interaction.miss <- update(glmm.interaction, data=fluoride.miss.data)"
   ]
  },
  {
   "cell_type": "markdown",
   "metadata": {},
   "source": [
    "### Estimates and Standard Errors"
   ]
  },
  {
   "cell_type": "code",
   "execution_count": 8,
   "metadata": {},
   "outputs": [
    {
     "data": {
      "text/html": [
       "<table>\n",
       "<thead><tr><th scope=col>correlation.structure</th><th scope=col>has.interaction</th><th scope=col>is.missing</th><th scope=col>coefficient</th><th scope=col>estimate</th><th scope=col>standard.error</th></tr></thead>\n",
       "<tbody>\n",
       "\t<tr><td>GEE Independent </td><td>FALSE           </td><td>FALSE           </td><td>(Intercept)     </td><td>-0.024537225    </td><td>0.07063560      </td></tr>\n",
       "\t<tr><td>GEE Independent </td><td>FALSE           </td><td>FALSE           </td><td>age             </td><td>-0.002280917    </td><td>0.01075684      </td></tr>\n",
       "\t<tr><td>GEE Exchangeable</td><td>FALSE           </td><td>FALSE           </td><td>(Intercept)     </td><td>-0.059908233    </td><td>0.06887201      </td></tr>\n",
       "\t<tr><td>GEE Exchangeable</td><td>FALSE           </td><td>FALSE           </td><td>age             </td><td> 0.015402484    </td><td>0.01041757      </td></tr>\n",
       "\t<tr><td>Mixed Model     </td><td>FALSE           </td><td>FALSE           </td><td>(Intercept)     </td><td>-0.126181248    </td><td>0.11418195      </td></tr>\n",
       "\t<tr><td>Mixed Model     </td><td>FALSE           </td><td>FALSE           </td><td>age             </td><td> 0.028706630    </td><td>0.01546045      </td></tr>\n",
       "\t<tr><td>GEE Independent </td><td> TRUE           </td><td>FALSE           </td><td>(Intercept)     </td><td> 0.576457328    </td><td>0.11746375      </td></tr>\n",
       "\t<tr><td>GEE Independent </td><td> TRUE           </td><td>FALSE           </td><td>age             </td><td>-0.048729479    </td><td>0.01776291      </td></tr>\n",
       "\t<tr><td>GEE Independent </td><td> TRUE           </td><td>FALSE           </td><td>income          </td><td>-0.964446713    </td><td>0.14857453      </td></tr>\n",
       "\t<tr><td>GEE Independent </td><td> TRUE           </td><td>FALSE           </td><td>age:income      </td><td> 0.076833647    </td><td>0.02246225      </td></tr>\n",
       "\t<tr><td>GEE Exchangeable</td><td> TRUE           </td><td>FALSE           </td><td>(Intercept)     </td><td> 0.524519855    </td><td>0.11501814      </td></tr>\n",
       "\t<tr><td>GEE Exchangeable</td><td> TRUE           </td><td>FALSE           </td><td>age             </td><td>-0.023578406    </td><td>0.01763398      </td></tr>\n",
       "\t<tr><td>GEE Exchangeable</td><td> TRUE           </td><td>FALSE           </td><td>income          </td><td>-0.944915921    </td><td>0.14548368      </td></tr>\n",
       "\t<tr><td>GEE Exchangeable</td><td> TRUE           </td><td>FALSE           </td><td>age:income      </td><td> 0.061875910    </td><td>0.02208773      </td></tr>\n",
       "\t<tr><td>Mixed Model     </td><td> TRUE           </td><td>FALSE           </td><td>(Intercept)     </td><td> 1.171505721    </td><td>0.20895985      </td></tr>\n",
       "\t<tr><td>Mixed Model     </td><td> TRUE           </td><td>FALSE           </td><td>age             </td><td>-0.054637619    </td><td>0.02943944      </td></tr>\n",
       "\t<tr><td>Mixed Model     </td><td> TRUE           </td><td>FALSE           </td><td>income          </td><td>-2.083890029    </td><td>0.26975867      </td></tr>\n",
       "\t<tr><td>Mixed Model     </td><td> TRUE           </td><td>FALSE           </td><td>age:income      </td><td> 0.131500599    </td><td>0.03650578      </td></tr>\n",
       "\t<tr><td>GEE Independent </td><td>FALSE           </td><td> TRUE           </td><td>(Intercept)     </td><td>-0.165918518    </td><td>0.07779326      </td></tr>\n",
       "\t<tr><td>GEE Independent </td><td>FALSE           </td><td> TRUE           </td><td>age             </td><td> 0.008153993    </td><td>0.01200135      </td></tr>\n",
       "\t<tr><td>GEE Exchangeable</td><td>FALSE           </td><td> TRUE           </td><td>(Intercept)     </td><td>-0.172836548    </td><td>0.07509461      </td></tr>\n",
       "\t<tr><td>GEE Exchangeable</td><td>FALSE           </td><td> TRUE           </td><td>age             </td><td> 0.021670911    </td><td>0.01151107      </td></tr>\n",
       "\t<tr><td>Mixed Model     </td><td>FALSE           </td><td> TRUE           </td><td>(Intercept)     </td><td>-0.362532796    </td><td>0.12489150      </td></tr>\n",
       "\t<tr><td>Mixed Model     </td><td>FALSE           </td><td> TRUE           </td><td>age             </td><td> 0.041220677    </td><td>0.01734357      </td></tr>\n",
       "\t<tr><td>GEE Independent </td><td> TRUE           </td><td> TRUE           </td><td>(Intercept)     </td><td> 0.591668293    </td><td>0.15922060      </td></tr>\n",
       "\t<tr><td>GEE Independent </td><td> TRUE           </td><td> TRUE           </td><td>age             </td><td>-0.057789550    </td><td>0.02562540      </td></tr>\n",
       "\t<tr><td>GEE Independent </td><td> TRUE           </td><td> TRUE           </td><td>income          </td><td>-0.979657678    </td><td>0.18337901      </td></tr>\n",
       "\t<tr><td>GEE Independent </td><td> TRUE           </td><td> TRUE           </td><td>age:income      </td><td> 0.085893718    </td><td>0.02908080      </td></tr>\n",
       "\t<tr><td>GEE Exchangeable</td><td> TRUE           </td><td> TRUE           </td><td>(Intercept)     </td><td> 0.572609700    </td><td>0.14504065      </td></tr>\n",
       "\t<tr><td>GEE Exchangeable</td><td> TRUE           </td><td> TRUE           </td><td>age             </td><td>-0.051061263    </td><td>0.02264056      </td></tr>\n",
       "\t<tr><td>GEE Exchangeable</td><td> TRUE           </td><td> TRUE           </td><td>income          </td><td>-0.992955896    </td><td>0.17021467      </td></tr>\n",
       "\t<tr><td>GEE Exchangeable</td><td> TRUE           </td><td> TRUE           </td><td>age:income      </td><td> 0.089341026    </td><td>0.02625823      </td></tr>\n",
       "\t<tr><td>Mixed Model     </td><td> TRUE           </td><td> TRUE           </td><td>(Intercept)     </td><td> 1.314184391    </td><td>0.29576193      </td></tr>\n",
       "\t<tr><td>Mixed Model     </td><td> TRUE           </td><td> TRUE           </td><td>age             </td><td>-0.115799038    </td><td>0.04688124      </td></tr>\n",
       "\t<tr><td>Mixed Model     </td><td> TRUE           </td><td> TRUE           </td><td>income          </td><td>-2.224775117    </td><td>0.34408206      </td></tr>\n",
       "\t<tr><td>Mixed Model     </td><td> TRUE           </td><td> TRUE           </td><td>age:income      </td><td> 0.192533583    </td><td>0.05180292      </td></tr>\n",
       "</tbody>\n",
       "</table>\n"
      ],
      "text/latex": [
       "\\begin{tabular}{r|llllll}\n",
       " correlation.structure & has.interaction & is.missing & coefficient & estimate & standard.error\\\\\n",
       "\\hline\n",
       "\t GEE Independent  & FALSE            & FALSE            & (Intercept)      & -0.024537225     & 0.07063560      \\\\\n",
       "\t GEE Independent  & FALSE            & FALSE            & age              & -0.002280917     & 0.01075684      \\\\\n",
       "\t GEE Exchangeable & FALSE            & FALSE            & (Intercept)      & -0.059908233     & 0.06887201      \\\\\n",
       "\t GEE Exchangeable & FALSE            & FALSE            & age              &  0.015402484     & 0.01041757      \\\\\n",
       "\t Mixed Model      & FALSE            & FALSE            & (Intercept)      & -0.126181248     & 0.11418195      \\\\\n",
       "\t Mixed Model      & FALSE            & FALSE            & age              &  0.028706630     & 0.01546045      \\\\\n",
       "\t GEE Independent  &  TRUE            & FALSE            & (Intercept)      &  0.576457328     & 0.11746375      \\\\\n",
       "\t GEE Independent  &  TRUE            & FALSE            & age              & -0.048729479     & 0.01776291      \\\\\n",
       "\t GEE Independent  &  TRUE            & FALSE            & income           & -0.964446713     & 0.14857453      \\\\\n",
       "\t GEE Independent  &  TRUE            & FALSE            & age:income       &  0.076833647     & 0.02246225      \\\\\n",
       "\t GEE Exchangeable &  TRUE            & FALSE            & (Intercept)      &  0.524519855     & 0.11501814      \\\\\n",
       "\t GEE Exchangeable &  TRUE            & FALSE            & age              & -0.023578406     & 0.01763398      \\\\\n",
       "\t GEE Exchangeable &  TRUE            & FALSE            & income           & -0.944915921     & 0.14548368      \\\\\n",
       "\t GEE Exchangeable &  TRUE            & FALSE            & age:income       &  0.061875910     & 0.02208773      \\\\\n",
       "\t Mixed Model      &  TRUE            & FALSE            & (Intercept)      &  1.171505721     & 0.20895985      \\\\\n",
       "\t Mixed Model      &  TRUE            & FALSE            & age              & -0.054637619     & 0.02943944      \\\\\n",
       "\t Mixed Model      &  TRUE            & FALSE            & income           & -2.083890029     & 0.26975867      \\\\\n",
       "\t Mixed Model      &  TRUE            & FALSE            & age:income       &  0.131500599     & 0.03650578      \\\\\n",
       "\t GEE Independent  & FALSE            &  TRUE            & (Intercept)      & -0.165918518     & 0.07779326      \\\\\n",
       "\t GEE Independent  & FALSE            &  TRUE            & age              &  0.008153993     & 0.01200135      \\\\\n",
       "\t GEE Exchangeable & FALSE            &  TRUE            & (Intercept)      & -0.172836548     & 0.07509461      \\\\\n",
       "\t GEE Exchangeable & FALSE            &  TRUE            & age              &  0.021670911     & 0.01151107      \\\\\n",
       "\t Mixed Model      & FALSE            &  TRUE            & (Intercept)      & -0.362532796     & 0.12489150      \\\\\n",
       "\t Mixed Model      & FALSE            &  TRUE            & age              &  0.041220677     & 0.01734357      \\\\\n",
       "\t GEE Independent  &  TRUE            &  TRUE            & (Intercept)      &  0.591668293     & 0.15922060      \\\\\n",
       "\t GEE Independent  &  TRUE            &  TRUE            & age              & -0.057789550     & 0.02562540      \\\\\n",
       "\t GEE Independent  &  TRUE            &  TRUE            & income           & -0.979657678     & 0.18337901      \\\\\n",
       "\t GEE Independent  &  TRUE            &  TRUE            & age:income       &  0.085893718     & 0.02908080      \\\\\n",
       "\t GEE Exchangeable &  TRUE            &  TRUE            & (Intercept)      &  0.572609700     & 0.14504065      \\\\\n",
       "\t GEE Exchangeable &  TRUE            &  TRUE            & age              & -0.051061263     & 0.02264056      \\\\\n",
       "\t GEE Exchangeable &  TRUE            &  TRUE            & income           & -0.992955896     & 0.17021467      \\\\\n",
       "\t GEE Exchangeable &  TRUE            &  TRUE            & age:income       &  0.089341026     & 0.02625823      \\\\\n",
       "\t Mixed Model      &  TRUE            &  TRUE            & (Intercept)      &  1.314184391     & 0.29576193      \\\\\n",
       "\t Mixed Model      &  TRUE            &  TRUE            & age              & -0.115799038     & 0.04688124      \\\\\n",
       "\t Mixed Model      &  TRUE            &  TRUE            & income           & -2.224775117     & 0.34408206      \\\\\n",
       "\t Mixed Model      &  TRUE            &  TRUE            & age:income       &  0.192533583     & 0.05180292      \\\\\n",
       "\\end{tabular}\n"
      ],
      "text/markdown": [
       "\n",
       "| correlation.structure | has.interaction | is.missing | coefficient | estimate | standard.error |\n",
       "|---|---|---|---|---|---|\n",
       "| GEE Independent  | FALSE            | FALSE            | (Intercept)      | -0.024537225     | 0.07063560       |\n",
       "| GEE Independent  | FALSE            | FALSE            | age              | -0.002280917     | 0.01075684       |\n",
       "| GEE Exchangeable | FALSE            | FALSE            | (Intercept)      | -0.059908233     | 0.06887201       |\n",
       "| GEE Exchangeable | FALSE            | FALSE            | age              |  0.015402484     | 0.01041757       |\n",
       "| Mixed Model      | FALSE            | FALSE            | (Intercept)      | -0.126181248     | 0.11418195       |\n",
       "| Mixed Model      | FALSE            | FALSE            | age              |  0.028706630     | 0.01546045       |\n",
       "| GEE Independent  |  TRUE            | FALSE            | (Intercept)      |  0.576457328     | 0.11746375       |\n",
       "| GEE Independent  |  TRUE            | FALSE            | age              | -0.048729479     | 0.01776291       |\n",
       "| GEE Independent  |  TRUE            | FALSE            | income           | -0.964446713     | 0.14857453       |\n",
       "| GEE Independent  |  TRUE            | FALSE            | age:income       |  0.076833647     | 0.02246225       |\n",
       "| GEE Exchangeable |  TRUE            | FALSE            | (Intercept)      |  0.524519855     | 0.11501814       |\n",
       "| GEE Exchangeable |  TRUE            | FALSE            | age              | -0.023578406     | 0.01763398       |\n",
       "| GEE Exchangeable |  TRUE            | FALSE            | income           | -0.944915921     | 0.14548368       |\n",
       "| GEE Exchangeable |  TRUE            | FALSE            | age:income       |  0.061875910     | 0.02208773       |\n",
       "| Mixed Model      |  TRUE            | FALSE            | (Intercept)      |  1.171505721     | 0.20895985       |\n",
       "| Mixed Model      |  TRUE            | FALSE            | age              | -0.054637619     | 0.02943944       |\n",
       "| Mixed Model      |  TRUE            | FALSE            | income           | -2.083890029     | 0.26975867       |\n",
       "| Mixed Model      |  TRUE            | FALSE            | age:income       |  0.131500599     | 0.03650578       |\n",
       "| GEE Independent  | FALSE            |  TRUE            | (Intercept)      | -0.165918518     | 0.07779326       |\n",
       "| GEE Independent  | FALSE            |  TRUE            | age              |  0.008153993     | 0.01200135       |\n",
       "| GEE Exchangeable | FALSE            |  TRUE            | (Intercept)      | -0.172836548     | 0.07509461       |\n",
       "| GEE Exchangeable | FALSE            |  TRUE            | age              |  0.021670911     | 0.01151107       |\n",
       "| Mixed Model      | FALSE            |  TRUE            | (Intercept)      | -0.362532796     | 0.12489150       |\n",
       "| Mixed Model      | FALSE            |  TRUE            | age              |  0.041220677     | 0.01734357       |\n",
       "| GEE Independent  |  TRUE            |  TRUE            | (Intercept)      |  0.591668293     | 0.15922060       |\n",
       "| GEE Independent  |  TRUE            |  TRUE            | age              | -0.057789550     | 0.02562540       |\n",
       "| GEE Independent  |  TRUE            |  TRUE            | income           | -0.979657678     | 0.18337901       |\n",
       "| GEE Independent  |  TRUE            |  TRUE            | age:income       |  0.085893718     | 0.02908080       |\n",
       "| GEE Exchangeable |  TRUE            |  TRUE            | (Intercept)      |  0.572609700     | 0.14504065       |\n",
       "| GEE Exchangeable |  TRUE            |  TRUE            | age              | -0.051061263     | 0.02264056       |\n",
       "| GEE Exchangeable |  TRUE            |  TRUE            | income           | -0.992955896     | 0.17021467       |\n",
       "| GEE Exchangeable |  TRUE            |  TRUE            | age:income       |  0.089341026     | 0.02625823       |\n",
       "| Mixed Model      |  TRUE            |  TRUE            | (Intercept)      |  1.314184391     | 0.29576193       |\n",
       "| Mixed Model      |  TRUE            |  TRUE            | age              | -0.115799038     | 0.04688124       |\n",
       "| Mixed Model      |  TRUE            |  TRUE            | income           | -2.224775117     | 0.34408206       |\n",
       "| Mixed Model      |  TRUE            |  TRUE            | age:income       |  0.192533583     | 0.05180292       |\n",
       "\n"
      ],
      "text/plain": [
       "   correlation.structure has.interaction is.missing coefficient estimate    \n",
       "1  GEE Independent       FALSE           FALSE      (Intercept) -0.024537225\n",
       "2  GEE Independent       FALSE           FALSE      age         -0.002280917\n",
       "3  GEE Exchangeable      FALSE           FALSE      (Intercept) -0.059908233\n",
       "4  GEE Exchangeable      FALSE           FALSE      age          0.015402484\n",
       "5  Mixed Model           FALSE           FALSE      (Intercept) -0.126181248\n",
       "6  Mixed Model           FALSE           FALSE      age          0.028706630\n",
       "7  GEE Independent        TRUE           FALSE      (Intercept)  0.576457328\n",
       "8  GEE Independent        TRUE           FALSE      age         -0.048729479\n",
       "9  GEE Independent        TRUE           FALSE      income      -0.964446713\n",
       "10 GEE Independent        TRUE           FALSE      age:income   0.076833647\n",
       "11 GEE Exchangeable       TRUE           FALSE      (Intercept)  0.524519855\n",
       "12 GEE Exchangeable       TRUE           FALSE      age         -0.023578406\n",
       "13 GEE Exchangeable       TRUE           FALSE      income      -0.944915921\n",
       "14 GEE Exchangeable       TRUE           FALSE      age:income   0.061875910\n",
       "15 Mixed Model            TRUE           FALSE      (Intercept)  1.171505721\n",
       "16 Mixed Model            TRUE           FALSE      age         -0.054637619\n",
       "17 Mixed Model            TRUE           FALSE      income      -2.083890029\n",
       "18 Mixed Model            TRUE           FALSE      age:income   0.131500599\n",
       "19 GEE Independent       FALSE            TRUE      (Intercept) -0.165918518\n",
       "20 GEE Independent       FALSE            TRUE      age          0.008153993\n",
       "21 GEE Exchangeable      FALSE            TRUE      (Intercept) -0.172836548\n",
       "22 GEE Exchangeable      FALSE            TRUE      age          0.021670911\n",
       "23 Mixed Model           FALSE            TRUE      (Intercept) -0.362532796\n",
       "24 Mixed Model           FALSE            TRUE      age          0.041220677\n",
       "25 GEE Independent        TRUE            TRUE      (Intercept)  0.591668293\n",
       "26 GEE Independent        TRUE            TRUE      age         -0.057789550\n",
       "27 GEE Independent        TRUE            TRUE      income      -0.979657678\n",
       "28 GEE Independent        TRUE            TRUE      age:income   0.085893718\n",
       "29 GEE Exchangeable       TRUE            TRUE      (Intercept)  0.572609700\n",
       "30 GEE Exchangeable       TRUE            TRUE      age         -0.051061263\n",
       "31 GEE Exchangeable       TRUE            TRUE      income      -0.992955896\n",
       "32 GEE Exchangeable       TRUE            TRUE      age:income   0.089341026\n",
       "33 Mixed Model            TRUE            TRUE      (Intercept)  1.314184391\n",
       "34 Mixed Model            TRUE            TRUE      age         -0.115799038\n",
       "35 Mixed Model            TRUE            TRUE      income      -2.224775117\n",
       "36 Mixed Model            TRUE            TRUE      age:income   0.192533583\n",
       "   standard.error\n",
       "1  0.07063560    \n",
       "2  0.01075684    \n",
       "3  0.06887201    \n",
       "4  0.01041757    \n",
       "5  0.11418195    \n",
       "6  0.01546045    \n",
       "7  0.11746375    \n",
       "8  0.01776291    \n",
       "9  0.14857453    \n",
       "10 0.02246225    \n",
       "11 0.11501814    \n",
       "12 0.01763398    \n",
       "13 0.14548368    \n",
       "14 0.02208773    \n",
       "15 0.20895985    \n",
       "16 0.02943944    \n",
       "17 0.26975867    \n",
       "18 0.03650578    \n",
       "19 0.07779326    \n",
       "20 0.01200135    \n",
       "21 0.07509461    \n",
       "22 0.01151107    \n",
       "23 0.12489150    \n",
       "24 0.01734357    \n",
       "25 0.15922060    \n",
       "26 0.02562540    \n",
       "27 0.18337901    \n",
       "28 0.02908080    \n",
       "29 0.14504065    \n",
       "30 0.02264056    \n",
       "31 0.17021467    \n",
       "32 0.02625823    \n",
       "33 0.29576193    \n",
       "34 0.04688124    \n",
       "35 0.34408206    \n",
       "36 0.05180292    "
      ]
     },
     "metadata": {},
     "output_type": "display_data"
    }
   ],
   "source": [
    "summarize.model <- function(model) {\n",
    "    coefficients <- summary(model)$coefficients\n",
    "    standard.error <- if (is(model, 'gee')) {\n",
    "        coefficients[,'Robust S.E.']\n",
    "    } else if (is(model, 'glmerMod')) {\n",
    "        coefficients[,'Std. Error']\n",
    "    }\n",
    "    data.frame(coefficient=row.names(coefficients),\n",
    "               estimate=coefficients[,'Estimate'],\n",
    "               standard.error=standard.error,\n",
    "               row.names=NULL)    \n",
    "}\n",
    "\n",
    "key.model <- function(model) {\n",
    "    data.frame(\n",
    "        correlation.structure=if (is(model, 'gee')) {\n",
    "            if (is.null(getCall(model)$corstr)) {\n",
    "                'GEE Independent'\n",
    "            } else {\n",
    "                paste('GEE', toTitleCase(getCall(model)$corstr))\n",
    "            }\n",
    "        } else if (is(model, 'glmerMod')) {\n",
    "            'Mixed Model'\n",
    "        },\n",
    "        has.interaction=nrow(summary(model)$coefficients) == 4,\n",
    "        is.missing=getCall(model)$data == quote(fluoride.miss.data)\n",
    "    )\n",
    "}\n",
    "\n",
    "(model.summaries <- do.call(rbind, lapply(list(\n",
    "    gee.age.independent, gee.age.exchangeable, glmm.age,\n",
    "    gee.interaction.independent, gee.interaction.exchangeable, glmm.interaction,\n",
    "    gee.age.independent.miss, gee.age.exchangeable.miss, glmm.age.miss,\n",
    "    gee.interaction.independent.miss, gee.interaction.exchangeable.miss, glmm.interaction.miss),\n",
    "       function(model) {\n",
    "           cbind(key.model(model), summarize.model(model))\n",
    "       })))\n",
    "\n",
    "write.csv(model.summaries, file='model_summaries.csv', row.names=FALSE)"
   ]
  }
 ],
 "metadata": {
  "kernelspec": {
   "display_name": "R",
   "language": "R",
   "name": "ir"
  },
  "language_info": {
   "codemirror_mode": "r",
   "file_extension": ".r",
   "mimetype": "text/x-r-source",
   "name": "R",
   "pygments_lexer": "r",
   "version": "3.5.2"
  }
 },
 "nbformat": 4,
 "nbformat_minor": 2
}
