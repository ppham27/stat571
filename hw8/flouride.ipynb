{
 "cells": [
  {
   "cell_type": "markdown",
   "metadata": {},
   "source": [
    "# GEE and GLMM; interpretation of marginal parameters in logistic regression models; missing data\n",
    "\n",
    "We'll fit models with general estimating equations (`gee`) and general linear mixed models (`lme4`)."
   ]
  },
  {
   "cell_type": "code",
   "execution_count": null,
   "metadata": {},
   "outputs": [
    {
     "name": "stderr",
     "output_type": "stream",
     "text": [
      "Loading required package: Matrix\n"
     ]
    }
   ],
   "source": [
    "library(data.table)\n",
    "library(gee)\n",
    "library(lme4)\n",
    "library(tools)\n",
    "library(xtable)"
   ]
  },
  {
   "cell_type": "markdown",
   "metadata": {},
   "source": [
    "## Fluoride Data"
   ]
  },
  {
   "cell_type": "code",
   "execution_count": null,
   "metadata": {},
   "outputs": [],
   "source": [
    "head(fluoride.data <- data.table(read.csv('fluoride.csv'), key='id'))\n",
    "summary(fluoride.data)"
   ]
  },
  {
   "cell_type": "markdown",
   "metadata": {},
   "source": [
    "## Fluoride Data with Missing Entries"
   ]
  },
  {
   "cell_type": "code",
   "execution_count": null,
   "metadata": {},
   "outputs": [],
   "source": [
    "head(fluoride.miss.data <- data.table(read.csv('fluoride.miss.csv'), key='id'))\n",
    "summary(fluoride.miss.data)"
   ]
  },
  {
   "cell_type": "markdown",
   "metadata": {},
   "source": [
    "## Models"
   ]
  },
  {
   "cell_type": "markdown",
   "metadata": {},
   "source": [
    "### General Estimating Equations (GEE)"
   ]
  },
  {
   "cell_type": "code",
   "execution_count": null,
   "metadata": {},
   "outputs": [],
   "source": [
    "gee.age.independent <- gee(fl ~ age, id=id,\n",
    "                           family=binomial,\n",
    "                           data=fluoride.data)\n",
    "gee.age.exchangeable <- update(gee.age.independent, corstr='exchangeable')\n",
    "gee.interaction.independent <- update(gee.age.independent, formula=.~. + income + age:income)\n",
    "gee.interaction.exchangeable <- update(gee.interaction.independent, corstr='exchangeable')"
   ]
  },
  {
   "cell_type": "markdown",
   "metadata": {},
   "source": [
    "### General Linear Mixed Models (GLMM)"
   ]
  },
  {
   "cell_type": "code",
   "execution_count": null,
   "metadata": {},
   "outputs": [],
   "source": [
    "glmm.age <- glmer(fl ~ age + (1|id), family=binomial, data=fluoride.data)\n",
    "glmm.interaction <- update(glmm.age, formula=.~. + income + age:income)"
   ]
  },
  {
   "cell_type": "markdown",
   "metadata": {},
   "source": [
    "### Missing Data and GEE"
   ]
  },
  {
   "cell_type": "code",
   "execution_count": null,
   "metadata": {},
   "outputs": [],
   "source": [
    "gee.age.independent.miss <- update(gee.age.independent, data=fluoride.miss.data)\n",
    "gee.age.exchangeable.miss <- update(gee.age.exchangeable, data=fluoride.miss.data)\n",
    "gee.interaction.independent.miss <- update(gee.interaction.independent, data=fluoride.miss.data)\n",
    "gee.interaction.exchangeable.miss <- update(gee.interaction.exchangeable, data=fluoride.miss.data)"
   ]
  },
  {
   "cell_type": "markdown",
   "metadata": {},
   "source": [
    "### Missing Data and GLMM"
   ]
  },
  {
   "cell_type": "code",
   "execution_count": null,
   "metadata": {},
   "outputs": [],
   "source": [
    "glmm.age.miss <- update(glmm.age, data=fluoride.miss.data)\n",
    "glmm.interaction.miss <- update(glmm.interaction, data=fluoride.miss.data)"
   ]
  },
  {
   "cell_type": "markdown",
   "metadata": {},
   "source": [
    "### Estimates and Standard Errors"
   ]
  },
  {
   "cell_type": "code",
   "execution_count": null,
   "metadata": {},
   "outputs": [],
   "source": [
    "summarize.model <- function(model) {\n",
    "    coefficients <- summary(model)$coefficients\n",
    "    standard.error <- if (is(model, 'gee')) {\n",
    "        coefficients[,'Robust S.E.']\n",
    "    } else if (is(model, 'glmerMod')) {\n",
    "        coefficients[,'Std. Error']\n",
    "    }\n",
    "    data.frame(coefficient=row.names(coefficients),\n",
    "               estimate=coefficients[,'Estimate'],\n",
    "               standard.error=standard.error,\n",
    "               row.names=NULL)    \n",
    "}\n",
    "\n",
    "key.model <- function(model) {\n",
    "    data.frame(\n",
    "        correlation.structure=if (is(model, 'gee')) {\n",
    "            if (is.null(getCall(model)$corstr)) {\n",
    "                'GEE Independent'\n",
    "            } else {\n",
    "                paste('GEE', toTitleCase(getCall(model)$corstr))\n",
    "            }\n",
    "        } else if (is(model, 'glmerMod')) {\n",
    "            'Mixed Model'\n",
    "        },\n",
    "        has.interaction=nrow(summary(model)$coefficients) == 4,\n",
    "        is.missing=getCall(model)$data == quote(fluoride.miss.data)\n",
    "    )\n",
    "}\n",
    "\n",
    "(model.summaries <- do.call(rbind, lapply(list(\n",
    "    gee.age.independent, gee.age.exchangeable, glmm.age,\n",
    "    gee.interaction.independent, gee.interaction.exchangeable, glmm.interaction,\n",
    "    gee.age.independent.miss, gee.age.exchangeable.miss, glmm.age.miss,\n",
    "    gee.interaction.independent.miss, gee.interaction.exchangeable.miss, glmm.interaction.miss),\n",
    "       function(model) {\n",
    "           cbind(key.model(model), summarize.model(model))\n",
    "       })))\n",
    "\n",
    "write.csv(model.summaries, file='model_summaries.csv', row.names=FALSE)"
   ]
  }
 ],
 "metadata": {
  "kernelspec": {
   "display_name": "R",
   "language": "R",
   "name": "ir"
  },
  "language_info": {
   "codemirror_mode": "r",
   "file_extension": ".r",
   "mimetype": "text/x-r-source",
   "name": "R",
   "pygments_lexer": "r",
   "version": "3.5.2"
  }
 },
 "nbformat": 4,
 "nbformat_minor": 2
}
