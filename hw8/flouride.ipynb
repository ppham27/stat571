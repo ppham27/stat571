{
 "cells": [
  {
   "cell_type": "markdown",
   "metadata": {},
   "source": [
    "# GEE and GLMM; interpretation of marginal parameters in logistic regression models; missing data\n",
    "\n",
    "We'll fit models with general estimating equations (`gee`) and general linear mixed models (`lme4`)."
   ]
  },
  {
   "cell_type": "code",
   "execution_count": 1,
   "metadata": {},
   "outputs": [
    {
     "name": "stderr",
     "output_type": "stream",
     "text": [
      "Loading required package: Matrix\n"
     ]
    }
   ],
   "source": [
    "library(data.table)\n",
    "library(gee)\n",
    "library(lme4)\n",
    "library(tools)\n",
    "library(xtable)"
   ]
  },
  {
   "cell_type": "markdown",
   "metadata": {},
   "source": [
    "## Fluoride Data"
   ]
  },
  {
   "cell_type": "code",
   "execution_count": 2,
   "metadata": {},
   "outputs": [
    {
     "data": {
      "text/html": [
       "<table>\n",
       "<thead><tr><th scope=col>id</th><th scope=col>age</th><th scope=col>income</th><th scope=col>fluoride</th><th scope=col>fl</th></tr></thead>\n",
       "<tbody>\n",
       "\t<tr><td>2         </td><td>3.0       </td><td>1         </td><td>0.00000000</td><td>FALSE     </td></tr>\n",
       "\t<tr><td>2         </td><td>6.0       </td><td>1         </td><td>0.05063998</td><td> TRUE     </td></tr>\n",
       "\t<tr><td>2         </td><td>9.0       </td><td>1         </td><td>0.04779446</td><td>FALSE     </td></tr>\n",
       "\t<tr><td>3         </td><td>1.5       </td><td>0         </td><td>0.11742604</td><td> TRUE     </td></tr>\n",
       "\t<tr><td>3         </td><td>3.0       </td><td>0         </td><td>0.08832044</td><td> TRUE     </td></tr>\n",
       "\t<tr><td>3         </td><td>6.0       </td><td>0         </td><td>0.06216184</td><td> TRUE     </td></tr>\n",
       "</tbody>\n",
       "</table>\n"
      ],
      "text/latex": [
       "\\begin{tabular}{r|lllll}\n",
       " id & age & income & fluoride & fl\\\\\n",
       "\\hline\n",
       "\t 2          & 3.0        & 1          & 0.00000000 & FALSE     \\\\\n",
       "\t 2          & 6.0        & 1          & 0.05063998 &  TRUE     \\\\\n",
       "\t 2          & 9.0        & 1          & 0.04779446 & FALSE     \\\\\n",
       "\t 3          & 1.5        & 0          & 0.11742604 &  TRUE     \\\\\n",
       "\t 3          & 3.0        & 0          & 0.08832044 &  TRUE     \\\\\n",
       "\t 3          & 6.0        & 0          & 0.06216184 &  TRUE     \\\\\n",
       "\\end{tabular}\n"
      ],
      "text/markdown": [
       "\n",
       "| id | age | income | fluoride | fl |\n",
       "|---|---|---|---|---|\n",
       "| 2          | 3.0        | 1          | 0.00000000 | FALSE      |\n",
       "| 2          | 6.0        | 1          | 0.05063998 |  TRUE      |\n",
       "| 2          | 9.0        | 1          | 0.04779446 | FALSE      |\n",
       "| 3          | 1.5        | 0          | 0.11742604 |  TRUE      |\n",
       "| 3          | 3.0        | 0          | 0.08832044 |  TRUE      |\n",
       "| 3          | 6.0        | 0          | 0.06216184 |  TRUE      |\n",
       "\n"
      ],
      "text/plain": [
       "  id age income fluoride   fl   \n",
       "1 2  3.0 1      0.00000000 FALSE\n",
       "2 2  6.0 1      0.05063998  TRUE\n",
       "3 2  9.0 1      0.04779446 FALSE\n",
       "4 3  1.5 0      0.11742604  TRUE\n",
       "5 3  3.0 0      0.08832044  TRUE\n",
       "6 3  6.0 0      0.06216184  TRUE"
      ]
     },
     "metadata": {},
     "output_type": "display_data"
    }
   ],
   "source": [
    "head(fluoride.data <- data.table(read.csv('fluoride.csv'), key='id'))"
   ]
  },
  {
   "cell_type": "code",
   "execution_count": 3,
   "metadata": {},
   "outputs": [
    {
     "data": {
      "text/plain": [
       "       id            age            income          fluoride       \n",
       " Min.   :   2   Min.   :1.500   Min.   :0.0000   Min.   :0.000000  \n",
       " 1st Qu.: 444   1st Qu.:1.500   1st Qu.:0.0000   1st Qu.:0.008185  \n",
       " Median : 934   Median :3.000   Median :1.0000   Median :0.048175  \n",
       " Mean   : 929   Mean   :4.675   Mean   :0.6382   Mean   :0.067876  \n",
       " 3rd Qu.:1409   3rd Qu.:6.000   3rd Qu.:1.0000   3rd Qu.:0.104724  \n",
       " Max.   :1886   Max.   :9.000   Max.   :1.0000   Max.   :1.794320  \n",
       "     fl         \n",
       " Mode :logical  \n",
       " FALSE:1966     \n",
       " TRUE :1898     \n",
       "                \n",
       "                \n",
       "                "
      ]
     },
     "metadata": {},
     "output_type": "display_data"
    }
   ],
   "source": [
    "summary(fluoride.data)"
   ]
  },
  {
   "cell_type": "markdown",
   "metadata": {},
   "source": [
    "## Fluoride Data with Missing Entries"
   ]
  },
  {
   "cell_type": "code",
   "execution_count": 4,
   "metadata": {},
   "outputs": [
    {
     "data": {
      "text/html": [
       "<table>\n",
       "<thead><tr><th scope=col>id</th><th scope=col>age</th><th scope=col>income</th><th scope=col>fluoride</th><th scope=col>fl</th></tr></thead>\n",
       "<tbody>\n",
       "\t<tr><td>2         </td><td>3.0       </td><td>1         </td><td>0.00000000</td><td>FALSE     </td></tr>\n",
       "\t<tr><td>2         </td><td>6.0       </td><td>1         </td><td>0.05063998</td><td> TRUE     </td></tr>\n",
       "\t<tr><td>2         </td><td>9.0       </td><td>1         </td><td>0.04779446</td><td>FALSE     </td></tr>\n",
       "\t<tr><td>3         </td><td>3.0       </td><td>0         </td><td>0.08832044</td><td> TRUE     </td></tr>\n",
       "\t<tr><td>3         </td><td>6.0       </td><td>0         </td><td>0.06216184</td><td> TRUE     </td></tr>\n",
       "\t<tr><td>4         </td><td>1.5       </td><td>1         </td><td>0.03531871</td><td>FALSE     </td></tr>\n",
       "</tbody>\n",
       "</table>\n"
      ],
      "text/latex": [
       "\\begin{tabular}{r|lllll}\n",
       " id & age & income & fluoride & fl\\\\\n",
       "\\hline\n",
       "\t 2          & 3.0        & 1          & 0.00000000 & FALSE     \\\\\n",
       "\t 2          & 6.0        & 1          & 0.05063998 &  TRUE     \\\\\n",
       "\t 2          & 9.0        & 1          & 0.04779446 & FALSE     \\\\\n",
       "\t 3          & 3.0        & 0          & 0.08832044 &  TRUE     \\\\\n",
       "\t 3          & 6.0        & 0          & 0.06216184 &  TRUE     \\\\\n",
       "\t 4          & 1.5        & 1          & 0.03531871 & FALSE     \\\\\n",
       "\\end{tabular}\n"
      ],
      "text/markdown": [
       "\n",
       "| id | age | income | fluoride | fl |\n",
       "|---|---|---|---|---|\n",
       "| 2          | 3.0        | 1          | 0.00000000 | FALSE      |\n",
       "| 2          | 6.0        | 1          | 0.05063998 |  TRUE      |\n",
       "| 2          | 9.0        | 1          | 0.04779446 | FALSE      |\n",
       "| 3          | 3.0        | 0          | 0.08832044 |  TRUE      |\n",
       "| 3          | 6.0        | 0          | 0.06216184 |  TRUE      |\n",
       "| 4          | 1.5        | 1          | 0.03531871 | FALSE      |\n",
       "\n"
      ],
      "text/plain": [
       "  id age income fluoride   fl   \n",
       "1 2  3.0 1      0.00000000 FALSE\n",
       "2 2  6.0 1      0.05063998  TRUE\n",
       "3 2  9.0 1      0.04779446 FALSE\n",
       "4 3  3.0 0      0.08832044  TRUE\n",
       "5 3  6.0 0      0.06216184  TRUE\n",
       "6 4  1.5 1      0.03531871 FALSE"
      ]
     },
     "metadata": {},
     "output_type": "display_data"
    }
   ],
   "source": [
    "head(fluoride.miss.data <- data.table(read.csv('fluoride.miss.csv'), key='id'))"
   ]
  },
  {
   "cell_type": "code",
   "execution_count": 5,
   "metadata": {},
   "outputs": [
    {
     "data": {
      "text/plain": [
       "       id              age            income          fluoride       \n",
       " Min.   :   2.0   Min.   :1.500   Min.   :0.0000   Min.   :0.000000  \n",
       " 1st Qu.: 485.0   1st Qu.:3.000   1st Qu.:1.0000   1st Qu.:0.006707  \n",
       " Median : 975.0   Median :3.000   Median :1.0000   Median :0.042219  \n",
       " Mean   : 954.9   Mean   :4.709   Mean   :0.7811   Mean   :0.064560  \n",
       " 3rd Qu.:1431.0   3rd Qu.:6.000   3rd Qu.:1.0000   3rd Qu.:0.100249  \n",
       " Max.   :1886.0   Max.   :9.000   Max.   :1.0000   Max.   :1.794320  \n",
       "     fl         \n",
       " Mode :logical  \n",
       " FALSE:1679     \n",
       " TRUE :1478     \n",
       "                \n",
       "                \n",
       "                "
      ]
     },
     "metadata": {},
     "output_type": "display_data"
    }
   ],
   "source": [
    "summary(fluoride.miss.data)"
   ]
  },
  {
   "cell_type": "markdown",
   "metadata": {},
   "source": [
    "## Models"
   ]
  },
  {
   "cell_type": "markdown",
   "metadata": {},
   "source": [
    "### General Estimating Equations (GEE)"
   ]
  },
  {
   "cell_type": "code",
   "execution_count": 6,
   "metadata": {},
   "outputs": [
    {
     "name": "stderr",
     "output_type": "stream",
     "text": [
      "Beginning Cgee S-function, @(#) geeformula.q 4.13 98/01/27\n",
      "running glm to get initial regression estimate\n"
     ]
    },
    {
     "name": "stdout",
     "output_type": "stream",
     "text": [
      " (Intercept)          age \n",
      "-0.024537225 -0.002280917 \n"
     ]
    },
    {
     "name": "stderr",
     "output_type": "stream",
     "text": [
      "Beginning Cgee S-function, @(#) geeformula.q 4.13 98/01/27\n",
      "running glm to get initial regression estimate\n"
     ]
    },
    {
     "name": "stdout",
     "output_type": "stream",
     "text": [
      " (Intercept)          age \n",
      "-0.024537225 -0.002280917 \n"
     ]
    },
    {
     "name": "stderr",
     "output_type": "stream",
     "text": [
      "Beginning Cgee S-function, @(#) geeformula.q 4.13 98/01/27\n",
      "running glm to get initial regression estimate\n"
     ]
    },
    {
     "name": "stdout",
     "output_type": "stream",
     "text": [
      "(Intercept)         age      income  age:income \n",
      " 0.57645733 -0.04872948 -0.96444671  0.07683365 \n"
     ]
    },
    {
     "name": "stderr",
     "output_type": "stream",
     "text": [
      "Beginning Cgee S-function, @(#) geeformula.q 4.13 98/01/27\n",
      "running glm to get initial regression estimate\n"
     ]
    },
    {
     "name": "stdout",
     "output_type": "stream",
     "text": [
      "(Intercept)         age      income  age:income \n",
      " 0.57645733 -0.04872948 -0.96444671  0.07683365 \n"
     ]
    }
   ],
   "source": [
    "gee.age.independent <- gee(fl ~ age, id=id,\n",
    "                           family=binomial,\n",
    "                           data=fluoride.data)\n",
    "gee.age.exchangeable <- update(gee.age.independent, corstr='exchangeable')\n",
    "gee.interaction.independent <- update(gee.age.independent, formula=.~. + income + age:income)\n",
    "gee.interaction.exchangeable <- update(gee.interaction.independent, corstr='exchangeable')"
   ]
  },
  {
   "cell_type": "markdown",
   "metadata": {},
   "source": [
    "### General Linear Mixed Models (GLMM)"
   ]
  },
  {
   "cell_type": "code",
   "execution_count": 7,
   "metadata": {},
   "outputs": [],
   "source": [
    "glmm.age <- glmer(fl ~ age + (1|id), family=binomial, data=fluoride.data)\n",
    "glmm.interaction <- update(glmm.age, formula=.~. + income + age:income)"
   ]
  },
  {
   "cell_type": "markdown",
   "metadata": {},
   "source": [
    "### Missing Data and GEE"
   ]
  },
  {
   "cell_type": "code",
   "execution_count": 8,
   "metadata": {},
   "outputs": [
    {
     "name": "stderr",
     "output_type": "stream",
     "text": [
      "Beginning Cgee S-function, @(#) geeformula.q 4.13 98/01/27\n",
      "running glm to get initial regression estimate\n"
     ]
    },
    {
     "name": "stdout",
     "output_type": "stream",
     "text": [
      " (Intercept)          age \n",
      "-0.165918518  0.008153993 \n"
     ]
    },
    {
     "name": "stderr",
     "output_type": "stream",
     "text": [
      "Beginning Cgee S-function, @(#) geeformula.q 4.13 98/01/27\n",
      "running glm to get initial regression estimate\n"
     ]
    },
    {
     "name": "stdout",
     "output_type": "stream",
     "text": [
      " (Intercept)          age \n",
      "-0.165918518  0.008153993 \n"
     ]
    },
    {
     "name": "stderr",
     "output_type": "stream",
     "text": [
      "Beginning Cgee S-function, @(#) geeformula.q 4.13 98/01/27\n",
      "running glm to get initial regression estimate\n"
     ]
    },
    {
     "name": "stdout",
     "output_type": "stream",
     "text": [
      "(Intercept)         age      income  age:income \n",
      " 0.59166829 -0.05778955 -0.97965768  0.08589372 \n"
     ]
    },
    {
     "name": "stderr",
     "output_type": "stream",
     "text": [
      "Beginning Cgee S-function, @(#) geeformula.q 4.13 98/01/27\n",
      "running glm to get initial regression estimate\n"
     ]
    },
    {
     "name": "stdout",
     "output_type": "stream",
     "text": [
      "(Intercept)         age      income  age:income \n",
      " 0.59166829 -0.05778955 -0.97965768  0.08589372 \n"
     ]
    }
   ],
   "source": [
    "gee.age.independent.miss <- update(gee.age.independent, data=fluoride.miss.data)\n",
    "gee.age.exchangeable.miss <- update(gee.age.exchangeable, data=fluoride.miss.data)\n",
    "gee.interaction.independent.miss <- update(gee.interaction.independent, data=fluoride.miss.data)\n",
    "gee.interaction.exchangeable.miss <- update(gee.interaction.exchangeable, data=fluoride.miss.data)"
   ]
  },
  {
   "cell_type": "markdown",
   "metadata": {},
   "source": [
    "### Missing Data and GLMM"
   ]
  },
  {
   "cell_type": "code",
   "execution_count": 9,
   "metadata": {},
   "outputs": [],
   "source": [
    "glmm.age.miss <- update(glmm.age, data=fluoride.miss.data)\n",
    "glmm.interaction.miss <- update(glmm.interaction, data=fluoride.miss.data)"
   ]
  },
  {
   "cell_type": "markdown",
   "metadata": {},
   "source": [
    "### Estimates and Standard Errors"
   ]
  },
  {
   "cell_type": "code",
   "execution_count": 10,
   "metadata": {},
   "outputs": [],
   "source": [
    "summarize.model <- function(model) {\n",
    "    coefficients <- summary(model)$coefficients\n",
    "    standard.error <- if (is(model, 'gee')) {\n",
    "        coefficients[,'Robust S.E.']\n",
    "    } else if (is(model, 'glmerMod')) {\n",
    "        coefficients[,'Std. Error']\n",
    "    }\n",
    "    data.frame(coefficient=row.names(coefficients),\n",
    "               estimate=coefficients[,'Estimate'],\n",
    "               standard.error=standard.error,\n",
    "               row.names=NULL)    \n",
    "}"
   ]
  },
  {
   "cell_type": "code",
   "execution_count": 11,
   "metadata": {},
   "outputs": [],
   "source": [
    "key.model <- function(model) {\n",
    "    data.frame(\n",
    "        correlation.structure=if (is(model, 'gee')) {\n",
    "            if (is.null(getCall(model)$corstr)) {\n",
    "                'GEE Independent'\n",
    "            } else {\n",
    "                paste('GEE', toTitleCase(getCall(model)$corstr))\n",
    "            }\n",
    "        } else if (is(model, 'glmerMod')) {\n",
    "            'Mixed Model'\n",
    "        },\n",
    "        has.interaction=nrow(summary(model)$coefficients) == 4,\n",
    "        is.missing=getCall(model)$data == quote(fluoride.miss.data)\n",
    "    )\n",
    "}"
   ]
  },
  {
   "cell_type": "code",
   "execution_count": 12,
   "metadata": {},
   "outputs": [],
   "source": [
    "model.summaries <- do.call(rbind, lapply(list(\n",
    "    gee.age.independent, gee.age.exchangeable, glmm.age,\n",
    "    gee.interaction.independent, gee.interaction.exchangeable, glmm.interaction,\n",
    "    gee.age.independent.miss, gee.age.exchangeable.miss, glmm.age.miss,\n",
    "    gee.interaction.independent.miss, gee.interaction.exchangeable.miss, glmm.interaction.miss),\n",
    "       function(model) {\n",
    "           cbind(key.model(model), summarize.model(model))\n",
    "       }))\n",
    "\n",
    "write.csv(model.summaries, file='model_summaries.csv', row.names=FALSE)"
   ]
  },
  {
   "cell_type": "code",
   "execution_count": 13,
   "metadata": {},
   "outputs": [
    {
     "data": {
      "text/html": [
       "<table>\n",
       "<thead><tr><th></th><th scope=col>a</th><th scope=col>b</th><th scope=col>c</th></tr></thead>\n",
       "<tbody>\n",
       "\t<tr><th scope=row>p</th><td>1</td><td>2</td><td>3</td></tr>\n",
       "</tbody>\n",
       "</table>\n"
      ],
      "text/latex": [
       "\\begin{tabular}{r|lll}\n",
       "  & a & b & c\\\\\n",
       "\\hline\n",
       "\tp & 1 & 2 & 3\\\\\n",
       "\\end{tabular}\n"
      ],
      "text/markdown": [
       "\n",
       "| <!--/--> | a | b | c |\n",
       "|---|---|---|---|\n",
       "| p | 1 | 2 | 3 |\n",
       "\n"
      ],
      "text/plain": [
       "  a b c\n",
       "p 1 2 3"
      ]
     },
     "metadata": {},
     "output_type": "display_data"
    }
   ],
   "source": [
    "data.frame(list(a=c(p=1), b=c(p=2), c=c(p=3)))"
   ]
  },
  {
   "cell_type": "markdown",
   "metadata": {},
   "source": [
    "### Confidence Intervals"
   ]
  },
  {
   "cell_type": "code",
   "execution_count": 14,
   "metadata": {},
   "outputs": [],
   "source": [
    "make.intervals <- function(model, indicator, confidence=0.95) {\n",
    "    beta <- if (is(model, 'gee')) {\n",
    "        coef(model)\n",
    "    } else if (is(model, 'glmerMod')) {\n",
    "        fixef(model)\n",
    "    }\n",
    "    sigma <- if (is(model, 'gee')) {\n",
    "        model$robust.variance\n",
    "    } else if (is(model, 'glmerMod')) {\n",
    "        vcov(model)\n",
    "    }\n",
    "    sigma <- sqrt(as.numeric(t(indicator) %*% sigma %*% indicator))\n",
    "    z <- qnorm((1 - confidence)/2)\n",
    "    estimate <- beta %*% indicator\n",
    "    c(`Point Estimate`=estimate,\n",
    "      `95\\\\% CI lower bound`=z*sigma + estimate,\n",
    "      `95\\\\% CI upper bound`=-z*sigma + estimate)\n",
    "}"
   ]
  },
  {
   "cell_type": "code",
   "execution_count": 15,
   "metadata": {},
   "outputs": [
    {
     "data": {
      "text/html": [
       "<table>\n",
       "<thead><tr><th></th><th scope=col>Point Estimate</th><th scope=col>95\\% CI lower bound</th><th scope=col>95\\% CI upper bound</th></tr></thead>\n",
       "<tbody>\n",
       "\t<tr><th scope=row>GEE Independent</th><td>-0.04872948 </td><td>-0.08354415 </td><td>-0.013914806</td></tr>\n",
       "\t<tr><th scope=row>GEE Exchangeable</th><td>-0.02357841 </td><td>-0.05814036 </td><td> 0.010983553</td></tr>\n",
       "\t<tr><th scope=row>Mixed Model</th><td>-0.05463762 </td><td>-0.11233786 </td><td> 0.003062619</td></tr>\n",
       "</tbody>\n",
       "</table>\n"
      ],
      "text/latex": [
       "\\begin{tabular}{r|lll}\n",
       "  & Point Estimate & 95\\textbackslash{}\\% CI lower bound & 95\\textbackslash{}\\% CI upper bound\\\\\n",
       "\\hline\n",
       "\tGEE Independent & -0.04872948  & -0.08354415  & -0.013914806\\\\\n",
       "\tGEE Exchangeable & -0.02357841  & -0.05814036  &  0.010983553\\\\\n",
       "\tMixed Model & -0.05463762  & -0.11233786  &  0.003062619\\\\\n",
       "\\end{tabular}\n"
      ],
      "text/markdown": [
       "\n",
       "| <!--/--> | Point Estimate | 95\\% CI lower bound | 95\\% CI upper bound |\n",
       "|---|---|---|---|\n",
       "| GEE Independent | -0.04872948  | -0.08354415  | -0.013914806 |\n",
       "| GEE Exchangeable | -0.02357841  | -0.05814036  |  0.010983553 |\n",
       "| Mixed Model | -0.05463762  | -0.11233786  |  0.003062619 |\n",
       "\n"
      ],
      "text/plain": [
       "                 Point Estimate 95\\\\% CI lower bound 95\\\\% CI upper bound\n",
       "GEE Independent  -0.04872948    -0.08354415          -0.013914806        \n",
       "GEE Exchangeable -0.02357841    -0.05814036           0.010983553        \n",
       "Mixed Model      -0.05463762    -0.11233786           0.003062619        "
      ]
     },
     "metadata": {},
     "output_type": "display_data"
    },
    {
     "data": {
      "text/html": [
       "<table>\n",
       "<thead><tr><th></th><th scope=col>Point Estimate</th><th scope=col>95\\% CI lower bound</th><th scope=col>95\\% CI upper bound</th></tr></thead>\n",
       "<tbody>\n",
       "\t<tr><th scope=row>GEE Independent</th><td>0.02810417 </td><td>0.001156858</td><td>0.05505148 </td></tr>\n",
       "\t<tr><th scope=row>GEE Exchangeable</th><td>0.03829750 </td><td>0.012228442</td><td>0.06436657 </td></tr>\n",
       "\t<tr><th scope=row>Mixed Model</th><td>0.07686298 </td><td>0.034625919</td><td>0.11910004 </td></tr>\n",
       "</tbody>\n",
       "</table>\n"
      ],
      "text/latex": [
       "\\begin{tabular}{r|lll}\n",
       "  & Point Estimate & 95\\textbackslash{}\\% CI lower bound & 95\\textbackslash{}\\% CI upper bound\\\\\n",
       "\\hline\n",
       "\tGEE Independent & 0.02810417  & 0.001156858 & 0.05505148 \\\\\n",
       "\tGEE Exchangeable & 0.03829750  & 0.012228442 & 0.06436657 \\\\\n",
       "\tMixed Model & 0.07686298  & 0.034625919 & 0.11910004 \\\\\n",
       "\\end{tabular}\n"
      ],
      "text/markdown": [
       "\n",
       "| <!--/--> | Point Estimate | 95\\% CI lower bound | 95\\% CI upper bound |\n",
       "|---|---|---|---|\n",
       "| GEE Independent | 0.02810417  | 0.001156858 | 0.05505148  |\n",
       "| GEE Exchangeable | 0.03829750  | 0.012228442 | 0.06436657  |\n",
       "| Mixed Model | 0.07686298  | 0.034625919 | 0.11910004  |\n",
       "\n"
      ],
      "text/plain": [
       "                 Point Estimate 95\\\\% CI lower bound 95\\\\% CI upper bound\n",
       "GEE Independent  0.02810417     0.001156858          0.05505148          \n",
       "GEE Exchangeable 0.03829750     0.012228442          0.06436657          \n",
       "Mixed Model      0.07686298     0.034625919          0.11910004          "
      ]
     },
     "metadata": {},
     "output_type": "display_data"
    }
   ],
   "source": [
    "interaction.models <- list(\n",
    "    `GEE Independent`=gee.interaction.independent,\n",
    "    `GEE Exchangeable`=gee.interaction.exchangeable,\n",
    "    `Mixed Model`=glmm.interaction)\n",
    "\n",
    "(beta.1.intervals <- t(data.frame(\n",
    "    lapply(interaction.models, make.intervals, indicator=c(0, 1, 0, 0)), check.names=FALSE)))\n",
    "(beta.1.3.intervals <- t(data.frame(\n",
    "    lapply(interaction.models, make.intervals, indicator=c(0, 1, 0, 1)), check.names=FALSE)))"
   ]
  }
 ],
 "metadata": {
  "kernelspec": {
   "display_name": "R",
   "language": "R",
   "name": "ir"
  },
  "language_info": {
   "codemirror_mode": "r",
   "file_extension": ".r",
   "mimetype": "text/x-r-source",
   "name": "R",
   "pygments_lexer": "r",
   "version": "3.5.2"
  }
 },
 "nbformat": 4,
 "nbformat_minor": 2
}
